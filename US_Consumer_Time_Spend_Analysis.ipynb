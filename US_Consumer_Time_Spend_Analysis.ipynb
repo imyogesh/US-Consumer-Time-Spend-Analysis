{
 "cells": [
  {
   "cell_type": "code",
   "execution_count": 1,
   "metadata": {},
   "outputs": [],
   "source": [
    "# Import Libraries\n",
    "\n",
    "import numpy as np\n",
    "import pandas as pd\n",
    "import matplotlib.pyplot as mlt\n",
    "import seaborn as snr\n",
    "import warnings\n",
    "warnings.filterwarnings('ignore')"
   ]
  },
  {
   "cell_type": "code",
   "execution_count": 2,
   "metadata": {},
   "outputs": [],
   "source": [
    "df=pd.read_excel('./Training Dataset.xlsx')"
   ]
  },
  {
   "cell_type": "code",
   "execution_count": 66,
   "metadata": {},
   "outputs": [],
   "source": [
    "# data without removal of outliers\n",
    "\n",
    "data=pd.read_excel('./Training Dataset.xlsx')"
   ]
  },
  {
   "cell_type": "code",
   "execution_count": 3,
   "metadata": {},
   "outputs": [
    {
     "ename": "NameError",
     "evalue": "name 'data' is not defined",
     "output_type": "error",
     "traceback": [
      "\u001b[1;31m---------------------------------------------------------------------------\u001b[0m",
      "\u001b[1;31mNameError\u001b[0m                                 Traceback (most recent call last)",
      "\u001b[1;32m<ipython-input-3-d8bf3d65868d>\u001b[0m in \u001b[0;36m<module>\u001b[1;34m\u001b[0m\n\u001b[1;32m----> 1\u001b[1;33m \u001b[1;36m100\u001b[0m\u001b[1;33m*\u001b[0m\u001b[0mdata\u001b[0m\u001b[1;33m[\u001b[0m\u001b[1;34m'Employment Status'\u001b[0m\u001b[1;33m]\u001b[0m\u001b[1;33m.\u001b[0m\u001b[0mvalue_counts\u001b[0m\u001b[1;33m(\u001b[0m\u001b[1;33m)\u001b[0m\u001b[1;33m/\u001b[0m\u001b[0mlen\u001b[0m\u001b[1;33m(\u001b[0m\u001b[0mdata\u001b[0m\u001b[1;33m[\u001b[0m\u001b[1;34m'Employment Status'\u001b[0m\u001b[1;33m]\u001b[0m\u001b[1;33m)\u001b[0m\u001b[1;33m\u001b[0m\u001b[1;33m\u001b[0m\u001b[0m\n\u001b[0m",
      "\u001b[1;31mNameError\u001b[0m: name 'data' is not defined"
     ]
    }
   ],
   "source": [
    "100*data['Employment Status'].value_counts()/len(data['Employment Status'])"
   ]
  },
  {
   "cell_type": "code",
   "execution_count": 4,
   "metadata": {},
   "outputs": [
    {
     "data": {
      "text/html": [
       "<div>\n",
       "<style scoped>\n",
       "    .dataframe tbody tr th:only-of-type {\n",
       "        vertical-align: middle;\n",
       "    }\n",
       "\n",
       "    .dataframe tbody tr th {\n",
       "        vertical-align: top;\n",
       "    }\n",
       "\n",
       "    .dataframe thead th {\n",
       "        text-align: right;\n",
       "    }\n",
       "</style>\n",
       "<table border=\"1\" class=\"dataframe\">\n",
       "  <thead>\n",
       "    <tr style=\"text-align: right;\">\n",
       "      <th></th>\n",
       "      <th>Id</th>\n",
       "      <th>Education Level</th>\n",
       "      <th>Age</th>\n",
       "      <th>Age Range</th>\n",
       "      <th>Employment Status</th>\n",
       "      <th>Gender</th>\n",
       "      <th>Children</th>\n",
       "      <th>Weekly Earnings</th>\n",
       "      <th>Year</th>\n",
       "      <th>Weekly Hours Worked</th>\n",
       "      <th>...</th>\n",
       "      <th>Playing with Children</th>\n",
       "      <th>Job Searching</th>\n",
       "      <th>Shopping</th>\n",
       "      <th>Eating and Drinking</th>\n",
       "      <th>Socializing &amp; Relaxing</th>\n",
       "      <th>Television</th>\n",
       "      <th>Golfing</th>\n",
       "      <th>Running</th>\n",
       "      <th>Volunteering</th>\n",
       "      <th>Total</th>\n",
       "    </tr>\n",
       "  </thead>\n",
       "  <tbody>\n",
       "    <tr>\n",
       "      <th>0</th>\n",
       "      <td>1</td>\n",
       "      <td>High School</td>\n",
       "      <td>51</td>\n",
       "      <td>50-59</td>\n",
       "      <td>Unemployed</td>\n",
       "      <td>Female</td>\n",
       "      <td>0</td>\n",
       "      <td>0</td>\n",
       "      <td>2005</td>\n",
       "      <td>0</td>\n",
       "      <td>...</td>\n",
       "      <td>0</td>\n",
       "      <td>0</td>\n",
       "      <td>0</td>\n",
       "      <td>40</td>\n",
       "      <td>180</td>\n",
       "      <td>120</td>\n",
       "      <td>0</td>\n",
       "      <td>0</td>\n",
       "      <td>0</td>\n",
       "      <td>24.000000</td>\n",
       "    </tr>\n",
       "    <tr>\n",
       "      <th>1</th>\n",
       "      <td>2</td>\n",
       "      <td>Bachelor</td>\n",
       "      <td>42</td>\n",
       "      <td>40-49</td>\n",
       "      <td>Employed</td>\n",
       "      <td>Female</td>\n",
       "      <td>2</td>\n",
       "      <td>1480</td>\n",
       "      <td>2005</td>\n",
       "      <td>40</td>\n",
       "      <td>...</td>\n",
       "      <td>20</td>\n",
       "      <td>0</td>\n",
       "      <td>120</td>\n",
       "      <td>40</td>\n",
       "      <td>15</td>\n",
       "      <td>15</td>\n",
       "      <td>0</td>\n",
       "      <td>0</td>\n",
       "      <td>0</td>\n",
       "      <td>21.583333</td>\n",
       "    </tr>\n",
       "    <tr>\n",
       "      <th>2</th>\n",
       "      <td>3</td>\n",
       "      <td>Master</td>\n",
       "      <td>47</td>\n",
       "      <td>40-49</td>\n",
       "      <td>Employed</td>\n",
       "      <td>Male</td>\n",
       "      <td>0</td>\n",
       "      <td>904</td>\n",
       "      <td>2005</td>\n",
       "      <td>40</td>\n",
       "      <td>...</td>\n",
       "      <td>0</td>\n",
       "      <td>0</td>\n",
       "      <td>15</td>\n",
       "      <td>85</td>\n",
       "      <td>214</td>\n",
       "      <td>199</td>\n",
       "      <td>0</td>\n",
       "      <td>0</td>\n",
       "      <td>0</td>\n",
       "      <td>17.733333</td>\n",
       "    </tr>\n",
       "    <tr>\n",
       "      <th>3</th>\n",
       "      <td>4</td>\n",
       "      <td>Some College</td>\n",
       "      <td>21</td>\n",
       "      <td>20-29</td>\n",
       "      <td>Employed</td>\n",
       "      <td>Female</td>\n",
       "      <td>0</td>\n",
       "      <td>320</td>\n",
       "      <td>2005</td>\n",
       "      <td>40</td>\n",
       "      <td>...</td>\n",
       "      <td>0</td>\n",
       "      <td>0</td>\n",
       "      <td>105</td>\n",
       "      <td>30</td>\n",
       "      <td>240</td>\n",
       "      <td>240</td>\n",
       "      <td>0</td>\n",
       "      <td>0</td>\n",
       "      <td>0</td>\n",
       "      <td>26.833333</td>\n",
       "    </tr>\n",
       "    <tr>\n",
       "      <th>4</th>\n",
       "      <td>5</td>\n",
       "      <td>High School</td>\n",
       "      <td>49</td>\n",
       "      <td>40-49</td>\n",
       "      <td>Not in labor force</td>\n",
       "      <td>Female</td>\n",
       "      <td>0</td>\n",
       "      <td>0</td>\n",
       "      <td>2005</td>\n",
       "      <td>0</td>\n",
       "      <td>...</td>\n",
       "      <td>0</td>\n",
       "      <td>0</td>\n",
       "      <td>0</td>\n",
       "      <td>35</td>\n",
       "      <td>600</td>\n",
       "      <td>40</td>\n",
       "      <td>0</td>\n",
       "      <td>0</td>\n",
       "      <td>0</td>\n",
       "      <td>23.750000</td>\n",
       "    </tr>\n",
       "  </tbody>\n",
       "</table>\n",
       "<p>5 rows × 25 columns</p>\n",
       "</div>"
      ],
      "text/plain": [
       "   Id Education Level  Age Age Range   Employment Status  Gender  Children  \\\n",
       "0   1     High School   51     50-59          Unemployed  Female         0   \n",
       "1   2        Bachelor   42     40-49            Employed  Female         2   \n",
       "2   3          Master   47     40-49            Employed    Male         0   \n",
       "3   4    Some College   21     20-29            Employed  Female         0   \n",
       "4   5     High School   49     40-49  Not in labor force  Female         0   \n",
       "\n",
       "   Weekly Earnings  Year  Weekly Hours Worked  ...  Playing with Children  \\\n",
       "0                0  2005                    0  ...                      0   \n",
       "1             1480  2005                   40  ...                     20   \n",
       "2              904  2005                   40  ...                      0   \n",
       "3              320  2005                   40  ...                      0   \n",
       "4                0  2005                    0  ...                      0   \n",
       "\n",
       "   Job Searching  Shopping  Eating and Drinking  Socializing & Relaxing  \\\n",
       "0              0         0                   40                     180   \n",
       "1              0       120                   40                      15   \n",
       "2              0        15                   85                     214   \n",
       "3              0       105                   30                     240   \n",
       "4              0         0                   35                     600   \n",
       "\n",
       "   Television  Golfing  Running  Volunteering      Total  \n",
       "0         120        0        0             0  24.000000  \n",
       "1          15        0        0             0  21.583333  \n",
       "2         199        0        0             0  17.733333  \n",
       "3         240        0        0             0  26.833333  \n",
       "4          40        0        0             0  23.750000  \n",
       "\n",
       "[5 rows x 25 columns]"
      ]
     },
     "execution_count": 4,
     "metadata": {},
     "output_type": "execute_result"
    }
   ],
   "source": [
    "df.head()"
   ]
  },
  {
   "cell_type": "code",
   "execution_count": 5,
   "metadata": {},
   "outputs": [
    {
     "data": {
      "text/plain": [
       "(64006, 25)"
      ]
     },
     "execution_count": 5,
     "metadata": {},
     "output_type": "execute_result"
    }
   ],
   "source": [
    "df.shape"
   ]
  },
  {
   "cell_type": "code",
   "execution_count": 6,
   "metadata": {},
   "outputs": [
    {
     "data": {
      "text/plain": [
       "Id                        0.0\n",
       "Education Level           0.0\n",
       "Age                       0.0\n",
       "Age Range                 0.0\n",
       "Employment Status         0.0\n",
       "Gender                    0.0\n",
       "Children                  0.0\n",
       "Weekly Earnings           0.0\n",
       "Year                      0.0\n",
       "Weekly Hours Worked       0.0\n",
       "Sleeping                  0.0\n",
       "Grooming                  0.0\n",
       "Housework                 0.0\n",
       "Food & Drink Prep         0.0\n",
       "Caring for Children       0.0\n",
       "Playing with Children     0.0\n",
       "Job Searching             0.0\n",
       "Shopping                  0.0\n",
       "Eating and Drinking       0.0\n",
       "Socializing & Relaxing    0.0\n",
       "Television                0.0\n",
       "Golfing                   0.0\n",
       "Running                   0.0\n",
       "Volunteering              0.0\n",
       "Total                     0.0\n",
       "dtype: float64"
      ]
     },
     "execution_count": 6,
     "metadata": {},
     "output_type": "execute_result"
    }
   ],
   "source": [
    "df.isnull().sum()/len(df)"
   ]
  },
  {
   "cell_type": "code",
   "execution_count": 7,
   "metadata": {},
   "outputs": [
    {
     "name": "stdout",
     "output_type": "stream",
     "text": [
      "<class 'pandas.core.frame.DataFrame'>\n",
      "RangeIndex: 64006 entries, 0 to 64005\n",
      "Data columns (total 25 columns):\n",
      "Id                        64006 non-null int64\n",
      "Education Level           64006 non-null object\n",
      "Age                       64006 non-null int64\n",
      "Age Range                 64006 non-null object\n",
      "Employment Status         64006 non-null object\n",
      "Gender                    64006 non-null object\n",
      "Children                  64006 non-null int64\n",
      "Weekly Earnings           64006 non-null int64\n",
      "Year                      64006 non-null int64\n",
      "Weekly Hours Worked       64006 non-null int64\n",
      "Sleeping                  64006 non-null int64\n",
      "Grooming                  64006 non-null int64\n",
      "Housework                 64006 non-null int64\n",
      "Food & Drink Prep         64006 non-null int64\n",
      "Caring for Children       64006 non-null int64\n",
      "Playing with Children     64006 non-null int64\n",
      "Job Searching             64006 non-null int64\n",
      "Shopping                  64006 non-null int64\n",
      "Eating and Drinking       64006 non-null int64\n",
      "Socializing & Relaxing    64006 non-null int64\n",
      "Television                64006 non-null int64\n",
      "Golfing                   64006 non-null int64\n",
      "Running                   64006 non-null int64\n",
      "Volunteering              64006 non-null int64\n",
      "Total                     64006 non-null float64\n",
      "dtypes: float64(1), int64(20), object(4)\n",
      "memory usage: 12.2+ MB\n"
     ]
    }
   ],
   "source": [
    "df.info()"
   ]
  },
  {
   "cell_type": "code",
   "execution_count": 8,
   "metadata": {},
   "outputs": [
    {
     "data": {
      "text/html": [
       "<div>\n",
       "<style scoped>\n",
       "    .dataframe tbody tr th:only-of-type {\n",
       "        vertical-align: middle;\n",
       "    }\n",
       "\n",
       "    .dataframe tbody tr th {\n",
       "        vertical-align: top;\n",
       "    }\n",
       "\n",
       "    .dataframe thead th {\n",
       "        text-align: right;\n",
       "    }\n",
       "</style>\n",
       "<table border=\"1\" class=\"dataframe\">\n",
       "  <thead>\n",
       "    <tr style=\"text-align: right;\">\n",
       "      <th></th>\n",
       "      <th>Id</th>\n",
       "      <th>Age</th>\n",
       "      <th>Children</th>\n",
       "      <th>Weekly Earnings</th>\n",
       "      <th>Year</th>\n",
       "      <th>Weekly Hours Worked</th>\n",
       "      <th>Sleeping</th>\n",
       "      <th>Grooming</th>\n",
       "      <th>Housework</th>\n",
       "      <th>Food &amp; Drink Prep</th>\n",
       "      <th>...</th>\n",
       "      <th>Playing with Children</th>\n",
       "      <th>Job Searching</th>\n",
       "      <th>Shopping</th>\n",
       "      <th>Eating and Drinking</th>\n",
       "      <th>Socializing &amp; Relaxing</th>\n",
       "      <th>Television</th>\n",
       "      <th>Golfing</th>\n",
       "      <th>Running</th>\n",
       "      <th>Volunteering</th>\n",
       "      <th>Total</th>\n",
       "    </tr>\n",
       "  </thead>\n",
       "  <tbody>\n",
       "    <tr>\n",
       "      <th>count</th>\n",
       "      <td>64006.000000</td>\n",
       "      <td>64006.000000</td>\n",
       "      <td>64006.000000</td>\n",
       "      <td>64006.000000</td>\n",
       "      <td>64006.000000</td>\n",
       "      <td>64006.000000</td>\n",
       "      <td>64006.000000</td>\n",
       "      <td>64006.000000</td>\n",
       "      <td>64006.000000</td>\n",
       "      <td>64006.000000</td>\n",
       "      <td>...</td>\n",
       "      <td>64006.000000</td>\n",
       "      <td>64006.000000</td>\n",
       "      <td>64006.000000</td>\n",
       "      <td>64006.000000</td>\n",
       "      <td>64006.000000</td>\n",
       "      <td>64006.000000</td>\n",
       "      <td>64006.000000</td>\n",
       "      <td>64006.000000</td>\n",
       "      <td>64006.000000</td>\n",
       "      <td>64006.000000</td>\n",
       "    </tr>\n",
       "    <tr>\n",
       "      <th>mean</th>\n",
       "      <td>32003.500000</td>\n",
       "      <td>46.260569</td>\n",
       "      <td>0.891291</td>\n",
       "      <td>485.697872</td>\n",
       "      <td>2008.500109</td>\n",
       "      <td>24.508796</td>\n",
       "      <td>522.240368</td>\n",
       "      <td>40.591116</td>\n",
       "      <td>41.246618</td>\n",
       "      <td>34.287879</td>\n",
       "      <td>...</td>\n",
       "      <td>8.498172</td>\n",
       "      <td>1.700606</td>\n",
       "      <td>24.668234</td>\n",
       "      <td>68.652189</td>\n",
       "      <td>288.137925</td>\n",
       "      <td>165.160735</td>\n",
       "      <td>1.293191</td>\n",
       "      <td>0.686201</td>\n",
       "      <td>9.831953</td>\n",
       "      <td>20.615301</td>\n",
       "    </tr>\n",
       "    <tr>\n",
       "      <th>std</th>\n",
       "      <td>18477.085002</td>\n",
       "      <td>17.396500</td>\n",
       "      <td>1.146851</td>\n",
       "      <td>639.891303</td>\n",
       "      <td>2.291258</td>\n",
       "      <td>22.274917</td>\n",
       "      <td>135.669820</td>\n",
       "      <td>36.713372</td>\n",
       "      <td>82.483654</td>\n",
       "      <td>53.508507</td>\n",
       "      <td>...</td>\n",
       "      <td>39.001215</td>\n",
       "      <td>20.706929</td>\n",
       "      <td>49.144949</td>\n",
       "      <td>52.639850</td>\n",
       "      <td>206.163299</td>\n",
       "      <td>168.431664</td>\n",
       "      <td>18.539409</td>\n",
       "      <td>7.421383</td>\n",
       "      <td>49.762815</td>\n",
       "      <td>6.194366</td>\n",
       "    </tr>\n",
       "    <tr>\n",
       "      <th>min</th>\n",
       "      <td>1.000000</td>\n",
       "      <td>15.000000</td>\n",
       "      <td>0.000000</td>\n",
       "      <td>0.000000</td>\n",
       "      <td>2005.000000</td>\n",
       "      <td>0.000000</td>\n",
       "      <td>0.000000</td>\n",
       "      <td>0.000000</td>\n",
       "      <td>0.000000</td>\n",
       "      <td>0.000000</td>\n",
       "      <td>...</td>\n",
       "      <td>0.000000</td>\n",
       "      <td>0.000000</td>\n",
       "      <td>0.000000</td>\n",
       "      <td>0.000000</td>\n",
       "      <td>0.000000</td>\n",
       "      <td>0.000000</td>\n",
       "      <td>0.000000</td>\n",
       "      <td>0.000000</td>\n",
       "      <td>0.000000</td>\n",
       "      <td>0.000000</td>\n",
       "    </tr>\n",
       "    <tr>\n",
       "      <th>25%</th>\n",
       "      <td>16002.250000</td>\n",
       "      <td>33.000000</td>\n",
       "      <td>0.000000</td>\n",
       "      <td>0.000000</td>\n",
       "      <td>2007.000000</td>\n",
       "      <td>0.000000</td>\n",
       "      <td>445.000000</td>\n",
       "      <td>10.000000</td>\n",
       "      <td>0.000000</td>\n",
       "      <td>0.000000</td>\n",
       "      <td>...</td>\n",
       "      <td>0.000000</td>\n",
       "      <td>0.000000</td>\n",
       "      <td>0.000000</td>\n",
       "      <td>30.000000</td>\n",
       "      <td>125.000000</td>\n",
       "      <td>30.000000</td>\n",
       "      <td>0.000000</td>\n",
       "      <td>0.000000</td>\n",
       "      <td>0.000000</td>\n",
       "      <td>15.833333</td>\n",
       "    </tr>\n",
       "    <tr>\n",
       "      <th>50%</th>\n",
       "      <td>32003.500000</td>\n",
       "      <td>45.000000</td>\n",
       "      <td>0.000000</td>\n",
       "      <td>240.000000</td>\n",
       "      <td>2009.000000</td>\n",
       "      <td>30.000000</td>\n",
       "      <td>510.000000</td>\n",
       "      <td>30.000000</td>\n",
       "      <td>0.000000</td>\n",
       "      <td>10.000000</td>\n",
       "      <td>...</td>\n",
       "      <td>0.000000</td>\n",
       "      <td>0.000000</td>\n",
       "      <td>0.000000</td>\n",
       "      <td>60.000000</td>\n",
       "      <td>250.000000</td>\n",
       "      <td>120.000000</td>\n",
       "      <td>0.000000</td>\n",
       "      <td>0.000000</td>\n",
       "      <td>0.000000</td>\n",
       "      <td>20.500000</td>\n",
       "    </tr>\n",
       "    <tr>\n",
       "      <th>75%</th>\n",
       "      <td>48004.750000</td>\n",
       "      <td>59.000000</td>\n",
       "      <td>2.000000</td>\n",
       "      <td>769.000000</td>\n",
       "      <td>2010.750000</td>\n",
       "      <td>40.000000</td>\n",
       "      <td>600.000000</td>\n",
       "      <td>60.000000</td>\n",
       "      <td>55.000000</td>\n",
       "      <td>50.000000</td>\n",
       "      <td>...</td>\n",
       "      <td>0.000000</td>\n",
       "      <td>0.000000</td>\n",
       "      <td>30.000000</td>\n",
       "      <td>90.000000</td>\n",
       "      <td>414.000000</td>\n",
       "      <td>240.000000</td>\n",
       "      <td>0.000000</td>\n",
       "      <td>0.000000</td>\n",
       "      <td>0.000000</td>\n",
       "      <td>24.833333</td>\n",
       "    </tr>\n",
       "    <tr>\n",
       "      <th>max</th>\n",
       "      <td>64006.000000</td>\n",
       "      <td>85.000000</td>\n",
       "      <td>12.000000</td>\n",
       "      <td>2885.000000</td>\n",
       "      <td>2012.000000</td>\n",
       "      <td>160.000000</td>\n",
       "      <td>1423.000000</td>\n",
       "      <td>1043.000000</td>\n",
       "      <td>1405.000000</td>\n",
       "      <td>995.000000</td>\n",
       "      <td>...</td>\n",
       "      <td>840.000000</td>\n",
       "      <td>983.000000</td>\n",
       "      <td>879.000000</td>\n",
       "      <td>895.000000</td>\n",
       "      <td>1434.000000</td>\n",
       "      <td>1380.000000</td>\n",
       "      <td>600.000000</td>\n",
       "      <td>505.000000</td>\n",
       "      <td>1127.000000</td>\n",
       "      <td>46.666667</td>\n",
       "    </tr>\n",
       "  </tbody>\n",
       "</table>\n",
       "<p>8 rows × 21 columns</p>\n",
       "</div>"
      ],
      "text/plain": [
       "                 Id           Age      Children  Weekly Earnings  \\\n",
       "count  64006.000000  64006.000000  64006.000000     64006.000000   \n",
       "mean   32003.500000     46.260569      0.891291       485.697872   \n",
       "std    18477.085002     17.396500      1.146851       639.891303   \n",
       "min        1.000000     15.000000      0.000000         0.000000   \n",
       "25%    16002.250000     33.000000      0.000000         0.000000   \n",
       "50%    32003.500000     45.000000      0.000000       240.000000   \n",
       "75%    48004.750000     59.000000      2.000000       769.000000   \n",
       "max    64006.000000     85.000000     12.000000      2885.000000   \n",
       "\n",
       "               Year  Weekly Hours Worked      Sleeping      Grooming  \\\n",
       "count  64006.000000         64006.000000  64006.000000  64006.000000   \n",
       "mean    2008.500109            24.508796    522.240368     40.591116   \n",
       "std        2.291258            22.274917    135.669820     36.713372   \n",
       "min     2005.000000             0.000000      0.000000      0.000000   \n",
       "25%     2007.000000             0.000000    445.000000     10.000000   \n",
       "50%     2009.000000            30.000000    510.000000     30.000000   \n",
       "75%     2010.750000            40.000000    600.000000     60.000000   \n",
       "max     2012.000000           160.000000   1423.000000   1043.000000   \n",
       "\n",
       "          Housework  Food & Drink Prep  ...  Playing with Children  \\\n",
       "count  64006.000000       64006.000000  ...           64006.000000   \n",
       "mean      41.246618          34.287879  ...               8.498172   \n",
       "std       82.483654          53.508507  ...              39.001215   \n",
       "min        0.000000           0.000000  ...               0.000000   \n",
       "25%        0.000000           0.000000  ...               0.000000   \n",
       "50%        0.000000          10.000000  ...               0.000000   \n",
       "75%       55.000000          50.000000  ...               0.000000   \n",
       "max     1405.000000         995.000000  ...             840.000000   \n",
       "\n",
       "       Job Searching      Shopping  Eating and Drinking  \\\n",
       "count   64006.000000  64006.000000         64006.000000   \n",
       "mean        1.700606     24.668234            68.652189   \n",
       "std        20.706929     49.144949            52.639850   \n",
       "min         0.000000      0.000000             0.000000   \n",
       "25%         0.000000      0.000000            30.000000   \n",
       "50%         0.000000      0.000000            60.000000   \n",
       "75%         0.000000     30.000000            90.000000   \n",
       "max       983.000000    879.000000           895.000000   \n",
       "\n",
       "       Socializing & Relaxing    Television       Golfing       Running  \\\n",
       "count            64006.000000  64006.000000  64006.000000  64006.000000   \n",
       "mean               288.137925    165.160735      1.293191      0.686201   \n",
       "std                206.163299    168.431664     18.539409      7.421383   \n",
       "min                  0.000000      0.000000      0.000000      0.000000   \n",
       "25%                125.000000     30.000000      0.000000      0.000000   \n",
       "50%                250.000000    120.000000      0.000000      0.000000   \n",
       "75%                414.000000    240.000000      0.000000      0.000000   \n",
       "max               1434.000000   1380.000000    600.000000    505.000000   \n",
       "\n",
       "       Volunteering         Total  \n",
       "count  64006.000000  64006.000000  \n",
       "mean       9.831953     20.615301  \n",
       "std       49.762815      6.194366  \n",
       "min        0.000000      0.000000  \n",
       "25%        0.000000     15.833333  \n",
       "50%        0.000000     20.500000  \n",
       "75%        0.000000     24.833333  \n",
       "max     1127.000000     46.666667  \n",
       "\n",
       "[8 rows x 21 columns]"
      ]
     },
     "execution_count": 8,
     "metadata": {},
     "output_type": "execute_result"
    }
   ],
   "source": [
    "df.describe()"
   ]
  },
  {
   "cell_type": "code",
   "execution_count": 3,
   "metadata": {},
   "outputs": [],
   "source": [
    "df=df.drop(['Id'], axis=1)\n"
   ]
  },
  {
   "cell_type": "code",
   "execution_count": 4,
   "metadata": {},
   "outputs": [],
   "source": [
    "df=df.drop(['Total'], axis=1)\n"
   ]
  },
  {
   "cell_type": "code",
   "execution_count": 5,
   "metadata": {},
   "outputs": [
    {
     "name": "stdout",
     "output_type": "stream",
     "text": [
      "Education Level ['High School' 'Bachelor' 'Master' 'Some College' '11th grade'\n",
      " 'Associate Degree' '9th grade' '10th grade' 'Prof. Degree' '12th grade'\n",
      " 'Doctoral Degree'] \n",
      "\n",
      "Age [51 42 47 21 49 44 46 24 30 26 32 43 22 80 62 39 38 57 40 61] \n",
      "\n",
      "Age Range ['50-59' '40-49' '20-29' '30-39' '80+' '60-69' '0-19' '70-79'] \n",
      "\n",
      "Employment Status ['Unemployed' 'Employed' 'Not in labor force'] \n",
      "\n",
      "Gender ['Female' 'Male'] \n",
      "\n",
      "Children [ 0  2  1  4  3  5  6  8  7 11 10  9 12] \n",
      "\n",
      "Weekly Earnings [   0 1480  904  320  700  442  378 1000  100  396  788  380 1385  485\n",
      "  769 1202 1269  962  316  500] \n",
      "\n",
      "Year [2005 2006 2007 2008 2009 2010 2011 2012] \n",
      "\n",
      "Weekly Hours Worked [  0  40  45  60  10  71  30  55  50  20  16  35  15  52  61  47   5  38\n",
      " 100  29] \n",
      "\n",
      "Sleeping [ 825  500  480  705  470  750  445  435  510  539 1260  720  430  870\n",
      "  277  490  390  457  570  780] \n",
      "\n",
      "Grooming [ 80  10  70  65  60  20   0  30  57 120  90  40  67  25  15  75  50  45\n",
      "  85   5] \n",
      "\n",
      "Housework [150   1  90 205   0 270  45 195  30 120   5 210 105 220 240  60  10  40\n",
      " 175  15] \n",
      "\n",
      "Food & Drink Prep [ 45  60   0 135  15  70  30 255 160   3 120   1   5  22  10  25 108  20\n",
      "  80  35] \n",
      "\n",
      "Caring for Children [  0 365 120 147  33  70 205   1  15   5  99 240  35  64 110  59 140 137\n",
      " 170  51] \n",
      "\n",
      "Playing with Children [  0  20 225  50  60 135 120  65  40 375 240 150  30  70 332 350 180  86\n",
      "  45 190] \n",
      "\n",
      "Job Searching [  0  90  60  15 225  50 220 210  30 180 343 300 570 150  20 120 490 105\n",
      " 240 134] \n",
      "\n",
      "Shopping [  0 120  15 105  20  80  30  25  35  90 165   5  45  60  10   1 110 115\n",
      " 390 128] \n",
      "\n",
      "Eating and Drinking [ 40  85  30  35  15  60   0  90 140  45   5  99 125  70  20  32  69 135\n",
      " 126 150] \n",
      "\n",
      "Socializing & Relaxing [180  15 214 240 600 596 165   0 225 330 313 450 120 300 270 440 706 480\n",
      " 470 265] \n",
      "\n",
      "Television [120  15 199 240  40  84 150   0  90 210 180  75 290 474 200 410 265 208\n",
      " 380 360] \n",
      "\n",
      "Golfing [  0 140 240 255 270 490 252  60  30 345 260 235 330 150 137 120 315 360\n",
      "  75 210] \n",
      "\n",
      "Running [  0  30  28  25  80  60  40  35  90  20  45  15 180  50   5   7 170 120\n",
      " 105 125] \n",
      "\n",
      "Volunteering [  0  15 185  88  10 297 135  53 145  81  60 190  30   5 335 891 150  90\n",
      " 164  20] \n",
      "\n"
     ]
    }
   ],
   "source": [
    "# lets check for unique values\n",
    "\n",
    "for col in df:\n",
    "    print(col, df[col].unique()[:20],'\\n')"
   ]
  },
  {
   "cell_type": "code",
   "execution_count": 6,
   "metadata": {},
   "outputs": [],
   "source": [
    "#Lets convert year into objct\n",
    "df['Year']=df['Year'].astype('O')"
   ]
  },
  {
   "cell_type": "code",
   "execution_count": 7,
   "metadata": {},
   "outputs": [
    {
     "data": {
      "text/html": [
       "<div>\n",
       "<style scoped>\n",
       "    .dataframe tbody tr th:only-of-type {\n",
       "        vertical-align: middle;\n",
       "    }\n",
       "\n",
       "    .dataframe tbody tr th {\n",
       "        vertical-align: top;\n",
       "    }\n",
       "\n",
       "    .dataframe thead th {\n",
       "        text-align: right;\n",
       "    }\n",
       "</style>\n",
       "<table border=\"1\" class=\"dataframe\">\n",
       "  <thead>\n",
       "    <tr style=\"text-align: right;\">\n",
       "      <th></th>\n",
       "      <th>Age</th>\n",
       "      <th>Children</th>\n",
       "      <th>Weekly Earnings</th>\n",
       "      <th>Weekly Hours Worked</th>\n",
       "      <th>Sleeping</th>\n",
       "      <th>Grooming</th>\n",
       "      <th>Housework</th>\n",
       "      <th>Food &amp; Drink Prep</th>\n",
       "      <th>Caring for Children</th>\n",
       "      <th>Playing with Children</th>\n",
       "      <th>Job Searching</th>\n",
       "      <th>Shopping</th>\n",
       "      <th>Eating and Drinking</th>\n",
       "      <th>Socializing &amp; Relaxing</th>\n",
       "      <th>Television</th>\n",
       "      <th>Golfing</th>\n",
       "      <th>Running</th>\n",
       "      <th>Volunteering</th>\n",
       "    </tr>\n",
       "  </thead>\n",
       "  <tbody>\n",
       "    <tr>\n",
       "      <th>count</th>\n",
       "      <td>41098.000000</td>\n",
       "      <td>41098.000000</td>\n",
       "      <td>41098.000000</td>\n",
       "      <td>41098.000000</td>\n",
       "      <td>41098.000000</td>\n",
       "      <td>41098.000000</td>\n",
       "      <td>41098.000000</td>\n",
       "      <td>41098.000000</td>\n",
       "      <td>41098.000000</td>\n",
       "      <td>41098.000000</td>\n",
       "      <td>41098.000000</td>\n",
       "      <td>41098.000000</td>\n",
       "      <td>41098.000000</td>\n",
       "      <td>41098.000000</td>\n",
       "      <td>41098.000000</td>\n",
       "      <td>41098.000000</td>\n",
       "      <td>41098.000000</td>\n",
       "      <td>41098.000000</td>\n",
       "    </tr>\n",
       "    <tr>\n",
       "      <th>mean</th>\n",
       "      <td>42.385712</td>\n",
       "      <td>0.978320</td>\n",
       "      <td>756.425568</td>\n",
       "      <td>38.169984</td>\n",
       "      <td>508.438415</td>\n",
       "      <td>41.668986</td>\n",
       "      <td>36.042168</td>\n",
       "      <td>29.087547</td>\n",
       "      <td>30.725923</td>\n",
       "      <td>8.794175</td>\n",
       "      <td>0.506983</td>\n",
       "      <td>24.724244</td>\n",
       "      <td>67.754076</td>\n",
       "      <td>235.931335</td>\n",
       "      <td>133.943671</td>\n",
       "      <td>1.329481</td>\n",
       "      <td>0.780306</td>\n",
       "      <td>8.898900</td>\n",
       "    </tr>\n",
       "    <tr>\n",
       "      <th>std</th>\n",
       "      <td>13.238091</td>\n",
       "      <td>1.131968</td>\n",
       "      <td>657.958465</td>\n",
       "      <td>15.851958</td>\n",
       "      <td>129.681133</td>\n",
       "      <td>35.025107</td>\n",
       "      <td>76.393757</td>\n",
       "      <td>47.393238</td>\n",
       "      <td>73.363468</td>\n",
       "      <td>39.167168</td>\n",
       "      <td>9.858554</td>\n",
       "      <td>48.938202</td>\n",
       "      <td>52.503347</td>\n",
       "      <td>177.516482</td>\n",
       "      <td>140.134300</td>\n",
       "      <td>18.821230</td>\n",
       "      <td>7.582888</td>\n",
       "      <td>46.870846</td>\n",
       "    </tr>\n",
       "    <tr>\n",
       "      <th>min</th>\n",
       "      <td>15.000000</td>\n",
       "      <td>0.000000</td>\n",
       "      <td>0.000000</td>\n",
       "      <td>0.000000</td>\n",
       "      <td>0.000000</td>\n",
       "      <td>0.000000</td>\n",
       "      <td>0.000000</td>\n",
       "      <td>0.000000</td>\n",
       "      <td>0.000000</td>\n",
       "      <td>0.000000</td>\n",
       "      <td>0.000000</td>\n",
       "      <td>0.000000</td>\n",
       "      <td>0.000000</td>\n",
       "      <td>0.000000</td>\n",
       "      <td>0.000000</td>\n",
       "      <td>0.000000</td>\n",
       "      <td>0.000000</td>\n",
       "      <td>0.000000</td>\n",
       "    </tr>\n",
       "    <tr>\n",
       "      <th>25%</th>\n",
       "      <td>33.000000</td>\n",
       "      <td>0.000000</td>\n",
       "      <td>288.000000</td>\n",
       "      <td>35.000000</td>\n",
       "      <td>430.000000</td>\n",
       "      <td>15.000000</td>\n",
       "      <td>0.000000</td>\n",
       "      <td>0.000000</td>\n",
       "      <td>0.000000</td>\n",
       "      <td>0.000000</td>\n",
       "      <td>0.000000</td>\n",
       "      <td>0.000000</td>\n",
       "      <td>30.000000</td>\n",
       "      <td>105.000000</td>\n",
       "      <td>20.000000</td>\n",
       "      <td>0.000000</td>\n",
       "      <td>0.000000</td>\n",
       "      <td>0.000000</td>\n",
       "    </tr>\n",
       "    <tr>\n",
       "      <th>50%</th>\n",
       "      <td>42.000000</td>\n",
       "      <td>1.000000</td>\n",
       "      <td>610.000000</td>\n",
       "      <td>40.000000</td>\n",
       "      <td>500.000000</td>\n",
       "      <td>35.000000</td>\n",
       "      <td>0.000000</td>\n",
       "      <td>6.500000</td>\n",
       "      <td>0.000000</td>\n",
       "      <td>0.000000</td>\n",
       "      <td>0.000000</td>\n",
       "      <td>0.000000</td>\n",
       "      <td>60.000000</td>\n",
       "      <td>200.000000</td>\n",
       "      <td>105.000000</td>\n",
       "      <td>0.000000</td>\n",
       "      <td>0.000000</td>\n",
       "      <td>0.000000</td>\n",
       "    </tr>\n",
       "    <tr>\n",
       "      <th>75%</th>\n",
       "      <td>52.000000</td>\n",
       "      <td>2.000000</td>\n",
       "      <td>1050.000000</td>\n",
       "      <td>45.000000</td>\n",
       "      <td>577.000000</td>\n",
       "      <td>60.000000</td>\n",
       "      <td>35.000000</td>\n",
       "      <td>45.000000</td>\n",
       "      <td>20.000000</td>\n",
       "      <td>0.000000</td>\n",
       "      <td>0.000000</td>\n",
       "      <td>30.000000</td>\n",
       "      <td>90.000000</td>\n",
       "      <td>330.000000</td>\n",
       "      <td>195.000000</td>\n",
       "      <td>0.000000</td>\n",
       "      <td>0.000000</td>\n",
       "      <td>0.000000</td>\n",
       "    </tr>\n",
       "    <tr>\n",
       "      <th>max</th>\n",
       "      <td>85.000000</td>\n",
       "      <td>10.000000</td>\n",
       "      <td>2885.000000</td>\n",
       "      <td>160.000000</td>\n",
       "      <td>1405.000000</td>\n",
       "      <td>1043.000000</td>\n",
       "      <td>1030.000000</td>\n",
       "      <td>995.000000</td>\n",
       "      <td>985.000000</td>\n",
       "      <td>760.000000</td>\n",
       "      <td>630.000000</td>\n",
       "      <td>550.000000</td>\n",
       "      <td>895.000000</td>\n",
       "      <td>1380.000000</td>\n",
       "      <td>1380.000000</td>\n",
       "      <td>600.000000</td>\n",
       "      <td>505.000000</td>\n",
       "      <td>1127.000000</td>\n",
       "    </tr>\n",
       "  </tbody>\n",
       "</table>\n",
       "</div>"
      ],
      "text/plain": [
       "                Age      Children  Weekly Earnings  Weekly Hours Worked  \\\n",
       "count  41098.000000  41098.000000     41098.000000         41098.000000   \n",
       "mean      42.385712      0.978320       756.425568            38.169984   \n",
       "std       13.238091      1.131968       657.958465            15.851958   \n",
       "min       15.000000      0.000000         0.000000             0.000000   \n",
       "25%       33.000000      0.000000       288.000000            35.000000   \n",
       "50%       42.000000      1.000000       610.000000            40.000000   \n",
       "75%       52.000000      2.000000      1050.000000            45.000000   \n",
       "max       85.000000     10.000000      2885.000000           160.000000   \n",
       "\n",
       "           Sleeping      Grooming     Housework  Food & Drink Prep  \\\n",
       "count  41098.000000  41098.000000  41098.000000       41098.000000   \n",
       "mean     508.438415     41.668986     36.042168          29.087547   \n",
       "std      129.681133     35.025107     76.393757          47.393238   \n",
       "min        0.000000      0.000000      0.000000           0.000000   \n",
       "25%      430.000000     15.000000      0.000000           0.000000   \n",
       "50%      500.000000     35.000000      0.000000           6.500000   \n",
       "75%      577.000000     60.000000     35.000000          45.000000   \n",
       "max     1405.000000   1043.000000   1030.000000         995.000000   \n",
       "\n",
       "       Caring for Children  Playing with Children  Job Searching  \\\n",
       "count         41098.000000           41098.000000   41098.000000   \n",
       "mean             30.725923               8.794175       0.506983   \n",
       "std              73.363468              39.167168       9.858554   \n",
       "min               0.000000               0.000000       0.000000   \n",
       "25%               0.000000               0.000000       0.000000   \n",
       "50%               0.000000               0.000000       0.000000   \n",
       "75%              20.000000               0.000000       0.000000   \n",
       "max             985.000000             760.000000     630.000000   \n",
       "\n",
       "           Shopping  Eating and Drinking  Socializing & Relaxing  \\\n",
       "count  41098.000000         41098.000000            41098.000000   \n",
       "mean      24.724244            67.754076              235.931335   \n",
       "std       48.938202            52.503347              177.516482   \n",
       "min        0.000000             0.000000                0.000000   \n",
       "25%        0.000000            30.000000              105.000000   \n",
       "50%        0.000000            60.000000              200.000000   \n",
       "75%       30.000000            90.000000              330.000000   \n",
       "max      550.000000           895.000000             1380.000000   \n",
       "\n",
       "         Television       Golfing       Running  Volunteering  \n",
       "count  41098.000000  41098.000000  41098.000000  41098.000000  \n",
       "mean     133.943671      1.329481      0.780306      8.898900  \n",
       "std      140.134300     18.821230      7.582888     46.870846  \n",
       "min        0.000000      0.000000      0.000000      0.000000  \n",
       "25%       20.000000      0.000000      0.000000      0.000000  \n",
       "50%      105.000000      0.000000      0.000000      0.000000  \n",
       "75%      195.000000      0.000000      0.000000      0.000000  \n",
       "max     1380.000000    600.000000    505.000000   1127.000000  "
      ]
     },
     "execution_count": 7,
     "metadata": {},
     "output_type": "execute_result"
    }
   ],
   "source": [
    "# lets check for employed individuals\n",
    "\n",
    "employ=df[df['Employment Status']=='Employed']\n",
    "\n",
    "#We see that the minimum value for weekly hours worked and weekly earnings is 0. Something is wrong here.\n",
    "employ.describe()"
   ]
  },
  {
   "cell_type": "code",
   "execution_count": 8,
   "metadata": {},
   "outputs": [
    {
     "data": {
      "text/html": [
       "<div>\n",
       "<style scoped>\n",
       "    .dataframe tbody tr th:only-of-type {\n",
       "        vertical-align: middle;\n",
       "    }\n",
       "\n",
       "    .dataframe tbody tr th {\n",
       "        vertical-align: top;\n",
       "    }\n",
       "\n",
       "    .dataframe thead th {\n",
       "        text-align: right;\n",
       "    }\n",
       "</style>\n",
       "<table border=\"1\" class=\"dataframe\">\n",
       "  <thead>\n",
       "    <tr style=\"text-align: right;\">\n",
       "      <th></th>\n",
       "      <th>Age</th>\n",
       "      <th>Children</th>\n",
       "      <th>Weekly Earnings</th>\n",
       "      <th>Weekly Hours Worked</th>\n",
       "      <th>Sleeping</th>\n",
       "      <th>Grooming</th>\n",
       "      <th>Housework</th>\n",
       "      <th>Food &amp; Drink Prep</th>\n",
       "      <th>Caring for Children</th>\n",
       "      <th>Playing with Children</th>\n",
       "      <th>Job Searching</th>\n",
       "      <th>Shopping</th>\n",
       "      <th>Eating and Drinking</th>\n",
       "      <th>Socializing &amp; Relaxing</th>\n",
       "      <th>Television</th>\n",
       "      <th>Golfing</th>\n",
       "      <th>Running</th>\n",
       "      <th>Volunteering</th>\n",
       "    </tr>\n",
       "  </thead>\n",
       "  <tbody>\n",
       "    <tr>\n",
       "      <th>count</th>\n",
       "      <td>3278.000000</td>\n",
       "      <td>3278.000000</td>\n",
       "      <td>3278.0</td>\n",
       "      <td>3278.0</td>\n",
       "      <td>3278.000000</td>\n",
       "      <td>3278.000000</td>\n",
       "      <td>3278.00000</td>\n",
       "      <td>3278.000000</td>\n",
       "      <td>3278.000000</td>\n",
       "      <td>3278.000000</td>\n",
       "      <td>3278.000000</td>\n",
       "      <td>3278.000000</td>\n",
       "      <td>3278.000000</td>\n",
       "      <td>3278.000000</td>\n",
       "      <td>3278.000000</td>\n",
       "      <td>3278.000000</td>\n",
       "      <td>3278.000000</td>\n",
       "      <td>3278.000000</td>\n",
       "    </tr>\n",
       "    <tr>\n",
       "      <th>mean</th>\n",
       "      <td>36.132703</td>\n",
       "      <td>1.134838</td>\n",
       "      <td>0.0</td>\n",
       "      <td>0.0</td>\n",
       "      <td>558.650397</td>\n",
       "      <td>37.078401</td>\n",
       "      <td>48.66870</td>\n",
       "      <td>39.481391</td>\n",
       "      <td>35.507932</td>\n",
       "      <td>10.804454</td>\n",
       "      <td>23.356010</td>\n",
       "      <td>24.615924</td>\n",
       "      <td>60.554301</td>\n",
       "      <td>340.712325</td>\n",
       "      <td>195.022270</td>\n",
       "      <td>0.697071</td>\n",
       "      <td>0.885601</td>\n",
       "      <td>10.648261</td>\n",
       "    </tr>\n",
       "    <tr>\n",
       "      <th>std</th>\n",
       "      <td>15.835815</td>\n",
       "      <td>1.231813</td>\n",
       "      <td>0.0</td>\n",
       "      <td>0.0</td>\n",
       "      <td>147.630273</td>\n",
       "      <td>38.693576</td>\n",
       "      <td>90.12925</td>\n",
       "      <td>57.107403</td>\n",
       "      <td>84.910312</td>\n",
       "      <td>44.791361</td>\n",
       "      <td>76.731025</td>\n",
       "      <td>50.477668</td>\n",
       "      <td>52.407303</td>\n",
       "      <td>203.668876</td>\n",
       "      <td>176.454361</td>\n",
       "      <td>12.515260</td>\n",
       "      <td>7.971380</td>\n",
       "      <td>58.254232</td>\n",
       "    </tr>\n",
       "    <tr>\n",
       "      <th>min</th>\n",
       "      <td>15.000000</td>\n",
       "      <td>0.000000</td>\n",
       "      <td>0.0</td>\n",
       "      <td>0.0</td>\n",
       "      <td>0.000000</td>\n",
       "      <td>0.000000</td>\n",
       "      <td>0.00000</td>\n",
       "      <td>0.000000</td>\n",
       "      <td>0.000000</td>\n",
       "      <td>0.000000</td>\n",
       "      <td>0.000000</td>\n",
       "      <td>0.000000</td>\n",
       "      <td>0.000000</td>\n",
       "      <td>0.000000</td>\n",
       "      <td>0.000000</td>\n",
       "      <td>0.000000</td>\n",
       "      <td>0.000000</td>\n",
       "      <td>0.000000</td>\n",
       "    </tr>\n",
       "    <tr>\n",
       "      <th>25%</th>\n",
       "      <td>21.000000</td>\n",
       "      <td>0.000000</td>\n",
       "      <td>0.0</td>\n",
       "      <td>0.0</td>\n",
       "      <td>475.000000</td>\n",
       "      <td>0.000000</td>\n",
       "      <td>0.00000</td>\n",
       "      <td>0.000000</td>\n",
       "      <td>0.000000</td>\n",
       "      <td>0.000000</td>\n",
       "      <td>0.000000</td>\n",
       "      <td>0.000000</td>\n",
       "      <td>30.000000</td>\n",
       "      <td>180.000000</td>\n",
       "      <td>60.000000</td>\n",
       "      <td>0.000000</td>\n",
       "      <td>0.000000</td>\n",
       "      <td>0.000000</td>\n",
       "    </tr>\n",
       "    <tr>\n",
       "      <th>50%</th>\n",
       "      <td>34.000000</td>\n",
       "      <td>1.000000</td>\n",
       "      <td>0.0</td>\n",
       "      <td>0.0</td>\n",
       "      <td>540.000000</td>\n",
       "      <td>30.000000</td>\n",
       "      <td>0.00000</td>\n",
       "      <td>15.000000</td>\n",
       "      <td>0.000000</td>\n",
       "      <td>0.000000</td>\n",
       "      <td>0.000000</td>\n",
       "      <td>0.000000</td>\n",
       "      <td>50.000000</td>\n",
       "      <td>318.000000</td>\n",
       "      <td>150.000000</td>\n",
       "      <td>0.000000</td>\n",
       "      <td>0.000000</td>\n",
       "      <td>0.000000</td>\n",
       "    </tr>\n",
       "    <tr>\n",
       "      <th>75%</th>\n",
       "      <td>48.000000</td>\n",
       "      <td>2.000000</td>\n",
       "      <td>0.0</td>\n",
       "      <td>0.0</td>\n",
       "      <td>642.500000</td>\n",
       "      <td>60.000000</td>\n",
       "      <td>60.00000</td>\n",
       "      <td>60.000000</td>\n",
       "      <td>16.000000</td>\n",
       "      <td>0.000000</td>\n",
       "      <td>0.000000</td>\n",
       "      <td>30.000000</td>\n",
       "      <td>80.000000</td>\n",
       "      <td>480.000000</td>\n",
       "      <td>287.750000</td>\n",
       "      <td>0.000000</td>\n",
       "      <td>0.000000</td>\n",
       "      <td>0.000000</td>\n",
       "    </tr>\n",
       "    <tr>\n",
       "      <th>max</th>\n",
       "      <td>85.000000</td>\n",
       "      <td>11.000000</td>\n",
       "      <td>0.0</td>\n",
       "      <td>0.0</td>\n",
       "      <td>1340.000000</td>\n",
       "      <td>450.000000</td>\n",
       "      <td>778.00000</td>\n",
       "      <td>540.000000</td>\n",
       "      <td>800.000000</td>\n",
       "      <td>720.000000</td>\n",
       "      <td>983.000000</td>\n",
       "      <td>879.000000</td>\n",
       "      <td>670.000000</td>\n",
       "      <td>1035.000000</td>\n",
       "      <td>981.000000</td>\n",
       "      <td>305.000000</td>\n",
       "      <td>150.000000</td>\n",
       "      <td>891.000000</td>\n",
       "    </tr>\n",
       "  </tbody>\n",
       "</table>\n",
       "</div>"
      ],
      "text/plain": [
       "               Age     Children  Weekly Earnings  Weekly Hours Worked  \\\n",
       "count  3278.000000  3278.000000           3278.0               3278.0   \n",
       "mean     36.132703     1.134838              0.0                  0.0   \n",
       "std      15.835815     1.231813              0.0                  0.0   \n",
       "min      15.000000     0.000000              0.0                  0.0   \n",
       "25%      21.000000     0.000000              0.0                  0.0   \n",
       "50%      34.000000     1.000000              0.0                  0.0   \n",
       "75%      48.000000     2.000000              0.0                  0.0   \n",
       "max      85.000000    11.000000              0.0                  0.0   \n",
       "\n",
       "          Sleeping     Grooming   Housework  Food & Drink Prep  \\\n",
       "count  3278.000000  3278.000000  3278.00000        3278.000000   \n",
       "mean    558.650397    37.078401    48.66870          39.481391   \n",
       "std     147.630273    38.693576    90.12925          57.107403   \n",
       "min       0.000000     0.000000     0.00000           0.000000   \n",
       "25%     475.000000     0.000000     0.00000           0.000000   \n",
       "50%     540.000000    30.000000     0.00000          15.000000   \n",
       "75%     642.500000    60.000000    60.00000          60.000000   \n",
       "max    1340.000000   450.000000   778.00000         540.000000   \n",
       "\n",
       "       Caring for Children  Playing with Children  Job Searching     Shopping  \\\n",
       "count          3278.000000            3278.000000    3278.000000  3278.000000   \n",
       "mean             35.507932              10.804454      23.356010    24.615924   \n",
       "std              84.910312              44.791361      76.731025    50.477668   \n",
       "min               0.000000               0.000000       0.000000     0.000000   \n",
       "25%               0.000000               0.000000       0.000000     0.000000   \n",
       "50%               0.000000               0.000000       0.000000     0.000000   \n",
       "75%              16.000000               0.000000       0.000000    30.000000   \n",
       "max             800.000000             720.000000     983.000000   879.000000   \n",
       "\n",
       "       Eating and Drinking  Socializing & Relaxing   Television      Golfing  \\\n",
       "count          3278.000000             3278.000000  3278.000000  3278.000000   \n",
       "mean             60.554301              340.712325   195.022270     0.697071   \n",
       "std              52.407303              203.668876   176.454361    12.515260   \n",
       "min               0.000000                0.000000     0.000000     0.000000   \n",
       "25%              30.000000              180.000000    60.000000     0.000000   \n",
       "50%              50.000000              318.000000   150.000000     0.000000   \n",
       "75%              80.000000              480.000000   287.750000     0.000000   \n",
       "max             670.000000             1035.000000   981.000000   305.000000   \n",
       "\n",
       "           Running  Volunteering  \n",
       "count  3278.000000   3278.000000  \n",
       "mean      0.885601     10.648261  \n",
       "std       7.971380     58.254232  \n",
       "min       0.000000      0.000000  \n",
       "25%       0.000000      0.000000  \n",
       "50%       0.000000      0.000000  \n",
       "75%       0.000000      0.000000  \n",
       "max     150.000000    891.000000  "
      ]
     },
     "execution_count": 8,
     "metadata": {},
     "output_type": "execute_result"
    }
   ],
   "source": [
    "unemploy=df[df['Employment Status']== 'Unemployed']\n",
    "unemploy.describe()\n",
    "# min and mx of weekly earnings and weekly hours worked are 0. This is waht we suspected\n"
   ]
  },
  {
   "cell_type": "code",
   "execution_count": 9,
   "metadata": {},
   "outputs": [
    {
     "data": {
      "text/html": [
       "<div>\n",
       "<style scoped>\n",
       "    .dataframe tbody tr th:only-of-type {\n",
       "        vertical-align: middle;\n",
       "    }\n",
       "\n",
       "    .dataframe tbody tr th {\n",
       "        vertical-align: top;\n",
       "    }\n",
       "\n",
       "    .dataframe thead th {\n",
       "        text-align: right;\n",
       "    }\n",
       "</style>\n",
       "<table border=\"1\" class=\"dataframe\">\n",
       "  <thead>\n",
       "    <tr style=\"text-align: right;\">\n",
       "      <th></th>\n",
       "      <th>Age</th>\n",
       "      <th>Children</th>\n",
       "      <th>Weekly Earnings</th>\n",
       "      <th>Weekly Hours Worked</th>\n",
       "      <th>Sleeping</th>\n",
       "      <th>Grooming</th>\n",
       "      <th>Housework</th>\n",
       "      <th>Food &amp; Drink Prep</th>\n",
       "      <th>Caring for Children</th>\n",
       "      <th>Playing with Children</th>\n",
       "      <th>Job Searching</th>\n",
       "      <th>Shopping</th>\n",
       "      <th>Eating and Drinking</th>\n",
       "      <th>Socializing &amp; Relaxing</th>\n",
       "      <th>Television</th>\n",
       "      <th>Golfing</th>\n",
       "      <th>Running</th>\n",
       "      <th>Volunteering</th>\n",
       "    </tr>\n",
       "  </thead>\n",
       "  <tbody>\n",
       "    <tr>\n",
       "      <th>count</th>\n",
       "      <td>19630.000000</td>\n",
       "      <td>19630.000000</td>\n",
       "      <td>19630.0</td>\n",
       "      <td>19630.0</td>\n",
       "      <td>19630.000000</td>\n",
       "      <td>19630.000000</td>\n",
       "      <td>19630.000000</td>\n",
       "      <td>19630.000000</td>\n",
       "      <td>19630.000000</td>\n",
       "      <td>19630.000000</td>\n",
       "      <td>19630.000000</td>\n",
       "      <td>19630.000000</td>\n",
       "      <td>19630.000000</td>\n",
       "      <td>19630.000000</td>\n",
       "      <td>19630.000000</td>\n",
       "      <td>19630.000000</td>\n",
       "      <td>19630.000000</td>\n",
       "      <td>19630.000000</td>\n",
       "    </tr>\n",
       "    <tr>\n",
       "      <th>mean</th>\n",
       "      <td>56.064340</td>\n",
       "      <td>0.668416</td>\n",
       "      <td>0.0</td>\n",
       "      <td>0.0</td>\n",
       "      <td>545.056495</td>\n",
       "      <td>38.921039</td>\n",
       "      <td>50.903413</td>\n",
       "      <td>44.308202</td>\n",
       "      <td>27.308966</td>\n",
       "      <td>7.493327</td>\n",
       "      <td>0.583393</td>\n",
       "      <td>24.559705</td>\n",
       "      <td>71.884768</td>\n",
       "      <td>388.659959</td>\n",
       "      <td>225.531228</td>\n",
       "      <td>1.316760</td>\n",
       "      <td>0.455884</td>\n",
       "      <td>11.649109</td>\n",
       "    </tr>\n",
       "    <tr>\n",
       "      <th>std</th>\n",
       "      <td>20.817306</td>\n",
       "      <td>1.130145</td>\n",
       "      <td>0.0</td>\n",
       "      <td>0.0</td>\n",
       "      <td>141.522954</td>\n",
       "      <td>39.615298</td>\n",
       "      <td>91.926568</td>\n",
       "      <td>62.668534</td>\n",
       "      <td>79.564257</td>\n",
       "      <td>37.563421</td>\n",
       "      <td>11.365300</td>\n",
       "      <td>49.353265</td>\n",
       "      <td>52.747263</td>\n",
       "      <td>222.299631</td>\n",
       "      <td>200.891476</td>\n",
       "      <td>18.784825</td>\n",
       "      <td>6.965441</td>\n",
       "      <td>53.882580</td>\n",
       "    </tr>\n",
       "    <tr>\n",
       "      <th>min</th>\n",
       "      <td>15.000000</td>\n",
       "      <td>0.000000</td>\n",
       "      <td>0.0</td>\n",
       "      <td>0.0</td>\n",
       "      <td>0.000000</td>\n",
       "      <td>0.000000</td>\n",
       "      <td>0.000000</td>\n",
       "      <td>0.000000</td>\n",
       "      <td>0.000000</td>\n",
       "      <td>0.000000</td>\n",
       "      <td>0.000000</td>\n",
       "      <td>0.000000</td>\n",
       "      <td>0.000000</td>\n",
       "      <td>0.000000</td>\n",
       "      <td>0.000000</td>\n",
       "      <td>0.000000</td>\n",
       "      <td>0.000000</td>\n",
       "      <td>0.000000</td>\n",
       "    </tr>\n",
       "    <tr>\n",
       "      <th>25%</th>\n",
       "      <td>39.000000</td>\n",
       "      <td>0.000000</td>\n",
       "      <td>0.0</td>\n",
       "      <td>0.0</td>\n",
       "      <td>465.000000</td>\n",
       "      <td>0.000000</td>\n",
       "      <td>0.000000</td>\n",
       "      <td>0.000000</td>\n",
       "      <td>0.000000</td>\n",
       "      <td>0.000000</td>\n",
       "      <td>0.000000</td>\n",
       "      <td>0.000000</td>\n",
       "      <td>30.000000</td>\n",
       "      <td>220.000000</td>\n",
       "      <td>64.000000</td>\n",
       "      <td>0.000000</td>\n",
       "      <td>0.000000</td>\n",
       "      <td>0.000000</td>\n",
       "    </tr>\n",
       "    <tr>\n",
       "      <th>50%</th>\n",
       "      <td>62.000000</td>\n",
       "      <td>0.000000</td>\n",
       "      <td>0.0</td>\n",
       "      <td>0.0</td>\n",
       "      <td>540.000000</td>\n",
       "      <td>30.000000</td>\n",
       "      <td>0.000000</td>\n",
       "      <td>20.000000</td>\n",
       "      <td>0.000000</td>\n",
       "      <td>0.000000</td>\n",
       "      <td>0.000000</td>\n",
       "      <td>0.000000</td>\n",
       "      <td>60.000000</td>\n",
       "      <td>370.000000</td>\n",
       "      <td>180.000000</td>\n",
       "      <td>0.000000</td>\n",
       "      <td>0.000000</td>\n",
       "      <td>0.000000</td>\n",
       "    </tr>\n",
       "    <tr>\n",
       "      <th>75%</th>\n",
       "      <td>73.000000</td>\n",
       "      <td>1.000000</td>\n",
       "      <td>0.0</td>\n",
       "      <td>0.0</td>\n",
       "      <td>617.750000</td>\n",
       "      <td>60.000000</td>\n",
       "      <td>62.000000</td>\n",
       "      <td>65.000000</td>\n",
       "      <td>0.000000</td>\n",
       "      <td>0.000000</td>\n",
       "      <td>0.000000</td>\n",
       "      <td>30.000000</td>\n",
       "      <td>95.000000</td>\n",
       "      <td>539.000000</td>\n",
       "      <td>330.000000</td>\n",
       "      <td>0.000000</td>\n",
       "      <td>0.000000</td>\n",
       "      <td>0.000000</td>\n",
       "    </tr>\n",
       "    <tr>\n",
       "      <th>max</th>\n",
       "      <td>85.000000</td>\n",
       "      <td>12.000000</td>\n",
       "      <td>0.0</td>\n",
       "      <td>0.0</td>\n",
       "      <td>1423.000000</td>\n",
       "      <td>550.000000</td>\n",
       "      <td>1405.000000</td>\n",
       "      <td>870.000000</td>\n",
       "      <td>950.000000</td>\n",
       "      <td>840.000000</td>\n",
       "      <td>550.000000</td>\n",
       "      <td>640.000000</td>\n",
       "      <td>600.000000</td>\n",
       "      <td>1434.000000</td>\n",
       "      <td>1313.000000</td>\n",
       "      <td>490.000000</td>\n",
       "      <td>330.000000</td>\n",
       "      <td>1100.000000</td>\n",
       "    </tr>\n",
       "  </tbody>\n",
       "</table>\n",
       "</div>"
      ],
      "text/plain": [
       "                Age      Children  Weekly Earnings  Weekly Hours Worked  \\\n",
       "count  19630.000000  19630.000000          19630.0              19630.0   \n",
       "mean      56.064340      0.668416              0.0                  0.0   \n",
       "std       20.817306      1.130145              0.0                  0.0   \n",
       "min       15.000000      0.000000              0.0                  0.0   \n",
       "25%       39.000000      0.000000              0.0                  0.0   \n",
       "50%       62.000000      0.000000              0.0                  0.0   \n",
       "75%       73.000000      1.000000              0.0                  0.0   \n",
       "max       85.000000     12.000000              0.0                  0.0   \n",
       "\n",
       "           Sleeping      Grooming     Housework  Food & Drink Prep  \\\n",
       "count  19630.000000  19630.000000  19630.000000       19630.000000   \n",
       "mean     545.056495     38.921039     50.903413          44.308202   \n",
       "std      141.522954     39.615298     91.926568          62.668534   \n",
       "min        0.000000      0.000000      0.000000           0.000000   \n",
       "25%      465.000000      0.000000      0.000000           0.000000   \n",
       "50%      540.000000     30.000000      0.000000          20.000000   \n",
       "75%      617.750000     60.000000     62.000000          65.000000   \n",
       "max     1423.000000    550.000000   1405.000000         870.000000   \n",
       "\n",
       "       Caring for Children  Playing with Children  Job Searching  \\\n",
       "count         19630.000000           19630.000000   19630.000000   \n",
       "mean             27.308966               7.493327       0.583393   \n",
       "std              79.564257              37.563421      11.365300   \n",
       "min               0.000000               0.000000       0.000000   \n",
       "25%               0.000000               0.000000       0.000000   \n",
       "50%               0.000000               0.000000       0.000000   \n",
       "75%               0.000000               0.000000       0.000000   \n",
       "max             950.000000             840.000000     550.000000   \n",
       "\n",
       "           Shopping  Eating and Drinking  Socializing & Relaxing  \\\n",
       "count  19630.000000         19630.000000            19630.000000   \n",
       "mean      24.559705            71.884768              388.659959   \n",
       "std       49.353265            52.747263              222.299631   \n",
       "min        0.000000             0.000000                0.000000   \n",
       "25%        0.000000            30.000000              220.000000   \n",
       "50%        0.000000            60.000000              370.000000   \n",
       "75%       30.000000            95.000000              539.000000   \n",
       "max      640.000000           600.000000             1434.000000   \n",
       "\n",
       "         Television       Golfing       Running  Volunteering  \n",
       "count  19630.000000  19630.000000  19630.000000  19630.000000  \n",
       "mean     225.531228      1.316760      0.455884     11.649109  \n",
       "std      200.891476     18.784825      6.965441     53.882580  \n",
       "min        0.000000      0.000000      0.000000      0.000000  \n",
       "25%       64.000000      0.000000      0.000000      0.000000  \n",
       "50%      180.000000      0.000000      0.000000      0.000000  \n",
       "75%      330.000000      0.000000      0.000000      0.000000  \n",
       "max     1313.000000    490.000000    330.000000   1100.000000  "
      ]
     },
     "execution_count": 9,
     "metadata": {},
     "output_type": "execute_result"
    }
   ],
   "source": [
    "notinlabor=df[df['Employment Status']== 'Not in labor force']\n",
    "# min and max no of weekly hours are zero, this is what we have suspected\n",
    "notinlabor.describe()"
   ]
  },
  {
   "cell_type": "code",
   "execution_count": 10,
   "metadata": {},
   "outputs": [
    {
     "data": {
      "text/html": [
       "<div>\n",
       "<style scoped>\n",
       "    .dataframe tbody tr th:only-of-type {\n",
       "        vertical-align: middle;\n",
       "    }\n",
       "\n",
       "    .dataframe tbody tr th {\n",
       "        vertical-align: top;\n",
       "    }\n",
       "\n",
       "    .dataframe thead th {\n",
       "        text-align: right;\n",
       "    }\n",
       "</style>\n",
       "<table border=\"1\" class=\"dataframe\">\n",
       "  <thead>\n",
       "    <tr style=\"text-align: right;\">\n",
       "      <th></th>\n",
       "      <th>Age</th>\n",
       "      <th>Children</th>\n",
       "      <th>Weekly Earnings</th>\n",
       "      <th>Weekly Hours Worked</th>\n",
       "      <th>Sleeping</th>\n",
       "      <th>Grooming</th>\n",
       "      <th>Housework</th>\n",
       "      <th>Food &amp; Drink Prep</th>\n",
       "      <th>Caring for Children</th>\n",
       "      <th>Playing with Children</th>\n",
       "      <th>Job Searching</th>\n",
       "      <th>Shopping</th>\n",
       "      <th>Eating and Drinking</th>\n",
       "      <th>Socializing &amp; Relaxing</th>\n",
       "      <th>Television</th>\n",
       "      <th>Golfing</th>\n",
       "      <th>Running</th>\n",
       "      <th>Volunteering</th>\n",
       "    </tr>\n",
       "  </thead>\n",
       "  <tbody>\n",
       "    <tr>\n",
       "      <th>0.10</th>\n",
       "      <td>24.0</td>\n",
       "      <td>0.0</td>\n",
       "      <td>0.0</td>\n",
       "      <td>0.0</td>\n",
       "      <td>370.0</td>\n",
       "      <td>0.0</td>\n",
       "      <td>0.0</td>\n",
       "      <td>0.0</td>\n",
       "      <td>0.0</td>\n",
       "      <td>0.0</td>\n",
       "      <td>0.0</td>\n",
       "      <td>0.0</td>\n",
       "      <td>15.0</td>\n",
       "      <td>55.0</td>\n",
       "      <td>0.0</td>\n",
       "      <td>0.0</td>\n",
       "      <td>0.0</td>\n",
       "      <td>0.0</td>\n",
       "    </tr>\n",
       "    <tr>\n",
       "      <th>0.90</th>\n",
       "      <td>71.0</td>\n",
       "      <td>2.0</td>\n",
       "      <td>1346.0</td>\n",
       "      <td>50.0</td>\n",
       "      <td>690.0</td>\n",
       "      <td>90.0</td>\n",
       "      <td>135.0</td>\n",
       "      <td>97.0</td>\n",
       "      <td>110.0</td>\n",
       "      <td>0.0</td>\n",
       "      <td>0.0</td>\n",
       "      <td>85.0</td>\n",
       "      <td>133.5</td>\n",
       "      <td>583.0</td>\n",
       "      <td>390.0</td>\n",
       "      <td>0.0</td>\n",
       "      <td>0.0</td>\n",
       "      <td>0.0</td>\n",
       "    </tr>\n",
       "    <tr>\n",
       "      <th>0.98</th>\n",
       "      <td>80.0</td>\n",
       "      <td>4.0</td>\n",
       "      <td>2500.0</td>\n",
       "      <td>65.0</td>\n",
       "      <td>840.0</td>\n",
       "      <td>130.0</td>\n",
       "      <td>300.0</td>\n",
       "      <td>186.0</td>\n",
       "      <td>295.0</td>\n",
       "      <td>135.0</td>\n",
       "      <td>0.0</td>\n",
       "      <td>180.0</td>\n",
       "      <td>210.0</td>\n",
       "      <td>795.0</td>\n",
       "      <td>650.0</td>\n",
       "      <td>0.0</td>\n",
       "      <td>0.0</td>\n",
       "      <td>175.0</td>\n",
       "    </tr>\n",
       "  </tbody>\n",
       "</table>\n",
       "</div>"
      ],
      "text/plain": [
       "       Age  Children  Weekly Earnings  Weekly Hours Worked  Sleeping  \\\n",
       "0.10  24.0       0.0              0.0                  0.0     370.0   \n",
       "0.90  71.0       2.0           1346.0                 50.0     690.0   \n",
       "0.98  80.0       4.0           2500.0                 65.0     840.0   \n",
       "\n",
       "      Grooming  Housework  Food & Drink Prep  Caring for Children  \\\n",
       "0.10       0.0        0.0                0.0                  0.0   \n",
       "0.90      90.0      135.0               97.0                110.0   \n",
       "0.98     130.0      300.0              186.0                295.0   \n",
       "\n",
       "      Playing with Children  Job Searching  Shopping  Eating and Drinking  \\\n",
       "0.10                    0.0            0.0       0.0                 15.0   \n",
       "0.90                    0.0            0.0      85.0                133.5   \n",
       "0.98                  135.0            0.0     180.0                210.0   \n",
       "\n",
       "      Socializing & Relaxing  Television  Golfing  Running  Volunteering  \n",
       "0.10                    55.0         0.0      0.0      0.0           0.0  \n",
       "0.90                   583.0       390.0      0.0      0.0           0.0  \n",
       "0.98                   795.0       650.0      0.0      0.0         175.0  "
      ]
     },
     "execution_count": 10,
     "metadata": {},
     "output_type": "execute_result"
    }
   ],
   "source": [
    "# lets check quantile for each of the data columns\n",
    "\n",
    "df.quantile([0.1,0.90,0.98])"
   ]
  },
  {
   "cell_type": "code",
   "execution_count": 11,
   "metadata": {},
   "outputs": [
    {
     "name": "stdout",
     "output_type": "stream",
     "text": [
      "(1533, 23)\n"
     ]
    },
    {
     "data": {
      "text/plain": [
       "(1710, 23)"
      ]
     },
     "execution_count": 11,
     "metadata": {},
     "output_type": "execute_result"
    }
   ],
   "source": [
    "# lets calculate number of records where individul is employeed but working for 0 hours but earrnings are not equal to 0\n",
    "#(gapminder['year']== 1967) & (gapminder['pop']>1000000) & (df['Weekly Earnings']!=0)\n",
    "records1=df.loc[(df['Employment Status'] == 'Employed') & (df['Weekly Hours Worked']==0) & (df['Weekly Earnings']!=0)]\n",
    "print (records1.shape)\n",
    "\n",
    "# There are people who have worked for 160 and 120 and 110 hours of the week\n",
    "# Is it possible?? No as a week has only 24*7= 168 hours!!! and if we assume person has wokrd for 7 days a week for whole 24 hours then total hours will not exceed moe than 120\n",
    "# we need to drop these records\n",
    "# from data of labor buero avg hours for US are Weekdays average: 8.5 hours and weekend 5.4\n",
    "# for us lets assume 9 and 6 respectively which will total up 57\n",
    "\n",
    "records2=df.loc[(df['Employment Status']== 'Employed') & (df['Weekly Hours Worked']>60)]\n",
    "records2.shape"
   ]
  },
  {
   "cell_type": "code",
   "execution_count": 12,
   "metadata": {},
   "outputs": [],
   "source": [
    "df=df.drop(records1.index, inplace = False, axis=0)"
   ]
  },
  {
   "cell_type": "code",
   "execution_count": 13,
   "metadata": {},
   "outputs": [],
   "source": [
    "df=df.drop(records2.index,inplace=False,axis=0)"
   ]
  },
  {
   "cell_type": "code",
   "execution_count": 14,
   "metadata": {},
   "outputs": [
    {
     "data": {
      "text/plain": [
       "(60763, 23)"
      ]
     },
     "execution_count": 14,
     "metadata": {},
     "output_type": "execute_result"
    }
   ],
   "source": [
    "df.shape"
   ]
  },
  {
   "cell_type": "markdown",
   "metadata": {},
   "source": [
    "Total hours in a day cant be go beyond 24 hours, thus there is certain chances of double counting of hours in some of the independant variables.\n",
    "\n",
    "We need to plot correlation plot to see which variables are correlated "
   ]
  },
  {
   "cell_type": "code",
   "execution_count": 15,
   "metadata": {},
   "outputs": [
    {
     "ename": "KeyError",
     "evalue": "'Total'",
     "output_type": "error",
     "traceback": [
      "\u001b[1;31m---------------------------------------------------------------------------\u001b[0m",
      "\u001b[1;31mKeyError\u001b[0m                                  Traceback (most recent call last)",
      "\u001b[1;32m~\\Anaconda3\\lib\\site-packages\\pandas\\core\\indexes\\base.py\u001b[0m in \u001b[0;36mget_loc\u001b[1;34m(self, key, method, tolerance)\u001b[0m\n\u001b[0;32m   2656\u001b[0m             \u001b[1;32mtry\u001b[0m\u001b[1;33m:\u001b[0m\u001b[1;33m\u001b[0m\u001b[1;33m\u001b[0m\u001b[0m\n\u001b[1;32m-> 2657\u001b[1;33m                 \u001b[1;32mreturn\u001b[0m \u001b[0mself\u001b[0m\u001b[1;33m.\u001b[0m\u001b[0m_engine\u001b[0m\u001b[1;33m.\u001b[0m\u001b[0mget_loc\u001b[0m\u001b[1;33m(\u001b[0m\u001b[0mkey\u001b[0m\u001b[1;33m)\u001b[0m\u001b[1;33m\u001b[0m\u001b[1;33m\u001b[0m\u001b[0m\n\u001b[0m\u001b[0;32m   2658\u001b[0m             \u001b[1;32mexcept\u001b[0m \u001b[0mKeyError\u001b[0m\u001b[1;33m:\u001b[0m\u001b[1;33m\u001b[0m\u001b[1;33m\u001b[0m\u001b[0m\n",
      "\u001b[1;32mpandas/_libs/index.pyx\u001b[0m in \u001b[0;36mpandas._libs.index.IndexEngine.get_loc\u001b[1;34m()\u001b[0m\n",
      "\u001b[1;32mpandas/_libs/index.pyx\u001b[0m in \u001b[0;36mpandas._libs.index.IndexEngine.get_loc\u001b[1;34m()\u001b[0m\n",
      "\u001b[1;32mpandas/_libs/hashtable_class_helper.pxi\u001b[0m in \u001b[0;36mpandas._libs.hashtable.PyObjectHashTable.get_item\u001b[1;34m()\u001b[0m\n",
      "\u001b[1;32mpandas/_libs/hashtable_class_helper.pxi\u001b[0m in \u001b[0;36mpandas._libs.hashtable.PyObjectHashTable.get_item\u001b[1;34m()\u001b[0m\n",
      "\u001b[1;31mKeyError\u001b[0m: 'Total'",
      "\nDuring handling of the above exception, another exception occurred:\n",
      "\u001b[1;31mKeyError\u001b[0m                                  Traceback (most recent call last)",
      "\u001b[1;32m<ipython-input-15-3262e4f499a6>\u001b[0m in \u001b[0;36m<module>\u001b[1;34m\u001b[0m\n\u001b[1;32m----> 1\u001b[1;33m \u001b[0mtotal\u001b[0m\u001b[1;33m=\u001b[0m\u001b[0mdf\u001b[0m\u001b[1;33m.\u001b[0m\u001b[0mloc\u001b[0m\u001b[1;33m[\u001b[0m\u001b[0mdf\u001b[0m\u001b[1;33m[\u001b[0m\u001b[1;34m'Total'\u001b[0m\u001b[1;33m]\u001b[0m\u001b[1;33m>\u001b[0m\u001b[1;36m24\u001b[0m\u001b[1;33m]\u001b[0m\u001b[1;33m\u001b[0m\u001b[1;33m\u001b[0m\u001b[0m\n\u001b[0m\u001b[0;32m      2\u001b[0m \u001b[1;33m\u001b[0m\u001b[0m\n\u001b[0;32m      3\u001b[0m \u001b[0mtotal\u001b[0m\u001b[1;33m.\u001b[0m\u001b[0mshape\u001b[0m\u001b[1;33m\u001b[0m\u001b[1;33m\u001b[0m\u001b[0m\n",
      "\u001b[1;32m~\\Anaconda3\\lib\\site-packages\\pandas\\core\\frame.py\u001b[0m in \u001b[0;36m__getitem__\u001b[1;34m(self, key)\u001b[0m\n\u001b[0;32m   2925\u001b[0m             \u001b[1;32mif\u001b[0m \u001b[0mself\u001b[0m\u001b[1;33m.\u001b[0m\u001b[0mcolumns\u001b[0m\u001b[1;33m.\u001b[0m\u001b[0mnlevels\u001b[0m \u001b[1;33m>\u001b[0m \u001b[1;36m1\u001b[0m\u001b[1;33m:\u001b[0m\u001b[1;33m\u001b[0m\u001b[1;33m\u001b[0m\u001b[0m\n\u001b[0;32m   2926\u001b[0m                 \u001b[1;32mreturn\u001b[0m \u001b[0mself\u001b[0m\u001b[1;33m.\u001b[0m\u001b[0m_getitem_multilevel\u001b[0m\u001b[1;33m(\u001b[0m\u001b[0mkey\u001b[0m\u001b[1;33m)\u001b[0m\u001b[1;33m\u001b[0m\u001b[1;33m\u001b[0m\u001b[0m\n\u001b[1;32m-> 2927\u001b[1;33m             \u001b[0mindexer\u001b[0m \u001b[1;33m=\u001b[0m \u001b[0mself\u001b[0m\u001b[1;33m.\u001b[0m\u001b[0mcolumns\u001b[0m\u001b[1;33m.\u001b[0m\u001b[0mget_loc\u001b[0m\u001b[1;33m(\u001b[0m\u001b[0mkey\u001b[0m\u001b[1;33m)\u001b[0m\u001b[1;33m\u001b[0m\u001b[1;33m\u001b[0m\u001b[0m\n\u001b[0m\u001b[0;32m   2928\u001b[0m             \u001b[1;32mif\u001b[0m \u001b[0mis_integer\u001b[0m\u001b[1;33m(\u001b[0m\u001b[0mindexer\u001b[0m\u001b[1;33m)\u001b[0m\u001b[1;33m:\u001b[0m\u001b[1;33m\u001b[0m\u001b[1;33m\u001b[0m\u001b[0m\n\u001b[0;32m   2929\u001b[0m                 \u001b[0mindexer\u001b[0m \u001b[1;33m=\u001b[0m \u001b[1;33m[\u001b[0m\u001b[0mindexer\u001b[0m\u001b[1;33m]\u001b[0m\u001b[1;33m\u001b[0m\u001b[1;33m\u001b[0m\u001b[0m\n",
      "\u001b[1;32m~\\Anaconda3\\lib\\site-packages\\pandas\\core\\indexes\\base.py\u001b[0m in \u001b[0;36mget_loc\u001b[1;34m(self, key, method, tolerance)\u001b[0m\n\u001b[0;32m   2657\u001b[0m                 \u001b[1;32mreturn\u001b[0m \u001b[0mself\u001b[0m\u001b[1;33m.\u001b[0m\u001b[0m_engine\u001b[0m\u001b[1;33m.\u001b[0m\u001b[0mget_loc\u001b[0m\u001b[1;33m(\u001b[0m\u001b[0mkey\u001b[0m\u001b[1;33m)\u001b[0m\u001b[1;33m\u001b[0m\u001b[1;33m\u001b[0m\u001b[0m\n\u001b[0;32m   2658\u001b[0m             \u001b[1;32mexcept\u001b[0m \u001b[0mKeyError\u001b[0m\u001b[1;33m:\u001b[0m\u001b[1;33m\u001b[0m\u001b[1;33m\u001b[0m\u001b[0m\n\u001b[1;32m-> 2659\u001b[1;33m                 \u001b[1;32mreturn\u001b[0m \u001b[0mself\u001b[0m\u001b[1;33m.\u001b[0m\u001b[0m_engine\u001b[0m\u001b[1;33m.\u001b[0m\u001b[0mget_loc\u001b[0m\u001b[1;33m(\u001b[0m\u001b[0mself\u001b[0m\u001b[1;33m.\u001b[0m\u001b[0m_maybe_cast_indexer\u001b[0m\u001b[1;33m(\u001b[0m\u001b[0mkey\u001b[0m\u001b[1;33m)\u001b[0m\u001b[1;33m)\u001b[0m\u001b[1;33m\u001b[0m\u001b[1;33m\u001b[0m\u001b[0m\n\u001b[0m\u001b[0;32m   2660\u001b[0m         \u001b[0mindexer\u001b[0m \u001b[1;33m=\u001b[0m \u001b[0mself\u001b[0m\u001b[1;33m.\u001b[0m\u001b[0mget_indexer\u001b[0m\u001b[1;33m(\u001b[0m\u001b[1;33m[\u001b[0m\u001b[0mkey\u001b[0m\u001b[1;33m]\u001b[0m\u001b[1;33m,\u001b[0m \u001b[0mmethod\u001b[0m\u001b[1;33m=\u001b[0m\u001b[0mmethod\u001b[0m\u001b[1;33m,\u001b[0m \u001b[0mtolerance\u001b[0m\u001b[1;33m=\u001b[0m\u001b[0mtolerance\u001b[0m\u001b[1;33m)\u001b[0m\u001b[1;33m\u001b[0m\u001b[1;33m\u001b[0m\u001b[0m\n\u001b[0;32m   2661\u001b[0m         \u001b[1;32mif\u001b[0m \u001b[0mindexer\u001b[0m\u001b[1;33m.\u001b[0m\u001b[0mndim\u001b[0m \u001b[1;33m>\u001b[0m \u001b[1;36m1\u001b[0m \u001b[1;32mor\u001b[0m \u001b[0mindexer\u001b[0m\u001b[1;33m.\u001b[0m\u001b[0msize\u001b[0m \u001b[1;33m>\u001b[0m \u001b[1;36m1\u001b[0m\u001b[1;33m:\u001b[0m\u001b[1;33m\u001b[0m\u001b[1;33m\u001b[0m\u001b[0m\n",
      "\u001b[1;32mpandas/_libs/index.pyx\u001b[0m in \u001b[0;36mpandas._libs.index.IndexEngine.get_loc\u001b[1;34m()\u001b[0m\n",
      "\u001b[1;32mpandas/_libs/index.pyx\u001b[0m in \u001b[0;36mpandas._libs.index.IndexEngine.get_loc\u001b[1;34m()\u001b[0m\n",
      "\u001b[1;32mpandas/_libs/hashtable_class_helper.pxi\u001b[0m in \u001b[0;36mpandas._libs.hashtable.PyObjectHashTable.get_item\u001b[1;34m()\u001b[0m\n",
      "\u001b[1;32mpandas/_libs/hashtable_class_helper.pxi\u001b[0m in \u001b[0;36mpandas._libs.hashtable.PyObjectHashTable.get_item\u001b[1;34m()\u001b[0m\n",
      "\u001b[1;31mKeyError\u001b[0m: 'Total'"
     ]
    }
   ],
   "source": [
    "total=df.loc[df['Total']>24]\n",
    "\n",
    "total.shape"
   ]
  },
  {
   "cell_type": "code",
   "execution_count": 16,
   "metadata": {},
   "outputs": [
    {
     "data": {
      "text/plain": [
       "count    60763.000000\n",
       "mean       524.533762\n",
       "std        134.789819\n",
       "min          0.000000\n",
       "25%        450.000000\n",
       "50%        510.000000\n",
       "75%        600.000000\n",
       "max       1423.000000\n",
       "Name: Sleeping, dtype: float64"
      ]
     },
     "execution_count": 16,
     "metadata": {},
     "output_type": "execute_result"
    }
   ],
   "source": [
    "# lets check for sleeping patterns\n",
    "df['Sleeping'].describe()"
   ]
  },
  {
   "cell_type": "code",
   "execution_count": 17,
   "metadata": {},
   "outputs": [
    {
     "data": {
      "text/plain": [
       "(2253, 23)"
      ]
     },
     "execution_count": 17,
     "metadata": {},
     "output_type": "execute_result"
    }
   ],
   "source": [
    "# its deemed impossible for individual to slepp for more than 14 hours a day and less than 4 hours a day\n",
    "\n",
    "sleep=df.loc[(df['Sleeping']<241) | (df['Sleeping']>840)]\n",
    "sleep.shape"
   ]
  },
  {
   "cell_type": "code",
   "execution_count": 18,
   "metadata": {},
   "outputs": [],
   "source": [
    "df=df.drop(sleep.index, inplace=False, axis=0)"
   ]
  },
  {
   "cell_type": "code",
   "execution_count": 19,
   "metadata": {},
   "outputs": [
    {
     "name": "stdout",
     "output_type": "stream",
     "text": [
      "count    58510.000000\n",
      "mean        40.795437\n",
      "std         36.347839\n",
      "min          0.000000\n",
      "25%         15.000000\n",
      "50%         33.000000\n",
      "75%         60.000000\n",
      "max       1043.000000\n",
      "Name: Grooming, dtype: float64\n",
      "\n",
      "0.95    105.0\n",
      "0.98    130.0\n",
      "Name: Grooming, dtype: float64\n"
     ]
    }
   ],
   "source": [
    "# Grooming\n",
    "print(df['Grooming'].describe())\n",
    "print()\n",
    "print (df.Grooming.quantile([0.95,0.98]))\n"
   ]
  },
  {
   "cell_type": "code",
   "execution_count": 20,
   "metadata": {},
   "outputs": [
    {
     "data": {
      "text/plain": [
       "(57358, 23)"
      ]
     },
     "execution_count": 20,
     "metadata": {},
     "output_type": "execute_result"
    }
   ],
   "source": [
    "df=df.drop((df.loc[df['Grooming']>130]).index,inplace=False, axis=0)\n",
    "\n",
    "df.shape"
   ]
  },
  {
   "cell_type": "code",
   "execution_count": 21,
   "metadata": {},
   "outputs": [
    {
     "name": "stdout",
     "output_type": "stream",
     "text": [
      "count    57358.000000\n",
      "mean        42.617909\n",
      "std         83.434055\n",
      "min          0.000000\n",
      "25%          0.000000\n",
      "50%          0.000000\n",
      "75%         60.000000\n",
      "max       1030.000000\n",
      "Name: Housework, dtype: float64\n",
      "\n",
      "0.80     75.0\n",
      "0.90    140.3\n",
      "0.98    300.0\n",
      "Name: Housework, dtype: float64\n"
     ]
    }
   ],
   "source": [
    "#Housework\n",
    "print(df.Housework.describe())\n",
    "print()\n",
    "print(df.Housework.quantile([0.80,0.90,0.98]))\n",
    "\n"
   ]
  },
  {
   "cell_type": "code",
   "execution_count": 22,
   "metadata": {},
   "outputs": [
    {
     "name": "stdout",
     "output_type": "stream",
     "text": [
      "\n",
      "(56213, 23)\n"
     ]
    }
   ],
   "source": [
    "df=df.drop((df.loc[df.Housework>(df['Housework'].quantile(.98))]).index,inplace=False,axis=0)\n",
    "print()\n",
    "print(df.shape)"
   ]
  },
  {
   "cell_type": "code",
   "execution_count": 23,
   "metadata": {},
   "outputs": [
    {
     "name": "stdout",
     "output_type": "stream",
     "text": [
      "count    56213.000000\n",
      "mean        35.013520\n",
      "std         53.415314\n",
      "min          0.000000\n",
      "25%          0.000000\n",
      "50%         15.000000\n",
      "75%         55.000000\n",
      "max        755.000000\n",
      "Name: Food & Drink Prep, dtype: float64\n",
      "\n",
      "0.85     76.0\n",
      "0.95    135.0\n",
      "0.98    190.0\n",
      "Name: Food & Drink Prep, dtype: float64\n",
      "\n",
      "(55066, 23)\n"
     ]
    }
   ],
   "source": [
    "## Food & Drink Prep\n",
    "\n",
    "print(df['Food & Drink Prep'].describe())\n",
    "print()\n",
    "print(df['Food & Drink Prep'].quantile([0.85,0.95,0.98]))\n",
    "df=df.drop((df.loc[df['Food & Drink Prep']>185]).index, inplace=False, axis=0)\n",
    "print()\n",
    "print(df.shape)"
   ]
  },
  {
   "cell_type": "code",
   "execution_count": 24,
   "metadata": {},
   "outputs": [
    {
     "name": "stdout",
     "output_type": "stream",
     "text": [
      "0      54310\n",
      "60       105\n",
      "120       90\n",
      "30        75\n",
      "90        42\n",
      "180       40\n",
      "45        28\n",
      "20        26\n",
      "240       23\n",
      "150       18\n",
      "Name: Job Searching, dtype: int64\n",
      "\n",
      "count    55066.000000\n",
      "mean         1.836760\n",
      "std         21.709308\n",
      "min          0.000000\n",
      "25%          0.000000\n",
      "50%          0.000000\n",
      "75%          0.000000\n",
      "max        983.000000\n",
      "Name: Job Searching, dtype: float64\n",
      "0.85     0.0\n",
      "0.95     0.0\n",
      "0.99    58.7\n",
      "Name: Job Searching, dtype: float64\n",
      "\n",
      "(54957, 23)\n"
     ]
    }
   ],
   "source": [
    "# its is quite possible for people to search jobs for 4 hours in a day.\n",
    "\n",
    "print(df['Job Searching'].value_counts().nlargest(10))\n",
    "print()\n",
    "\n",
    "print(df['Job Searching'].describe())\n",
    "\n",
    "print(df['Job Searching'].quantile([0.85,0.95,0.99]))\n",
    "df=df.drop((df.loc[df['Job Searching']>240]).index, inplace=False, axis=0)\n",
    "print()\n",
    "print(df.shape)"
   ]
  },
  {
   "cell_type": "code",
   "execution_count": 26,
   "metadata": {},
   "outputs": [
    {
     "name": "stdout",
     "output_type": "stream",
     "text": [
      "0      31079\n",
      "60      2232\n",
      "30      2218\n",
      "10      2040\n",
      "5       1813\n",
      "15      1646\n",
      "20      1453\n",
      "45      1039\n",
      "90       977\n",
      "120      936\n",
      "Name: Shopping, dtype: int64\n",
      "\n",
      "count    54957.000000\n",
      "mean        25.303292\n",
      "std         49.625488\n",
      "min          0.000000\n",
      "25%          0.000000\n",
      "50%          0.000000\n",
      "75%         30.000000\n",
      "max        640.000000\n",
      "Name: Shopping, dtype: float64\n",
      "\n",
      "0.95    120.0\n",
      "0.98    180.0\n",
      "Name: Shopping, dtype: float64\n"
     ]
    },
    {
     "data": {
      "text/plain": [
       "(54957, 23)"
      ]
     },
     "execution_count": 26,
     "metadata": {},
     "output_type": "execute_result"
    }
   ],
   "source": [
    "# shopping\n",
    "\n",
    "print(df.Shopping.value_counts().nlargest(10))\n",
    "print()\n",
    "print(df.Shopping.describe())\n",
    "print()\n",
    "print(df.Shopping.quantile([0.95,0.98]))\n",
    "\n",
    "df.shape"
   ]
  },
  {
   "cell_type": "code",
   "execution_count": 27,
   "metadata": {},
   "outputs": [],
   "source": [
    "df=df.drop((df.loc[df['Running']>120]).index, inplace=False, axis=0)\n",
    "\n"
   ]
  },
  {
   "cell_type": "code",
   "execution_count": 28,
   "metadata": {},
   "outputs": [
    {
     "data": {
      "text/plain": [
       "(54932, 23)"
      ]
     },
     "execution_count": 28,
     "metadata": {},
     "output_type": "execute_result"
    }
   ],
   "source": [
    "df.shape"
   ]
  },
  {
   "cell_type": "code",
   "execution_count": 29,
   "metadata": {},
   "outputs": [
    {
     "name": "stdout",
     "output_type": "stream",
     "text": [
      "0      54254\n",
      "60       181\n",
      "30       136\n",
      "45        87\n",
      "40        41\n",
      "90        34\n",
      "120       31\n",
      "20        28\n",
      "25        23\n",
      "35        15\n",
      "Name: Running, dtype: int64\n",
      "\n",
      "count    54932.000000\n",
      "mean         0.621477\n",
      "std          6.249482\n",
      "min          0.000000\n",
      "25%          0.000000\n",
      "50%          0.000000\n",
      "75%          0.000000\n",
      "max        120.000000\n",
      "Name: Running, dtype: float64\n",
      "\n",
      "0.95    0.0\n",
      "0.98    0.0\n",
      "Name: Running, dtype: float64\n"
     ]
    }
   ],
   "source": [
    "# Running\n",
    "print(df.Running.value_counts().nlargest(10))\n",
    "print()\n",
    "print(df.Running.describe())\n",
    "print()\n",
    "print(df.Running.quantile([0.95,0.98]))\n"
   ]
  },
  {
   "cell_type": "code",
   "execution_count": 30,
   "metadata": {},
   "outputs": [
    {
     "name": "stdout",
     "output_type": "stream",
     "text": [
      "0      33333\n",
      "60      2549\n",
      "120     1959\n",
      "30      1956\n",
      "90      1206\n",
      "15      1149\n",
      "10      1110\n",
      "20       939\n",
      "180      813\n",
      "45       711\n",
      "Name: Housework, dtype: int64\n",
      "\n",
      "count    54932.000000\n",
      "mean        34.144633\n",
      "std         61.689554\n",
      "min          0.000000\n",
      "25%          0.000000\n",
      "50%          0.000000\n",
      "75%         45.000000\n",
      "max        300.000000\n",
      "Name: Housework, dtype: float64\n",
      "0.85     90.0\n",
      "0.95    180.0\n",
      "0.98    240.0\n",
      "Name: Housework, dtype: float64\n",
      "\n",
      "(54147, 23)\n"
     ]
    }
   ],
   "source": [
    "#House work\n",
    "\n",
    "\n",
    "print(df['Housework'].value_counts().nlargest(10))\n",
    "print()\n",
    "\n",
    "print(df['Housework'].describe())\n",
    "\n",
    "print(df['Housework'].quantile([0.85,0.95,0.98]))\n",
    "df=df.drop((df.loc[df['Housework']>240]).index, inplace=False, axis=0)\n",
    "print()\n",
    "print(df.shape)"
   ]
  },
  {
   "cell_type": "code",
   "execution_count": 31,
   "metadata": {},
   "outputs": [
    {
     "name": "stdout",
     "output_type": "stream",
     "text": [
      "60     5596\n",
      "30     5526\n",
      "90     3604\n",
      "45     2859\n",
      "75     2419\n",
      "120    2330\n",
      "20     2228\n",
      "50     2028\n",
      "15     2000\n",
      "0      1959\n",
      "Name: Eating and Drinking, dtype: int64\n",
      "\n",
      "count    54147.000000\n",
      "mean        69.569856\n",
      "std         52.393352\n",
      "min          0.000000\n",
      "25%         30.000000\n",
      "50%         60.000000\n",
      "75%         90.000000\n",
      "max        765.000000\n",
      "Name: Eating and Drinking, dtype: float64\n",
      "0.85    120.0\n",
      "0.95    165.0\n",
      "0.98    210.0\n",
      "Name: Eating and Drinking, dtype: float64\n",
      "\n",
      "(53236, 23)\n"
     ]
    }
   ],
   "source": [
    "# Eating and Drinking\n",
    "print(df['Eating and Drinking'].value_counts().nlargest(10))\n",
    "print()\n",
    "\n",
    "print(df['Eating and Drinking'].describe())\n",
    "\n",
    "print(df['Eating and Drinking'].quantile([0.85,0.95,0.98]))\n",
    "df=df.drop((df.loc[df['Eating and Drinking']>210]).index, inplace=False, axis=0)\n",
    "print()\n",
    "print(df.shape)\n"
   ]
  },
  {
   "cell_type": "code",
   "execution_count": 32,
   "metadata": {},
   "outputs": [
    {
     "name": "stdout",
     "output_type": "stream",
     "text": [
      "0     22935\n",
      "30     3861\n",
      "60     2762\n",
      "15     2129\n",
      "20     1917\n",
      "10     1724\n",
      "45     1702\n",
      "90     1231\n",
      "5      1123\n",
      "40     1033\n",
      "Name: Food & Drink Prep, dtype: int64\n",
      "\n",
      "count    53236.000000\n",
      "mean        30.075325\n",
      "std         40.422781\n",
      "min          0.000000\n",
      "25%          0.000000\n",
      "50%         10.000000\n",
      "75%         50.000000\n",
      "max        185.000000\n",
      "Name: Food & Drink Prep, dtype: float64\n",
      "0.85     70.0\n",
      "0.95    120.0\n",
      "0.98    150.0\n",
      "Name: Food & Drink Prep, dtype: float64\n",
      "\n",
      "(52372, 23)\n"
     ]
    }
   ],
   "source": [
    "# Food & Drink Prep\n",
    "\n",
    "print(df['Food & Drink Prep'].value_counts().nlargest(10))\n",
    "print()\n",
    "\n",
    "print(df['Food & Drink Prep'].describe())\n",
    "\n",
    "print(df['Food & Drink Prep'].quantile([0.85,0.95,0.98]))\n",
    "df=df.drop((df.loc[df['Food & Drink Prep']>150]).index, inplace=False, axis=0)\n",
    "print()\n",
    "print(df.shape)\n"
   ]
  },
  {
   "cell_type": "code",
   "execution_count": 33,
   "metadata": {},
   "outputs": [
    {
     "name": "stdout",
     "output_type": "stream",
     "text": [
      "0     11023\n",
      "30     7375\n",
      "60     5918\n",
      "45     3758\n",
      "20     2515\n",
      "15     2162\n",
      "90     1980\n",
      "40     1960\n",
      "75     1591\n",
      "50     1521\n",
      "Name: Grooming, dtype: int64\n",
      "\n",
      "count    52372.000000\n",
      "mean        38.733808\n",
      "std         31.075133\n",
      "min          0.000000\n",
      "25%         15.000000\n",
      "50%         32.000000\n",
      "75%         60.000000\n",
      "max        130.000000\n",
      "Name: Grooming, dtype: float64\n",
      "0.85     70.0\n",
      "0.95     95.0\n",
      "0.98    115.0\n",
      "Name: Grooming, dtype: float64\n",
      "\n",
      "(50155, 23)\n"
     ]
    }
   ],
   "source": [
    "# Grooming\n",
    "\n",
    "\n",
    "print(df['Grooming'].value_counts().nlargest(10))\n",
    "print()\n",
    "\n",
    "print(df['Grooming'].describe())\n",
    "\n",
    "print(df['Grooming'].quantile([0.85,0.95,0.98]))\n",
    "df=df.drop((df.loc[df['Food & Drink Prep']>115]).index, inplace=False, axis=0)\n",
    "print()\n",
    "print(df.shape)"
   ]
  },
  {
   "cell_type": "code",
   "execution_count": 34,
   "metadata": {},
   "outputs": [
    {
     "name": "stdout",
     "output_type": "stream",
     "text": [
      "0      49800\n",
      "240       29\n",
      "60        26\n",
      "120       26\n",
      "270       22\n",
      "150       20\n",
      "300       19\n",
      "90        12\n",
      "30         9\n",
      "210        9\n",
      "Name: Golfing, dtype: int64\n",
      "\n",
      "count    50155.000000\n",
      "mean         1.451760\n",
      "std         19.604608\n",
      "min          0.000000\n",
      "25%          0.000000\n",
      "50%          0.000000\n",
      "75%          0.000000\n",
      "max        600.000000\n",
      "Name: Golfing, dtype: float64\n",
      "0.85    0.0\n",
      "0.95    0.0\n",
      "0.98    0.0\n",
      "Name: Golfing, dtype: float64\n",
      "\n",
      "(50088, 23)\n"
     ]
    }
   ],
   "source": [
    "# Golfing\n",
    "\n",
    "print(df['Golfing'].value_counts().nlargest(10))\n",
    "print()\n",
    "\n",
    "print(df['Golfing'].describe())\n",
    "\n",
    "print(df['Golfing'].quantile([0.85,0.95,0.98]))\n",
    "df=df.drop((df.loc[df['Golfing']>300]).index, inplace=False, axis=0)\n",
    "print()\n",
    "print(df.shape)"
   ]
  },
  {
   "cell_type": "code",
   "execution_count": 35,
   "metadata": {},
   "outputs": [
    {
     "data": {
      "text/plain": [
       "Index(['Education Level', 'Age', 'Age Range', 'Employment Status', 'Gender',\n",
       "       'Children', 'Weekly Earnings', 'Year', 'Weekly Hours Worked',\n",
       "       'Sleeping', 'Grooming', 'Housework', 'Food & Drink Prep',\n",
       "       'Caring for Children', 'Playing with Children', 'Job Searching',\n",
       "       'Shopping', 'Eating and Drinking', 'Socializing & Relaxing',\n",
       "       'Television', 'Golfing', 'Running', 'Volunteering'],\n",
       "      dtype='object')"
      ]
     },
     "execution_count": 35,
     "metadata": {},
     "output_type": "execute_result"
    }
   ],
   "source": [
    "df.columns"
   ]
  },
  {
   "cell_type": "code",
   "execution_count": 36,
   "metadata": {},
   "outputs": [
    {
     "name": "stdout",
     "output_type": "stream",
     "text": [
      "0      46105\n",
      "60       675\n",
      "30       423\n",
      "120      382\n",
      "90       279\n",
      "45       183\n",
      "180      140\n",
      "20       103\n",
      "150      100\n",
      "75        87\n",
      "Name: Playing with Children, dtype: int64\n",
      "\n",
      "count    50088.000000\n",
      "mean         8.764435\n",
      "std         39.896626\n",
      "min          0.000000\n",
      "25%          0.000000\n",
      "50%          0.000000\n",
      "75%          0.000000\n",
      "max        840.000000\n",
      "Name: Playing with Children, dtype: float64\n",
      "0.85      0.0\n",
      "0.95     60.0\n",
      "0.98    140.0\n",
      "Name: Playing with Children, dtype: float64\n",
      "\n",
      "(50088, 23)\n"
     ]
    }
   ],
   "source": [
    "# Playing with Chidlren\n",
    "print(df['Playing with Children'].value_counts().nlargest(10))\n",
    "print()\n",
    "\n",
    "print(df['Playing with Children'].describe())\n",
    "\n",
    "print(df['Playing with Children'].quantile([0.85,0.95,0.98]))\n",
    "#df=df.drop((df.loc[df['Playing with Children']>143]).index, inplace=False, axis=0)\n",
    "print()\n",
    "print(df.shape)\n"
   ]
  },
  {
   "cell_type": "code",
   "execution_count": 37,
   "metadata": {},
   "outputs": [
    {
     "name": "stdout",
     "output_type": "stream",
     "text": [
      "0      1955\n",
      "120    1486\n",
      "60     1203\n",
      "180    1126\n",
      "150     889\n",
      "90      884\n",
      "240     858\n",
      "210     747\n",
      "30      719\n",
      "300     682\n",
      "Name: Socializing & Relaxing, dtype: int64\n",
      "\n",
      "count    50088.000000\n",
      "mean       300.313109\n",
      "std        209.028442\n",
      "min          0.000000\n",
      "25%        135.000000\n",
      "50%        260.000000\n",
      "75%        430.000000\n",
      "max       1162.000000\n",
      "Name: Socializing & Relaxing, dtype: float64\n",
      "0.85    535.0\n",
      "0.95    700.0\n",
      "0.98    805.0\n",
      "Name: Socializing & Relaxing, dtype: float64\n",
      "\n",
      "(50088, 23)\n"
     ]
    }
   ],
   "source": [
    "#Socializing & Relaxing\n",
    "\n",
    "print(df['Socializing & Relaxing'].value_counts().nlargest(10))\n",
    "print()\n",
    "\n",
    "print(df['Socializing & Relaxing'].describe())\n",
    "\n",
    "print(df['Socializing & Relaxing'].quantile([0.85,0.95,0.98]))\n",
    "#df=df.drop((df.loc[df['Socializing & Relaxing']>810]).index, inplace=False, axis=0)\n",
    "print()\n",
    "print(df.shape)"
   ]
  },
  {
   "cell_type": "code",
   "execution_count": 38,
   "metadata": {},
   "outputs": [
    {
     "name": "stdout",
     "output_type": "stream",
     "text": [
      "0      9357\n",
      "120    2926\n",
      "60     2813\n",
      "90     1754\n",
      "30     1542\n",
      "180    1430\n",
      "150    1229\n",
      "240     970\n",
      "210     772\n",
      "45      572\n",
      "Name: Television, dtype: int64\n",
      "\n",
      "count    50088.000000\n",
      "mean       172.490836\n",
      "std        172.064565\n",
      "min          0.000000\n",
      "25%         45.000000\n",
      "50%        120.000000\n",
      "75%        245.000000\n",
      "max       1162.000000\n",
      "Name: Television, dtype: float64\n",
      "0.85    335.0\n",
      "0.95    529.0\n",
      "0.98    661.0\n",
      "Name: Television, dtype: float64\n",
      "\n",
      "(50088, 23)\n"
     ]
    }
   ],
   "source": [
    "# Television\n",
    "\n",
    "print(df['Television'].value_counts().nlargest(10))\n",
    "print()\n",
    "\n",
    "print(df['Television'].describe())\n",
    "\n",
    "print(df['Television'].quantile([0.85,0.95,0.98]))\n",
    "#df=df.drop((df.loc[df['Television']>615]).index, inplace=False, axis=0)\n",
    "print()\n",
    "print(df.shape)"
   ]
  },
  {
   "cell_type": "code",
   "execution_count": 39,
   "metadata": {},
   "outputs": [
    {
     "name": "stdout",
     "output_type": "stream",
     "text": [
      "0      46254\n",
      "60       325\n",
      "120      245\n",
      "30       229\n",
      "90       183\n",
      "15       169\n",
      "20       136\n",
      "180      134\n",
      "10       124\n",
      "45        97\n",
      "Name: Volunteering, dtype: int64\n",
      "\n",
      "count    50088.000000\n",
      "mean        10.537474\n",
      "std         51.585756\n",
      "min          0.000000\n",
      "25%          0.000000\n",
      "50%          0.000000\n",
      "75%          0.000000\n",
      "max       1020.000000\n",
      "Name: Volunteering, dtype: float64\n",
      "0.85      0.0\n",
      "0.95     60.0\n",
      "0.98    180.0\n",
      "Name: Volunteering, dtype: float64\n",
      "\n",
      "(50088, 23)\n"
     ]
    }
   ],
   "source": [
    "#Volunteering\n",
    "\n",
    "print(df['Volunteering'].value_counts().nlargest(10))\n",
    "print()\n",
    "\n",
    "print(df['Volunteering'].describe())\n",
    "\n",
    "print(df['Volunteering'].quantile([0.85,0.95,0.98]))\n",
    "#df=df.drop((df.loc[df['Volunteering']>180]).index, inplace=False, axis=0)\n",
    "print()\n",
    "print(df.shape)"
   ]
  },
  {
   "cell_type": "code",
   "execution_count": 40,
   "metadata": {},
   "outputs": [],
   "source": [
    "file=df.to_csv('file.csv')"
   ]
  },
  {
   "cell_type": "code",
   "execution_count": 41,
   "metadata": {},
   "outputs": [
    {
     "data": {
      "text/html": [
       "<div>\n",
       "<style scoped>\n",
       "    .dataframe tbody tr th:only-of-type {\n",
       "        vertical-align: middle;\n",
       "    }\n",
       "\n",
       "    .dataframe tbody tr th {\n",
       "        vertical-align: top;\n",
       "    }\n",
       "\n",
       "    .dataframe thead th {\n",
       "        text-align: right;\n",
       "    }\n",
       "</style>\n",
       "<table border=\"1\" class=\"dataframe\">\n",
       "  <thead>\n",
       "    <tr style=\"text-align: right;\">\n",
       "      <th></th>\n",
       "      <th>Education Level</th>\n",
       "      <th>Age</th>\n",
       "      <th>Age Range</th>\n",
       "      <th>Employment Status</th>\n",
       "      <th>Gender</th>\n",
       "      <th>Children</th>\n",
       "      <th>Weekly Earnings</th>\n",
       "      <th>Year</th>\n",
       "      <th>Weekly Hours Worked</th>\n",
       "      <th>Sleeping</th>\n",
       "      <th>...</th>\n",
       "      <th>Caring for Children</th>\n",
       "      <th>Playing with Children</th>\n",
       "      <th>Job Searching</th>\n",
       "      <th>Shopping</th>\n",
       "      <th>Eating and Drinking</th>\n",
       "      <th>Socializing &amp; Relaxing</th>\n",
       "      <th>Television</th>\n",
       "      <th>Golfing</th>\n",
       "      <th>Running</th>\n",
       "      <th>Volunteering</th>\n",
       "    </tr>\n",
       "  </thead>\n",
       "  <tbody>\n",
       "    <tr>\n",
       "      <th>1</th>\n",
       "      <td>Bachelor</td>\n",
       "      <td>42</td>\n",
       "      <td>40-49</td>\n",
       "      <td>Employed</td>\n",
       "      <td>Female</td>\n",
       "      <td>2</td>\n",
       "      <td>1480</td>\n",
       "      <td>2005</td>\n",
       "      <td>40</td>\n",
       "      <td>500</td>\n",
       "      <td>...</td>\n",
       "      <td>365</td>\n",
       "      <td>20</td>\n",
       "      <td>0</td>\n",
       "      <td>120</td>\n",
       "      <td>40</td>\n",
       "      <td>15</td>\n",
       "      <td>15</td>\n",
       "      <td>0</td>\n",
       "      <td>0</td>\n",
       "      <td>0</td>\n",
       "    </tr>\n",
       "    <tr>\n",
       "      <th>2</th>\n",
       "      <td>Master</td>\n",
       "      <td>47</td>\n",
       "      <td>40-49</td>\n",
       "      <td>Employed</td>\n",
       "      <td>Male</td>\n",
       "      <td>0</td>\n",
       "      <td>904</td>\n",
       "      <td>2005</td>\n",
       "      <td>40</td>\n",
       "      <td>480</td>\n",
       "      <td>...</td>\n",
       "      <td>0</td>\n",
       "      <td>0</td>\n",
       "      <td>0</td>\n",
       "      <td>15</td>\n",
       "      <td>85</td>\n",
       "      <td>214</td>\n",
       "      <td>199</td>\n",
       "      <td>0</td>\n",
       "      <td>0</td>\n",
       "      <td>0</td>\n",
       "    </tr>\n",
       "    <tr>\n",
       "      <th>6</th>\n",
       "      <td>High School</td>\n",
       "      <td>46</td>\n",
       "      <td>40-49</td>\n",
       "      <td>Employed</td>\n",
       "      <td>Male</td>\n",
       "      <td>0</td>\n",
       "      <td>700</td>\n",
       "      <td>2005</td>\n",
       "      <td>40</td>\n",
       "      <td>445</td>\n",
       "      <td>...</td>\n",
       "      <td>0</td>\n",
       "      <td>0</td>\n",
       "      <td>0</td>\n",
       "      <td>0</td>\n",
       "      <td>60</td>\n",
       "      <td>165</td>\n",
       "      <td>150</td>\n",
       "      <td>0</td>\n",
       "      <td>0</td>\n",
       "      <td>0</td>\n",
       "    </tr>\n",
       "    <tr>\n",
       "      <th>7</th>\n",
       "      <td>Bachelor</td>\n",
       "      <td>24</td>\n",
       "      <td>20-29</td>\n",
       "      <td>Employed</td>\n",
       "      <td>Female</td>\n",
       "      <td>0</td>\n",
       "      <td>442</td>\n",
       "      <td>2005</td>\n",
       "      <td>45</td>\n",
       "      <td>435</td>\n",
       "      <td>...</td>\n",
       "      <td>0</td>\n",
       "      <td>0</td>\n",
       "      <td>0</td>\n",
       "      <td>0</td>\n",
       "      <td>0</td>\n",
       "      <td>0</td>\n",
       "      <td>0</td>\n",
       "      <td>0</td>\n",
       "      <td>0</td>\n",
       "      <td>0</td>\n",
       "    </tr>\n",
       "    <tr>\n",
       "      <th>13</th>\n",
       "      <td>High School</td>\n",
       "      <td>22</td>\n",
       "      <td>20-29</td>\n",
       "      <td>Employed</td>\n",
       "      <td>Female</td>\n",
       "      <td>2</td>\n",
       "      <td>0</td>\n",
       "      <td>2005</td>\n",
       "      <td>0</td>\n",
       "      <td>430</td>\n",
       "      <td>...</td>\n",
       "      <td>147</td>\n",
       "      <td>0</td>\n",
       "      <td>0</td>\n",
       "      <td>80</td>\n",
       "      <td>99</td>\n",
       "      <td>313</td>\n",
       "      <td>120</td>\n",
       "      <td>0</td>\n",
       "      <td>0</td>\n",
       "      <td>0</td>\n",
       "    </tr>\n",
       "  </tbody>\n",
       "</table>\n",
       "<p>5 rows × 23 columns</p>\n",
       "</div>"
      ],
      "text/plain": [
       "   Education Level  Age Age Range Employment Status  Gender  Children  \\\n",
       "1         Bachelor   42     40-49          Employed  Female         2   \n",
       "2           Master   47     40-49          Employed    Male         0   \n",
       "6      High School   46     40-49          Employed    Male         0   \n",
       "7         Bachelor   24     20-29          Employed  Female         0   \n",
       "13     High School   22     20-29          Employed  Female         2   \n",
       "\n",
       "    Weekly Earnings  Year  Weekly Hours Worked  Sleeping  ...  \\\n",
       "1              1480  2005                   40       500  ...   \n",
       "2               904  2005                   40       480  ...   \n",
       "6               700  2005                   40       445  ...   \n",
       "7               442  2005                   45       435  ...   \n",
       "13                0  2005                    0       430  ...   \n",
       "\n",
       "    Caring for Children  Playing with Children  Job Searching  Shopping  \\\n",
       "1                   365                     20              0       120   \n",
       "2                     0                      0              0        15   \n",
       "6                     0                      0              0         0   \n",
       "7                     0                      0              0         0   \n",
       "13                  147                      0              0        80   \n",
       "\n",
       "    Eating and Drinking  Socializing & Relaxing  Television  Golfing  Running  \\\n",
       "1                    40                      15          15        0        0   \n",
       "2                    85                     214         199        0        0   \n",
       "6                    60                     165         150        0        0   \n",
       "7                     0                       0           0        0        0   \n",
       "13                   99                     313         120        0        0   \n",
       "\n",
       "    Volunteering  \n",
       "1              0  \n",
       "2              0  \n",
       "6              0  \n",
       "7              0  \n",
       "13             0  \n",
       "\n",
       "[5 rows x 23 columns]"
      ]
     },
     "execution_count": 41,
     "metadata": {},
     "output_type": "execute_result"
    }
   ],
   "source": [
    "#Finding the different yearly median for weekly earnings among Employed\n",
    "\n",
    "employeed=df.loc[df['Employment Status']=='Employed']\n",
    "\n",
    "employeed.head()"
   ]
  },
  {
   "cell_type": "code",
   "execution_count": 43,
   "metadata": {},
   "outputs": [],
   "source": [
    "y_2012=df.loc[df['Year']==2012]"
   ]
  },
  {
   "cell_type": "code",
   "execution_count": 44,
   "metadata": {},
   "outputs": [
    {
     "data": {
      "text/plain": [
       "Employed              32534\n",
       "Not in labor force    15070\n",
       "Unemployed             2484\n",
       "Name: Employment Status, dtype: int64"
      ]
     },
     "execution_count": 44,
     "metadata": {},
     "output_type": "execute_result"
    }
   ],
   "source": [
    "df['Employment Status'].value_counts()"
   ]
  },
  {
   "cell_type": "code",
   "execution_count": 51,
   "metadata": {},
   "outputs": [
    {
     "data": {
      "text/plain": [
       "2005    4365\n",
       "2007    4211\n",
       "2008    4185\n",
       "2006    4177\n",
       "2009    4027\n",
       "2012    3893\n",
       "2010    3864\n",
       "2011    3812\n",
       "Name: Year, dtype: int64"
      ]
     },
     "execution_count": 51,
     "metadata": {},
     "output_type": "execute_result"
    }
   ],
   "source": [
    "employeed['Year'].value_counts()"
   ]
  },
  {
   "cell_type": "code",
   "execution_count": 52,
   "metadata": {},
   "outputs": [
    {
     "data": {
      "image/png": "[encoded data removed]",
      "text/plain": [
       "<Figure size 1152x504 with 1 Axes>"
      ]
     },
     "metadata": {
      "needs_background": "light"
     },
     "output_type": "display_data"
    }
   ],
   "source": [
    "d=employeed.groupby(['Year'])['Weekly Earnings'].median().plot(figsize=(16,7))\n"
   ]
  },
  {
   "cell_type": "code",
   "execution_count": 53,
   "metadata": {},
   "outputs": [
    {
     "name": "stdout",
     "output_type": "stream",
     "text": [
      " For the year 2005 median weekly earnings were 574\n",
      "\n",
      " For the year 2006 median weekly earnings were 577\n",
      "\n",
      " For the year 2007 median weekly earnings were 600\n",
      "\n",
      " For the year 2008 median weekly earnings were 625\n",
      "\n",
      " For the year 2009 median weekly earnings were 635\n",
      "\n",
      " For the year 2010 median weekly earnings were 654\n",
      "\n",
      " For the year 2011 median weekly earnings were 660\n",
      "\n",
      " For the year 2012 median weekly earnings were 673\n",
      "\n"
     ]
    }
   ],
   "source": [
    "med=employeed.groupby(['Year'])['Weekly Earnings'].median()\n",
    "\n",
    "for year in employeed['Year'].unique():\n",
    "    print(f' For the year {year} median weekly earnings were {med[year]}\\n')"
   ]
  },
  {
   "cell_type": "code",
   "execution_count": null,
   "metadata": {},
   "outputs": [],
   "source": [
    "# Analyze data for year 2005"
   ]
  },
  {
   "cell_type": "code",
   "execution_count": 42,
   "metadata": {},
   "outputs": [
    {
     "data": {
      "text/plain": [
       "<matplotlib.axes._subplots.AxesSubplot at 0x209ffc64eb8>"
      ]
     },
     "execution_count": 42,
     "metadata": {},
     "output_type": "execute_result"
    },
    {
     "data": {
      "image/png": "[encoded data removed]",
      "text/plain": [
       "<Figure size 1152x504 with 1 Axes>"
      ]
     },
     "metadata": {
      "needs_background": "light"
     },
     "output_type": "display_data"
    }
   ],
   "source": [
    "d=y_2012.groupby(['Education Level'])['Weekly Earnings'].median().plot(figsize=(16,7))\n",
    "d"
   ]
  },
  {
   "cell_type": "code",
   "execution_count": 54,
   "metadata": {},
   "outputs": [
    {
     "data": {
      "text/plain": [
       "<matplotlib.lines.Line2D at 0x234c8105860>"
      ]
     },
     "execution_count": 54,
     "metadata": {},
     "output_type": "execute_result"
    },
    {
     "data": {
      "image/png": "[encoded data removed]",
      "text/plain": [
       "<Figure size 1152x504 with 1 Axes>"
      ]
     },
     "metadata": {
      "needs_background": "light"
     },
     "output_type": "display_data"
    }
   ],
   "source": [
    "mlt.subplots(figsize=(16,7))\n",
    "d=y_2012.groupby(['Education Level'])['Weekly Earnings'].mean()\n",
    "\n",
    "snr.barplot(x=d.index,y=d, palette='coolwarm')\n",
    "mean=y_2012['Weekly Earnings'].mean()\n",
    "median=y_2012['Weekly Earnings'].median()\n",
    "mlt.axhline(mean, color='r', linestyle='--')\n",
    "mlt.axhline(median, color='g', linestyle='--')"
   ]
  },
  {
   "cell_type": "code",
   "execution_count": 56,
   "metadata": {},
   "outputs": [
    {
     "data": {
      "text/plain": [
       "<matplotlib.axes._subplots.AxesSubplot at 0x234c71309e8>"
      ]
     },
     "execution_count": 56,
     "metadata": {},
     "output_type": "execute_result"
    },
    {
     "data": {
      "image/png": "[encoded data removed]",
      "text/plain": [
       "<Figure size 1800x720 with 1 Axes>"
      ]
     },
     "metadata": {
      "needs_background": "light"
     },
     "output_type": "display_data"
    }
   ],
   "source": [
    "m=y_2012.groupby(['Education Level'])['Employment Status'].count()\n",
    "fig,ax= mlt.subplots(nrows=1, ncols=1, figsize=(25,10))\n",
    "snr.countplot(x=y_2012['Education Level'], palette='coolwarm',hue=y_2012['Employment Status'])"
   ]
  },
  {
   "cell_type": "code",
   "execution_count": 59,
   "metadata": {},
   "outputs": [
    {
     "data": {
      "text/plain": [
       "<matplotlib.axes._subplots.AxesSubplot at 0x234ce151b70>"
      ]
     },
     "execution_count": 59,
     "metadata": {},
     "output_type": "execute_result"
    },
    {
     "data": {
      "image/png": "[encoded data removed]",
      "text/plain": [
       "<Figure size 1152x504 with 2 Axes>"
      ]
     },
     "metadata": {
      "needs_background": "light"
     },
     "output_type": "display_data"
    }
   ],
   "source": [
    "fig,ax=mlt.subplots(nrows=1,ncols=1,figsize=(16,7))\n",
    "snr.heatmap(df.corr(),cmap='coolwarm',annot=True)"
   ]
  },
  {
   "cell_type": "markdown",
   "metadata": {},
   "source": [
    "Caring for children and playing with children have high correlation of 0.7.\n",
    "Caring for chindren has bigger scope which will also include playing with children along with the other parenting aspects\n",
    "\n",
    "Similarly Television is a subset of Socializing and Relaxing\n",
    "\n",
    "Thus let's drop Television and playing with children"
   ]
  },
  {
   "cell_type": "code",
   "execution_count": 60,
   "metadata": {},
   "outputs": [
    {
     "data": {
      "text/plain": [
       "(50088, 21)"
      ]
     },
     "execution_count": 60,
     "metadata": {},
     "output_type": "execute_result"
    }
   ],
   "source": [
    "df=df.drop(['Television','Playing with Children'],axis=1)\n",
    "df.shape"
   ]
  },
  {
   "cell_type": "markdown",
   "metadata": {},
   "source": [
    "# Chi Square Test\n",
    "\n",
    "lets try to see association between between Employment Status and Gender\n",
    "\n",
    "we wil use chi square test, its used to identified whather there is a association between two categorical variables from the same sample population"
   ]
  },
  {
   "cell_type": "markdown",
   "metadata": {},
   "source": [
    "## Is there any relationship between Employment Status and Gender\n",
    "\n",
    "null hypothesis: No relation (p-val > 0.05)\n",
    "Alternate Hypothesis: There is a rlationship (p-val<0.5)"
   ]
  },
  {
   "cell_type": "code",
   "execution_count": 61,
   "metadata": {},
   "outputs": [
    {
     "name": "stdout",
     "output_type": "stream",
     "text": [
      "Gender              Female  Male\n",
      "Employment Status               \n",
      "Employed              1906  1987\n",
      "Not in labor force    1267   773\n",
      "Unemployed             146   158\n",
      "\n",
      "(3, 2)\n"
     ]
    }
   ],
   "source": [
    "\n",
    "import scipy.stats as stats\n",
    "emp_tab=pd.crosstab(y_2012['Employment Status'],y_2012['Gender'])\n",
    "\n",
    "print(emp_tab)\n",
    "print()\n",
    "print(emp_tab.shape)"
   ]
  },
  {
   "cell_type": "markdown",
   "metadata": {},
   "source": [
    "assumptions of chi-square:\n",
    "- The data in the cells should be frequencies, or counts of cases rather than percentages or some other transformation of the data.\n",
    "\n",
    "- The levels (or categories) of the variables are mutually exclusive. That is, a particular subject fits into one and only one level of each of the variables.\n",
    "\n",
    "- The value of the cell expecteds should be 5 or more in at least 80% of the cells, and no cell should have an expected of less than one"
   ]
  },
  {
   "cell_type": "code",
   "execution_count": 62,
   "metadata": {},
   "outputs": [
    {
     "data": {
      "text/plain": [
       "array([[1906, 1987],\n",
       "       [1267,  773],\n",
       "       [ 146,  158]], dtype=int64)"
      ]
     },
     "execution_count": 62,
     "metadata": {},
     "output_type": "execute_result"
    }
   ],
   "source": [
    "observed_val=emp_tab.values\n",
    "observed_val"
   ]
  },
  {
   "cell_type": "code",
   "execution_count": 63,
   "metadata": {},
   "outputs": [],
   "source": [
    "val=stats.chi2_contingency(observed_val)"
   ]
  },
  {
   "cell_type": "code",
   "execution_count": 64,
   "metadata": {},
   "outputs": [
    {
     "name": "stdout",
     "output_type": "stream",
     "text": [
      " Degree of freedom is : 2\n"
     ]
    }
   ],
   "source": [
    "no_of_rows=len(emp_tab.iloc[0:,0])\n",
    "no_of_cols=len(emp_tab.iloc[0,0:])\n",
    "ddof=(no_of_rows-1)*(no_of_cols-1)\n",
    "print(f' Degree of freedom is : {ddof}')\n",
    "alpha=0.05"
   ]
  },
  {
   "cell_type": "code",
   "execution_count": 65,
   "metadata": {},
   "outputs": [
    {
     "name": "stdout",
     "output_type": "stream",
     "text": [
      "(96.40121307655733, 1.166118152880802e-21, 2, array([[2071.64774731, 1821.35225269],\n",
      "       [1085.57960558,  954.42039442],\n",
      "       [ 161.77264711,  142.22735289]]))\n"
     ]
    }
   ],
   "source": [
    "# 3 because we are interested in array in val which is at 3rd index strats from 0\n",
    "print(val)\n",
    "expected_val=val[3]"
   ]
  },
  {
   "cell_type": "code",
   "execution_count": 66,
   "metadata": {},
   "outputs": [],
   "source": [
    "from scipy.stats import chi2"
   ]
  },
  {
   "cell_type": "code",
   "execution_count": 67,
   "metadata": {},
   "outputs": [
    {
     "name": "stdout",
     "output_type": "stream",
     "text": [
      "Chi Square Statistic : 96.40121307655733\n"
     ]
    }
   ],
   "source": [
    "chi_square=sum([(o-e)**2./e for o,e in zip(observed_val,expected_val)])\n",
    "chi_stats=chi_square[0]+chi_square[1]\n",
    "print('Chi Square Statistic :',chi_stats)"
   ]
  },
  {
   "cell_type": "code",
   "execution_count": 68,
   "metadata": {},
   "outputs": [
    {
     "name": "stdout",
     "output_type": "stream",
     "text": [
      "Critical Value: 5.991464547107979\n"
     ]
    }
   ],
   "source": [
    "critical_value=chi2.ppf(q=1-alpha,df=ddof)\n",
    "print('Critical Value:', critical_value)"
   ]
  },
  {
   "cell_type": "code",
   "execution_count": 69,
   "metadata": {},
   "outputs": [
    {
     "name": "stdout",
     "output_type": "stream",
     "text": [
      "P-val: 0.0\n",
      "\n",
      "Significance Level: 0.05\n",
      "\n",
      "Degree of freedom is : 2\n"
     ]
    }
   ],
   "source": [
    "# p value\n",
    "p_val=1-chi2.cdf(x=chi_stats,df=ddof)\n",
    "print('P-val:',p_val)\n",
    "print()\n",
    "print('Significance Level:', alpha)\n",
    "print()\n",
    "print(f'Degree of freedom is : {ddof}')"
   ]
  },
  {
   "cell_type": "code",
   "execution_count": 70,
   "metadata": {},
   "outputs": [
    {
     "name": "stdout",
     "output_type": "stream",
     "text": [
      "There is a relation between Employment Status and Gender\n"
     ]
    }
   ],
   "source": [
    "if p_val>=alpha:\n",
    "    print('There is no relation between Employment Status and Gender')\n",
    "else:\n",
    "    print('There is a relation between Employment Status and Gender')"
   ]
  },
  {
   "cell_type": "code",
   "execution_count": 71,
   "metadata": {},
   "outputs": [
    {
     "data": {
      "text/plain": [
       "Employment Status\n",
       "Employed              3893\n",
       "Not in labor force    2040\n",
       "Unemployed             304\n",
       "Name: Gender, dtype: int64"
      ]
     },
     "execution_count": 71,
     "metadata": {},
     "output_type": "execute_result"
    }
   ],
   "source": [
    "#Lets Explore the Gender and Employment Status\n",
    "\n",
    "y_2012.groupby(['Employment Status'])['Gender'].count()"
   ]
  },
  {
   "cell_type": "code",
   "execution_count": 72,
   "metadata": {},
   "outputs": [
    {
     "data": {
      "text/plain": [
       "Education Level\n",
       "10th grade           203\n",
       "11th grade           220\n",
       "12th grade            61\n",
       "9th grade            181\n",
       "Associate Degree     599\n",
       "Bachelor            1322\n",
       "Doctoral Degree       91\n",
       "High School         1655\n",
       "Master               624\n",
       "Prof. Degree         107\n",
       "Some College        1174\n",
       "Name: Employment Status, dtype: int64"
      ]
     },
     "execution_count": 72,
     "metadata": {},
     "output_type": "execute_result"
    }
   ],
   "source": [
    "y_2012.groupby(['Education Level'])['Employment Status'].count()"
   ]
  },
  {
   "cell_type": "markdown",
   "metadata": {},
   "source": [
    "## Is there any relation ship between Education level and Employment status???"
   ]
  },
  {
   "cell_type": "code",
   "execution_count": 45,
   "metadata": {},
   "outputs": [
    {
     "name": "stdout",
     "output_type": "stream",
     "text": [
      "Education Level     10th grade  11th grade  12th grade  9th grade  \\\n",
      "Employment Status                                                   \n",
      "Employed                    54          81          35         52   \n",
      "Not in labor force         124         108          18        111   \n",
      "Unemployed                  25          31           8         18   \n",
      "\n",
      "Education Level     Associate Degree  Bachelor  Doctoral Degree  High School  \\\n",
      "Employment Status                                                              \n",
      "Employed                         418       982               74          902   \n",
      "Not in labor force               155       312               16          671   \n",
      "Unemployed                        26        28                1           82   \n",
      "\n",
      "Education Level     Master  Prof. Degree  Some College  \n",
      "Employment Status                                       \n",
      "Employed               485            84           726  \n",
      "Not in labor force     130            22           373  \n",
      "Unemployed               9             1            75  \n",
      "\n",
      "(3, 11)\n"
     ]
    }
   ],
   "source": [
    "import scipy.stats as stats\n",
    "emp_tab=pd.crosstab(y_2012['Employment Status'],y_2012['Education Level'])\n",
    "\n",
    "print(emp_tab)\n",
    "print()\n",
    "print(emp_tab.shape)"
   ]
  },
  {
   "cell_type": "markdown",
   "metadata": {},
   "source": [
    "assumptions of chi-square:\n",
    "- The data in the cells should be frequencies, or counts of cases rather than percentages or some other transformation of the data.\n",
    "\n",
    "- The levels (or categories) of the variables are mutually exclusive. That is, a particular subject fits into one and only one level of each of the variables.\n",
    "\n",
    "- The value of the cell expecteds should be 5 or more in at least 80% of the cells, and no cell should have an expected of less than one"
   ]
  },
  {
   "cell_type": "code",
   "execution_count": 74,
   "metadata": {},
   "outputs": [
    {
     "data": {
      "text/plain": [
       "array([[ 54,  81,  35,  52, 418, 982,  74, 902, 485,  84, 726],\n",
       "       [124, 108,  18, 111, 155, 312,  16, 671, 130,  22, 373],\n",
       "       [ 25,  31,   8,  18,  26,  28,   1,  82,   9,   1,  75]],\n",
       "      dtype=int64)"
      ]
     },
     "execution_count": 74,
     "metadata": {},
     "output_type": "execute_result"
    }
   ],
   "source": [
    "# it does satisfies the conditions\n",
    "observed_val=emp_tab.values\n",
    "observed_val\n"
   ]
  },
  {
   "cell_type": "code",
   "execution_count": 75,
   "metadata": {},
   "outputs": [
    {
     "name": "stdout",
     "output_type": "stream",
     "text": [
      "(534.920074221628, 1.3930165578725052e-100, 20, array([[ 126.70819304,  137.31922399,   38.07487574,  112.97627064,\n",
      "         373.88279622,  825.1637005 ,   56.80022447, 1033.01507135,\n",
      "         389.48725349,   66.78707712,  732.78531345],\n",
      "       [  66.3973064 ,   71.95767196,   19.95189995,   59.2015392 ,\n",
      "         195.92111592,  432.4001924 ,   29.76430976,  541.31794132,\n",
      "         204.0981241 ,   34.997595  ,  383.99230399],\n",
      "       [   9.89450056,   10.72310406,    2.97322431,    8.82219016,\n",
      "          29.19608786,   64.4361071 ,    4.43546577,   80.66698733,\n",
      "          30.41462241,    5.21532788,   57.22238256]]))\n"
     ]
    }
   ],
   "source": [
    "val=stats.chi2_contingency(observed_val)\n",
    "print(val)\n",
    "expected_val=val[3]"
   ]
  },
  {
   "cell_type": "code",
   "execution_count": 76,
   "metadata": {},
   "outputs": [],
   "source": [
    "from scipy.stats import chi2"
   ]
  },
  {
   "cell_type": "code",
   "execution_count": 77,
   "metadata": {},
   "outputs": [
    {
     "name": "stdout",
     "output_type": "stream",
     "text": [
      "Chi Square Statistic : 194.2496161798971\n"
     ]
    }
   ],
   "source": [
    "chi_square=sum([(o-e)**2./e for o,e in zip(observed_val,expected_val)])\n",
    "chi_stats=chi_square[0]+chi_square[1]\n",
    "print('Chi Square Statistic :',chi_stats)"
   ]
  },
  {
   "cell_type": "code",
   "execution_count": 78,
   "metadata": {},
   "outputs": [
    {
     "name": "stdout",
     "output_type": "stream",
     "text": [
      "Critical Value: 5.991464547107979\n"
     ]
    }
   ],
   "source": [
    "critical_value=chi2.ppf(q=1-alpha,df=ddof)\n",
    "print('Critical Value:', critical_value)"
   ]
  },
  {
   "cell_type": "code",
   "execution_count": 79,
   "metadata": {},
   "outputs": [
    {
     "name": "stdout",
     "output_type": "stream",
     "text": [
      "P-val: 0.0\n",
      "\n",
      "Significance Level: 0.05\n",
      "\n",
      "Degree of freedom is : 2\n"
     ]
    }
   ],
   "source": [
    "p_val=1-chi2.cdf(x=chi_stats,df=ddof)\n",
    "print('P-val:',p_val)\n",
    "print()\n",
    "print('Significance Level:', alpha)\n",
    "print()\n",
    "print(f'Degree of freedom is : {ddof}')"
   ]
  },
  {
   "cell_type": "code",
   "execution_count": 80,
   "metadata": {},
   "outputs": [
    {
     "name": "stdout",
     "output_type": "stream",
     "text": [
      "There is a relation between Employment Status and Education Level\n"
     ]
    }
   ],
   "source": [
    "if p_val>=alpha:\n",
    "    print('There is no relation between Employment Status and Education Level')\n",
    "else:\n",
    "    print('There is a relation between Employment Status and Education Level')"
   ]
  },
  {
   "cell_type": "markdown",
   "metadata": {},
   "source": [
    "# Anova\n",
    "\n",
    "- One way Annova: analyzing the test score of a class based on gender \n",
    "\n",
    "- Two Way Anova: analyzing the test score of a class based on gender and age. Here test score is a dependent variable and gender and age are the independent variables. Two-way ANOVA can be used to find the relationship between these dependent and independent variables"
   ]
  },
  {
   "cell_type": "code",
   "execution_count": null,
   "metadata": {},
   "outputs": [],
   "source": [
    "y_2012.info()"
   ]
  },
  {
   "cell_type": "code",
   "execution_count": 46,
   "metadata": {},
   "outputs": [],
   "source": [
    "# Annova\n",
    "import statsmodels.api as sm\n",
    "from statsmodels.formula.api import ols"
   ]
  },
  {
   "cell_type": "code",
   "execution_count": 47,
   "metadata": {},
   "outputs": [],
   "source": [
    "# in Annova make sure dependant variable is converted into numbers\n",
    "y_2012['Gender'] = y_2012['Gender'].replace({'Male':1, 'Female':0})\n",
    "y_2012['EmpStatus']=y_2012['Employment Status'].replace({'Employed':1,'Unemployed':2,'Not in labor force':3})\n"
   ]
  },
  {
   "cell_type": "code",
   "execution_count": 48,
   "metadata": {},
   "outputs": [],
   "source": [
    "y_2012['Week_earn']=y_2012['Weekly Earnings']"
   ]
  },
  {
   "cell_type": "code",
   "execution_count": 49,
   "metadata": {},
   "outputs": [],
   "source": [
    "y_2012['weekly_hours']=y_2012['Weekly Hours Worked']\n"
   ]
  },
  {
   "cell_type": "code",
   "execution_count": 50,
   "metadata": {},
   "outputs": [],
   "source": [
    "y_2012['Eating']=y_2012['Eating and Drinking']"
   ]
  },
  {
   "cell_type": "code",
   "execution_count": 51,
   "metadata": {},
   "outputs": [],
   "source": [
    "y_2012['child']=y_2012['Caring for Children']"
   ]
  },
  {
   "cell_type": "code",
   "execution_count": 52,
   "metadata": {},
   "outputs": [
    {
     "name": "stdout",
     "output_type": "stream",
     "text": [
      "<class 'pandas.core.frame.DataFrame'>\n",
      "Int64Index: 6237 entries, 56005 to 64005\n",
      "Data columns (total 28 columns):\n",
      "Education Level           6237 non-null object\n",
      "Age                       6237 non-null int64\n",
      "Age Range                 6237 non-null object\n",
      "Employment Status         6237 non-null object\n",
      "Gender                    6237 non-null int64\n",
      "Children                  6237 non-null int64\n",
      "Weekly Earnings           6237 non-null int64\n",
      "Year                      6237 non-null object\n",
      "Weekly Hours Worked       6237 non-null int64\n",
      "Sleeping                  6237 non-null int64\n",
      "Grooming                  6237 non-null int64\n",
      "Housework                 6237 non-null int64\n",
      "Food & Drink Prep         6237 non-null int64\n",
      "Caring for Children       6237 non-null int64\n",
      "Playing with Children     6237 non-null int64\n",
      "Job Searching             6237 non-null int64\n",
      "Shopping                  6237 non-null int64\n",
      "Eating and Drinking       6237 non-null int64\n",
      "Socializing & Relaxing    6237 non-null int64\n",
      "Television                6237 non-null int64\n",
      "Golfing                   6237 non-null int64\n",
      "Running                   6237 non-null int64\n",
      "Volunteering              6237 non-null int64\n",
      "EmpStatus                 6237 non-null int64\n",
      "Week_earn                 6237 non-null int64\n",
      "weekly_hours              6237 non-null int64\n",
      "Eating                    6237 non-null int64\n",
      "child                     6237 non-null int64\n",
      "dtypes: int64(24), object(4)\n",
      "memory usage: 1.4+ MB\n"
     ]
    }
   ],
   "source": [
    "y_2012.info()"
   ]
  },
  {
   "cell_type": "code",
   "execution_count": 55,
   "metadata": {},
   "outputs": [
    {
     "name": "stdout",
     "output_type": "stream",
     "text": [
      "Effect on gender male and female on Shopping: One way Anova\n",
      "\n",
      "               df        sum_sq        mean_sq          F        PR(>F)\n",
      "C(Gender)     1.0  1.278643e+05  127864.324877  58.698456  2.118145e-14\n",
      "Residual   6235.0  1.358186e+07    2178.325186        NaN           NaN\n",
      "                  df        sum_sq      mean_sq         F    PR(>F)\n",
      "C(EmpStatus)     2.0  3.874355e+02   193.717736  0.088089  0.915681\n",
      "Residual      6234.0  1.370933e+07  2199.123264       NaN       NaN\n",
      "\n",
      "\n",
      "Effect on gender and employee status Shopping and interaction between gender and emp status: Two way Anova\n",
      "\n",
      "                              sum_sq      df          F        PR(>F)\n",
      "C(Gender)               1.316533e+05     1.0  60.453625  8.756610e-15\n",
      "C(EmpStatus)            4.176444e+03     2.0   0.958886  3.833761e-01\n",
      "C(Gender):C(EmpStatus)  8.074281e+03     2.0   1.853806  1.567262e-01\n",
      "Residual                1.356961e+07  6231.0        NaN           NaN\n"
     ]
    }
   ],
   "source": [
    "# two way annova is used to comapre multiple dependant variables\n",
    "# make sure dependant variable is converted into numbers\n",
    "#y_2005['Gender'] = y_2005['Gender'].replace({'Male':1, 'Female':0})\n",
    "#y_2005['EmpStatus']=y_2005['Employment Status'].replace({'Employed':1,'Unemployed':2,'Not in labor force':3})\n",
    "# effect on gender male and female on Shopping one way\n",
    "#C(Gender):C(EmpStatus) insteraction term\n",
    "print('Effect on gender male and female on Shopping: One way Anova')\n",
    "print()\n",
    "model1 = ols(\"Shopping ~ C(Gender)\", data=y_2012).fit()\n",
    "anova_table1 = sm.stats.anova_lm(model1, typ=1)\n",
    "print(anova_table1)\n",
    "\n",
    "model2 = ols(\"Shopping ~ C(EmpStatus)\", data=y_2012).fit()\n",
    "anova_table2 = sm.stats.anova_lm(model2, typ=1)\n",
    "\n",
    "print(anova_table2)\n",
    "print()\n",
    "print()\n",
    "\n",
    "# effect on gender male and female on Shopping and EmpStatus Two way\n",
    "print('Effect on gender and employee status Shopping and interaction between gender and emp status: Two way Anova')\n",
    "print()\n",
    "model3 = ols(\"Shopping ~ +C(Gender)+C(EmpStatus)+C(Gender):C(EmpStatus)\", data=y_2012).fit()\n",
    "anova_table3 = sm.stats.anova_lm(model3, typ=2)\n",
    "print(anova_table3)\n",
    "\n"
   ]
  },
  {
   "cell_type": "markdown",
   "metadata": {},
   "source": [
    "As we can see in the annova test, shoping has no difference on the basis of emp status. That is weather person is employed or not employed there no chnage in shopping pattern"
   ]
  },
  {
   "cell_type": "code",
   "execution_count": 89,
   "metadata": {},
   "outputs": [
    {
     "name": "stdout",
     "output_type": "stream",
     "text": [
      "                  df        sum_sq       mean_sq          F    PR(>F)\n",
      "C(EmpStatus)     2.0  2.431334e+04  12156.668484  12.280784  0.000005\n",
      "Residual      6234.0  6.170996e+06    989.893504        NaN       NaN\n"
     ]
    }
   ],
   "source": [
    "model = ols(\"Grooming ~ C(EmpStatus)\", data=y_2012).fit()\n",
    "anova_table = sm.stats.anova_lm(model, typ=1)\n",
    "print(anova_table)"
   ]
  },
  {
   "cell_type": "code",
   "execution_count": 90,
   "metadata": {},
   "outputs": [
    {
     "name": "stdout",
     "output_type": "stream",
     "text": [
      "                  df        sum_sq       mean_sq           F         PR(>F)\n",
      "C(EmpStatus)     2.0  1.641575e+07  8.207876e+06  277.951785  2.340172e-116\n",
      "Residual      6234.0  1.840891e+08  2.952986e+04         NaN            NaN\n"
     ]
    }
   ],
   "source": [
    "model = ols(\"Television ~ C(EmpStatus)\", data=y_2012).fit()\n",
    "anova_table = sm.stats.anova_lm(model, typ=1)\n",
    "print(anova_table)"
   ]
  },
  {
   "cell_type": "code",
   "execution_count": 91,
   "metadata": {},
   "outputs": [
    {
     "name": "stdout",
     "output_type": "stream",
     "text": [
      "                  df         sum_sq    mean_sq         F    PR(>F)\n",
      "C(EmpStatus)     2.0     168.934489  84.467245  1.711378  0.180701\n",
      "Residual      6234.0  307686.938527  49.356262       NaN       NaN\n"
     ]
    }
   ],
   "source": [
    "model = ols(\"Running ~ +C(EmpStatus)\", data=y_2012).fit()\n",
    "anova_table = sm.stats.anova_lm(model, typ1=1)\n",
    "print(anova_table)"
   ]
  },
  {
   "cell_type": "code",
   "execution_count": 92,
   "metadata": {},
   "outputs": [
    {
     "name": "stdout",
     "output_type": "stream",
     "text": [
      "                  df        sum_sq        mean_sq          F        PR(>F)\n",
      "C(EmpStatus)     2.0  1.936950e+06  968474.980662  79.039806  1.263132e-34\n",
      "Residual      6234.0  7.638522e+07   12253.003070        NaN           NaN\n"
     ]
    }
   ],
   "source": [
    "model = ols(\"Sleeping ~ +C(EmpStatus)\", data=y_2012).fit()\n",
    "anova_table = sm.stats.anova_lm(model, typ1=1)\n",
    "print(anova_table)"
   ]
  },
  {
   "cell_type": "code",
   "execution_count": 61,
   "metadata": {},
   "outputs": [
    {
     "name": "stdout",
     "output_type": "stream",
     "text": [
      "                  df        sum_sq       mean_sq         F    PR(>F)\n",
      "C(EmpStatus)     2.0  3.074952e+04  15374.759492  5.361411  0.004714\n",
      "Residual      6717.0  1.926214e+07   2867.670620       NaN       NaN\n"
     ]
    }
   ],
   "source": [
    "model = ols(\"Eating ~ +C(EmpStatus)\", data=y_2012).fit()\n",
    "anova_table = sm.stats.anova_lm(model, typ1=1)\n",
    "print(anova_table)"
   ]
  },
  {
   "cell_type": "code",
   "execution_count": 93,
   "metadata": {},
   "outputs": [
    {
     "name": "stdout",
     "output_type": "stream",
     "text": [
      "                  df        sum_sq       mean_sq          F    PR(>F)\n",
      "C(EmpStatus)     2.0  1.488218e+05  74410.911717  13.657949  0.000001\n",
      "Residual      6234.0  3.396393e+07   5448.176146        NaN       NaN\n"
     ]
    }
   ],
   "source": [
    "model = ols(\"child ~ +C(EmpStatus)\", data=y_2012).fit()\n",
    "anova_table = sm.stats.anova_lm(model, typ1=1)\n",
    "print(anova_table)"
   ]
  },
  {
   "cell_type": "code",
   "execution_count": 94,
   "metadata": {},
   "outputs": [],
   "source": [
    "emp_2012=y_2012.loc[y_2012['EmpStatus']==1]"
   ]
  },
  {
   "cell_type": "code",
   "execution_count": 95,
   "metadata": {},
   "outputs": [
    {
     "data": {
      "text/plain": [
       "Index(['Education Level', 'Age', 'Age Range', 'Employment Status', 'Gender',\n",
       "       'Children', 'Weekly Earnings', 'Year', 'Weekly Hours Worked',\n",
       "       'Sleeping', 'Grooming', 'Housework', 'Food & Drink Prep',\n",
       "       'Caring for Children', 'Playing with Children', 'Job Searching',\n",
       "       'Shopping', 'Eating and Drinking', 'Socializing & Relaxing',\n",
       "       'Television', 'Golfing', 'Running', 'Volunteering', 'EmpStatus',\n",
       "       'Week_earn', 'weekly_hours', 'Eating', 'child'],\n",
       "      dtype='object')"
      ]
     },
     "execution_count": 95,
     "metadata": {},
     "output_type": "execute_result"
    }
   ],
   "source": [
    "emp_2012.columns"
   ]
  },
  {
   "cell_type": "code",
   "execution_count": 96,
   "metadata": {},
   "outputs": [
    {
     "name": "stdout",
     "output_type": "stream",
     "text": [
      "               df        sum_sq       mean_sq           F        PR(>F)\n",
      "C(Gender)     1.0  5.183326e+07  5.183326e+07  111.070954  1.260308e-25\n",
      "Residual   3891.0  1.815805e+09  4.666680e+05         NaN           NaN\n"
     ]
    }
   ],
   "source": [
    "# Relation ship between weekly earnings and gender\n",
    "\n",
    "model = ols(\"Week_earn ~ +C(Gender)\", data=emp_2012).fit()\n",
    "anova_table = sm.stats.anova_lm(model, typ1=1)\n",
    "print(anova_table)\n",
    "\n",
    "# there is disparicty between earnings between male and female"
   ]
  },
  {
   "cell_type": "code",
   "execution_count": 97,
   "metadata": {},
   "outputs": [
    {
     "data": {
      "text/plain": [
       "<matplotlib.axes._subplots.AxesSubplot at 0x234ccf806d8>"
      ]
     },
     "execution_count": 97,
     "metadata": {},
     "output_type": "execute_result"
    },
    {
     "data": {
      "image/png": "[encoded data removed]",
      "text/plain": [
       "<Figure size 432x288 with 1 Axes>"
      ]
     },
     "metadata": {
      "needs_background": "light"
     },
     "output_type": "display_data"
    }
   ],
   "source": [
    "d=emp_2012.groupby(['Gender'])['weekly_hours'].mean()\n",
    "\n",
    "d\n",
    "snr.barplot(x=d.index,y=d)"
   ]
  },
  {
   "cell_type": "code",
   "execution_count": 98,
   "metadata": {},
   "outputs": [
    {
     "data": {
      "text/plain": [
       "<matplotlib.axes._subplots.AxesSubplot at 0x234ccfd1748>"
      ]
     },
     "execution_count": 98,
     "metadata": {},
     "output_type": "execute_result"
    },
    {
     "data": {
      "image/png": "[encoded data removed]",
      "text/plain": [
       "<Figure size 432x288 with 1 Axes>"
      ]
     },
     "metadata": {
      "needs_background": "light"
     },
     "output_type": "display_data"
    }
   ],
   "source": [
    "d=emp_2012.groupby(['Gender'])['Week_earn'].mean()\n",
    "\n",
    "d\n",
    "snr.barplot(x=d.index,y=d)"
   ]
  },
  {
   "cell_type": "code",
   "execution_count": 99,
   "metadata": {},
   "outputs": [
    {
     "name": "stdout",
     "output_type": "stream",
     "text": [
      "               df         sum_sq       mean_sq           F        PR(>F)\n",
      "C(Gender)     1.0   20931.636664  20931.636664  139.202976  1.365398e-31\n",
      "Residual   3891.0  585080.867831    150.367738         NaN           NaN\n"
     ]
    }
   ],
   "source": [
    "model = ols(\"weekly_hours ~ +C(Gender)\", data=emp_2012).fit()\n",
    "anova_table = sm.stats.anova_lm(model, typ1=1)\n",
    "print(anova_table)"
   ]
  },
  {
   "cell_type": "code",
   "execution_count": null,
   "metadata": {},
   "outputs": [],
   "source": [
    "df.info()"
   ]
  },
  {
   "cell_type": "code",
   "execution_count": 67,
   "metadata": {},
   "outputs": [
    {
     "name": "stdout",
     "output_type": "stream",
     "text": [
      "(44804, 24)\n",
      "(44804,)\n",
      "(19202, 24)\n"
     ]
    }
   ],
   "source": [
    "# train Test split\n",
    "\n",
    "# lets create train and test data\n",
    "\n",
    "from sklearn.model_selection import train_test_split\n",
    "\n",
    "X_train,X_test,y_train,y_test=train_test_split(data.drop(['Employment Status'],axis=1),data['Employment Status'],\n",
    "                                                test_size=0.30,random_state=42)\n",
    " \n",
    "print(X_train.shape)\n",
    "print(y_train.shape)\n",
    "print(X_test.shape)"
   ]
  },
  {
   "cell_type": "code",
   "execution_count": 90,
   "metadata": {},
   "outputs": [],
   "source": [
    "output = pd.DataFrame(index=None, columns=['model','train_Rsquare', 'test_Rsquare','CV_Score'])"
   ]
  },
  {
   "cell_type": "code",
   "execution_count": null,
   "metadata": {},
   "outputs": [],
   "source": [
    "X_train.columns"
   ]
  },
  {
   "cell_type": "code",
   "execution_count": 68,
   "metadata": {},
   "outputs": [],
   "source": [
    "from sklearn.model_selection import train_test_split\n",
    "# from feature-engine\n",
    "from feature_engine import missing_data_imputers as mdi\n",
    "# for one hot encoding with feature-engine\n",
    "from feature_engine.categorical_encoders import OneHotCategoricalEncoder\n",
    "from feature_engine.categorical_encoders import RareLabelCategoricalEncoder\n",
    "from sklearn.pipeline import Pipeline as skpipe\n",
    "from sklearn.preprocessing import MinMaxScaler"
   ]
  },
  {
   "cell_type": "code",
   "execution_count": 69,
   "metadata": {},
   "outputs": [],
   "source": [
    "from sklearn.preprocessing import MinMaxScaler\n",
    "time=skpipe([\n",
    "\n",
    "('one hot encoding',OneHotCategoricalEncoder()),\n",
    "('min max scaler',MinMaxScaler())\n",
    "    \n",
    "    \n",
    "])"
   ]
  },
  {
   "cell_type": "code",
   "execution_count": 70,
   "metadata": {},
   "outputs": [
    {
     "data": {
      "text/plain": [
       "Pipeline(memory=None,\n",
       "         steps=[('one hot encoding',\n",
       "                 OneHotCategoricalEncoder(drop_last=False, top_categories=None,\n",
       "                                          variables=['Education Level',\n",
       "                                                     'Age Range', 'Gender'])),\n",
       "                ('min max scaler',\n",
       "                 MinMaxScaler(copy=True, feature_range=(0, 1)))],\n",
       "         verbose=False)"
      ]
     },
     "execution_count": 70,
     "metadata": {},
     "output_type": "execute_result"
    }
   ],
   "source": [
    "time.fit(X_train,y_train)"
   ]
  },
  {
   "cell_type": "code",
   "execution_count": 71,
   "metadata": {},
   "outputs": [],
   "source": [
    "X_test=time.transform (X_test)\n",
    "X_train=time.transform(X_train)"
   ]
  },
  {
   "cell_type": "code",
   "execution_count": 81,
   "metadata": {},
   "outputs": [
    {
     "name": "stdout",
     "output_type": "stream",
     "text": [
      "Mean Cross-validation scores: 0.931546311297368\n",
      "\n",
      "Logistic  Train Performance:  0.9325506651191858\n",
      "Logistic  Test Performance:  0.9300072909071971\n"
     ]
    }
   ],
   "source": [
    "from sklearn.linear_model import LogisticRegression\n",
    "from sklearn.model_selection import cross_val_score\n",
    "clf = LogisticRegression(random_state=42)\n",
    "clf.fit(X_train, y_train)\n",
    "\n",
    "cv_scores = cross_val_score(clf, X_train, y_train)\n",
    "\n",
    "# Mean Cross validation Score\n",
    "print(\"Mean Cross-validation scores: {}\".format(cv_scores.mean()))\n",
    "print()\n",
    "\n",
    "\n",
    "\n",
    "# Check test data set performance\n",
    "print(\"Logistic  Train Performance: \", clf.score(X_train,y_train))\n",
    "print(\"Logistic  Test Performance: \", clf.score(X_test,y_test))"
   ]
  },
  {
   "cell_type": "code",
   "execution_count": 82,
   "metadata": {},
   "outputs": [
    {
     "name": "stdout",
     "output_type": "stream",
     "text": [
      "                    precision    recall  f1-score   support\n",
      "\n",
      "          Employed       1.00      0.97      0.98     12277\n",
      "Not in labor force       0.82      0.99      0.90      5927\n",
      "        Unemployed       0.72      0.11      0.18       998\n",
      "\n",
      "          accuracy                           0.93     19202\n",
      "         macro avg       0.85      0.69      0.69     19202\n",
      "      weighted avg       0.93      0.93      0.92     19202\n",
      "\n"
     ]
    }
   ],
   "source": [
    "from sklearn.metrics import classification_report\n",
    "\n",
    "pred_test = clf.predict(X_test)\n",
    "pred_train=clf.predict(X_train)\n",
    "print(classification_report(y_test,pred))"
   ]
  },
  {
   "cell_type": "code",
   "execution_count": 93,
   "metadata": {},
   "outputs": [
    {
     "data": {
      "text/html": [
       "<div>\n",
       "<style scoped>\n",
       "    .dataframe tbody tr th:only-of-type {\n",
       "        vertical-align: middle;\n",
       "    }\n",
       "\n",
       "    .dataframe tbody tr th {\n",
       "        vertical-align: top;\n",
       "    }\n",
       "\n",
       "    .dataframe thead th {\n",
       "        text-align: right;\n",
       "    }\n",
       "</style>\n",
       "<table border=\"1\" class=\"dataframe\">\n",
       "  <thead>\n",
       "    <tr style=\"text-align: right;\">\n",
       "      <th></th>\n",
       "      <th>model</th>\n",
       "      <th>train_Rsquare</th>\n",
       "      <th>test_Rsquare</th>\n",
       "      <th>CV_Score</th>\n",
       "    </tr>\n",
       "  </thead>\n",
       "  <tbody>\n",
       "    <tr>\n",
       "      <th>0</th>\n",
       "      <td>Logistic Regression</td>\n",
       "      <td>0.932551</td>\n",
       "      <td>0.930007</td>\n",
       "      <td>[0.9311460774467135, 0.9304765093181565, 0.933...</td>\n",
       "    </tr>\n",
       "    <tr>\n",
       "      <th>1</th>\n",
       "      <td>Logistic Regression</td>\n",
       "      <td>0.932551</td>\n",
       "      <td>0.930007</td>\n",
       "      <td>0.931546</td>\n",
       "    </tr>\n",
       "    <tr>\n",
       "      <th>2</th>\n",
       "      <td>Logistic Regression</td>\n",
       "      <td>0.932551</td>\n",
       "      <td>0.930007</td>\n",
       "      <td>0.931546</td>\n",
       "    </tr>\n",
       "  </tbody>\n",
       "</table>\n",
       "</div>"
      ],
      "text/plain": [
       "                 model  train_Rsquare  test_Rsquare  \\\n",
       "0  Logistic Regression       0.932551      0.930007   \n",
       "1  Logistic Regression       0.932551      0.930007   \n",
       "2  Logistic Regression       0.932551      0.930007   \n",
       "\n",
       "                                            CV_Score  \n",
       "0  [0.9311460774467135, 0.9304765093181565, 0.933...  \n",
       "1                                           0.931546  \n",
       "2                                           0.931546  "
      ]
     },
     "execution_count": 93,
     "metadata": {},
     "output_type": "execute_result"
    }
   ],
   "source": [
    "from sklearn.metrics import r2_score, mean_squared_error\n",
    "train_Rsquare = clf.score(X_train,y_train)\n",
    "test_Rsquare = clf.score(X_test,y_test)\n",
    "#train_MSE = mean_squared_error(y_train, pred_train)\n",
    "#test_MSE = mean_squared_error(y_test, pred_test)\n",
    "output = output.append(pd.Series({'model':'Logistic Regression','train_Rsquare':train_Rsquare, 'test_Rsquare':test_Rsquare,'CV_Score':cv_scores.mean()}),ignore_index=True )\n",
    "output"
   ]
  },
  {
   "cell_type": "code",
   "execution_count": 168,
   "metadata": {},
   "outputs": [
    {
     "ename": "KeyboardInterrupt",
     "evalue": "",
     "output_type": "error",
     "traceback": [
      "\u001b[1;31m---------------------------------------------------------------------------\u001b[0m",
      "\u001b[1;31mKeyboardInterrupt\u001b[0m                         Traceback (most recent call last)",
      "\u001b[1;32m<ipython-input-168-d5cbf8bcf216>\u001b[0m in \u001b[0;36m<module>\u001b[1;34m\u001b[0m\n\u001b[0;32m     12\u001b[0m \u001b[1;31m#apply grid search\u001b[0m\u001b[1;33m\u001b[0m\u001b[1;33m\u001b[0m\u001b[1;33m\u001b[0m\u001b[0m\n\u001b[0;32m     13\u001b[0m \u001b[0mgrid_knn\u001b[0m \u001b[1;33m=\u001b[0m \u001b[0mGridSearchCV\u001b[0m\u001b[1;33m(\u001b[0m\u001b[0mknn\u001b[0m\u001b[1;33m,\u001b[0m \u001b[0mparam_knn\u001b[0m\u001b[1;33m,\u001b[0m \u001b[0mcv\u001b[0m\u001b[1;33m=\u001b[0m\u001b[1;36m5\u001b[0m\u001b[1;33m,\u001b[0m \u001b[0mreturn_train_score\u001b[0m\u001b[1;33m=\u001b[0m\u001b[1;32mTrue\u001b[0m\u001b[1;33m)\u001b[0m\u001b[1;33m\u001b[0m\u001b[1;33m\u001b[0m\u001b[0m\n\u001b[1;32m---> 14\u001b[1;33m \u001b[0mgrid_knn\u001b[0m\u001b[1;33m.\u001b[0m\u001b[0mfit\u001b[0m\u001b[1;33m(\u001b[0m\u001b[0mX_train\u001b[0m\u001b[1;33m,\u001b[0m \u001b[0my_train\u001b[0m\u001b[1;33m)\u001b[0m\u001b[1;33m\u001b[0m\u001b[1;33m\u001b[0m\u001b[0m\n\u001b[0m\u001b[0;32m     15\u001b[0m \u001b[1;33m\u001b[0m\u001b[0m\n\u001b[0;32m     16\u001b[0m \u001b[1;31m# Mean Cross Validation Score\u001b[0m\u001b[1;33m\u001b[0m\u001b[1;33m\u001b[0m\u001b[1;33m\u001b[0m\u001b[0m\n",
      "\u001b[1;32m~\\Anaconda3\\lib\\site-packages\\sklearn\\model_selection\\_search.py\u001b[0m in \u001b[0;36mfit\u001b[1;34m(self, X, y, groups, **fit_params)\u001b[0m\n\u001b[0;32m    708\u001b[0m                 \u001b[1;32mreturn\u001b[0m \u001b[0mresults\u001b[0m\u001b[1;33m\u001b[0m\u001b[1;33m\u001b[0m\u001b[0m\n\u001b[0;32m    709\u001b[0m \u001b[1;33m\u001b[0m\u001b[0m\n\u001b[1;32m--> 710\u001b[1;33m             \u001b[0mself\u001b[0m\u001b[1;33m.\u001b[0m\u001b[0m_run_search\u001b[0m\u001b[1;33m(\u001b[0m\u001b[0mevaluate_candidates\u001b[0m\u001b[1;33m)\u001b[0m\u001b[1;33m\u001b[0m\u001b[1;33m\u001b[0m\u001b[0m\n\u001b[0m\u001b[0;32m    711\u001b[0m \u001b[1;33m\u001b[0m\u001b[0m\n\u001b[0;32m    712\u001b[0m         \u001b[1;31m# For multi-metric evaluation, store the best_index_, best_params_ and\u001b[0m\u001b[1;33m\u001b[0m\u001b[1;33m\u001b[0m\u001b[1;33m\u001b[0m\u001b[0m\n",
      "\u001b[1;32m~\\Anaconda3\\lib\\site-packages\\sklearn\\model_selection\\_search.py\u001b[0m in \u001b[0;36m_run_search\u001b[1;34m(self, evaluate_candidates)\u001b[0m\n\u001b[0;32m   1149\u001b[0m     \u001b[1;32mdef\u001b[0m \u001b[0m_run_search\u001b[0m\u001b[1;33m(\u001b[0m\u001b[0mself\u001b[0m\u001b[1;33m,\u001b[0m \u001b[0mevaluate_candidates\u001b[0m\u001b[1;33m)\u001b[0m\u001b[1;33m:\u001b[0m\u001b[1;33m\u001b[0m\u001b[1;33m\u001b[0m\u001b[0m\n\u001b[0;32m   1150\u001b[0m         \u001b[1;34m\"\"\"Search all candidates in param_grid\"\"\"\u001b[0m\u001b[1;33m\u001b[0m\u001b[1;33m\u001b[0m\u001b[0m\n\u001b[1;32m-> 1151\u001b[1;33m         \u001b[0mevaluate_candidates\u001b[0m\u001b[1;33m(\u001b[0m\u001b[0mParameterGrid\u001b[0m\u001b[1;33m(\u001b[0m\u001b[0mself\u001b[0m\u001b[1;33m.\u001b[0m\u001b[0mparam_grid\u001b[0m\u001b[1;33m)\u001b[0m\u001b[1;33m)\u001b[0m\u001b[1;33m\u001b[0m\u001b[1;33m\u001b[0m\u001b[0m\n\u001b[0m\u001b[0;32m   1152\u001b[0m \u001b[1;33m\u001b[0m\u001b[0m\n\u001b[0;32m   1153\u001b[0m \u001b[1;33m\u001b[0m\u001b[0m\n",
      "\u001b[1;32m~\\Anaconda3\\lib\\site-packages\\sklearn\\model_selection\\_search.py\u001b[0m in \u001b[0;36mevaluate_candidates\u001b[1;34m(candidate_params)\u001b[0m\n\u001b[0;32m    687\u001b[0m                                \u001b[1;32mfor\u001b[0m \u001b[0mparameters\u001b[0m\u001b[1;33m,\u001b[0m \u001b[1;33m(\u001b[0m\u001b[0mtrain\u001b[0m\u001b[1;33m,\u001b[0m \u001b[0mtest\u001b[0m\u001b[1;33m)\u001b[0m\u001b[1;33m\u001b[0m\u001b[1;33m\u001b[0m\u001b[0m\n\u001b[0;32m    688\u001b[0m                                in product(candidate_params,\n\u001b[1;32m--> 689\u001b[1;33m                                           cv.split(X, y, groups)))\n\u001b[0m\u001b[0;32m    690\u001b[0m \u001b[1;33m\u001b[0m\u001b[0m\n\u001b[0;32m    691\u001b[0m                 \u001b[1;32mif\u001b[0m \u001b[0mlen\u001b[0m\u001b[1;33m(\u001b[0m\u001b[0mout\u001b[0m\u001b[1;33m)\u001b[0m \u001b[1;33m<\u001b[0m \u001b[1;36m1\u001b[0m\u001b[1;33m:\u001b[0m\u001b[1;33m\u001b[0m\u001b[1;33m\u001b[0m\u001b[0m\n",
      "\u001b[1;32m~\\Anaconda3\\lib\\site-packages\\joblib\\parallel.py\u001b[0m in \u001b[0;36m__call__\u001b[1;34m(self, iterable)\u001b[0m\n\u001b[0;32m    922\u001b[0m                 \u001b[0mself\u001b[0m\u001b[1;33m.\u001b[0m\u001b[0m_iterating\u001b[0m \u001b[1;33m=\u001b[0m \u001b[0mself\u001b[0m\u001b[1;33m.\u001b[0m\u001b[0m_original_iterator\u001b[0m \u001b[1;32mis\u001b[0m \u001b[1;32mnot\u001b[0m \u001b[1;32mNone\u001b[0m\u001b[1;33m\u001b[0m\u001b[1;33m\u001b[0m\u001b[0m\n\u001b[0;32m    923\u001b[0m \u001b[1;33m\u001b[0m\u001b[0m\n\u001b[1;32m--> 924\u001b[1;33m             \u001b[1;32mwhile\u001b[0m \u001b[0mself\u001b[0m\u001b[1;33m.\u001b[0m\u001b[0mdispatch_one_batch\u001b[0m\u001b[1;33m(\u001b[0m\u001b[0miterator\u001b[0m\u001b[1;33m)\u001b[0m\u001b[1;33m:\u001b[0m\u001b[1;33m\u001b[0m\u001b[1;33m\u001b[0m\u001b[0m\n\u001b[0m\u001b[0;32m    925\u001b[0m                 \u001b[1;32mpass\u001b[0m\u001b[1;33m\u001b[0m\u001b[1;33m\u001b[0m\u001b[0m\n\u001b[0;32m    926\u001b[0m \u001b[1;33m\u001b[0m\u001b[0m\n",
      "\u001b[1;32m~\\Anaconda3\\lib\\site-packages\\joblib\\parallel.py\u001b[0m in \u001b[0;36mdispatch_one_batch\u001b[1;34m(self, iterator)\u001b[0m\n\u001b[0;32m    757\u001b[0m                 \u001b[1;32mreturn\u001b[0m \u001b[1;32mFalse\u001b[0m\u001b[1;33m\u001b[0m\u001b[1;33m\u001b[0m\u001b[0m\n\u001b[0;32m    758\u001b[0m             \u001b[1;32melse\u001b[0m\u001b[1;33m:\u001b[0m\u001b[1;33m\u001b[0m\u001b[1;33m\u001b[0m\u001b[0m\n\u001b[1;32m--> 759\u001b[1;33m                 \u001b[0mself\u001b[0m\u001b[1;33m.\u001b[0m\u001b[0m_dispatch\u001b[0m\u001b[1;33m(\u001b[0m\u001b[0mtasks\u001b[0m\u001b[1;33m)\u001b[0m\u001b[1;33m\u001b[0m\u001b[1;33m\u001b[0m\u001b[0m\n\u001b[0m\u001b[0;32m    760\u001b[0m                 \u001b[1;32mreturn\u001b[0m \u001b[1;32mTrue\u001b[0m\u001b[1;33m\u001b[0m\u001b[1;33m\u001b[0m\u001b[0m\n\u001b[0;32m    761\u001b[0m \u001b[1;33m\u001b[0m\u001b[0m\n",
      "\u001b[1;32m~\\Anaconda3\\lib\\site-packages\\joblib\\parallel.py\u001b[0m in \u001b[0;36m_dispatch\u001b[1;34m(self, batch)\u001b[0m\n\u001b[0;32m    714\u001b[0m         \u001b[1;32mwith\u001b[0m \u001b[0mself\u001b[0m\u001b[1;33m.\u001b[0m\u001b[0m_lock\u001b[0m\u001b[1;33m:\u001b[0m\u001b[1;33m\u001b[0m\u001b[1;33m\u001b[0m\u001b[0m\n\u001b[0;32m    715\u001b[0m             \u001b[0mjob_idx\u001b[0m \u001b[1;33m=\u001b[0m \u001b[0mlen\u001b[0m\u001b[1;33m(\u001b[0m\u001b[0mself\u001b[0m\u001b[1;33m.\u001b[0m\u001b[0m_jobs\u001b[0m\u001b[1;33m)\u001b[0m\u001b[1;33m\u001b[0m\u001b[1;33m\u001b[0m\u001b[0m\n\u001b[1;32m--> 716\u001b[1;33m             \u001b[0mjob\u001b[0m \u001b[1;33m=\u001b[0m \u001b[0mself\u001b[0m\u001b[1;33m.\u001b[0m\u001b[0m_backend\u001b[0m\u001b[1;33m.\u001b[0m\u001b[0mapply_async\u001b[0m\u001b[1;33m(\u001b[0m\u001b[0mbatch\u001b[0m\u001b[1;33m,\u001b[0m \u001b[0mcallback\u001b[0m\u001b[1;33m=\u001b[0m\u001b[0mcb\u001b[0m\u001b[1;33m)\u001b[0m\u001b[1;33m\u001b[0m\u001b[1;33m\u001b[0m\u001b[0m\n\u001b[0m\u001b[0;32m    717\u001b[0m             \u001b[1;31m# A job can complete so quickly than its callback is\u001b[0m\u001b[1;33m\u001b[0m\u001b[1;33m\u001b[0m\u001b[1;33m\u001b[0m\u001b[0m\n\u001b[0;32m    718\u001b[0m             \u001b[1;31m# called before we get here, causing self._jobs to\u001b[0m\u001b[1;33m\u001b[0m\u001b[1;33m\u001b[0m\u001b[1;33m\u001b[0m\u001b[0m\n",
      "\u001b[1;32m~\\Anaconda3\\lib\\site-packages\\joblib\\_parallel_backends.py\u001b[0m in \u001b[0;36mapply_async\u001b[1;34m(self, func, callback)\u001b[0m\n\u001b[0;32m    180\u001b[0m     \u001b[1;32mdef\u001b[0m \u001b[0mapply_async\u001b[0m\u001b[1;33m(\u001b[0m\u001b[0mself\u001b[0m\u001b[1;33m,\u001b[0m \u001b[0mfunc\u001b[0m\u001b[1;33m,\u001b[0m \u001b[0mcallback\u001b[0m\u001b[1;33m=\u001b[0m\u001b[1;32mNone\u001b[0m\u001b[1;33m)\u001b[0m\u001b[1;33m:\u001b[0m\u001b[1;33m\u001b[0m\u001b[1;33m\u001b[0m\u001b[0m\n\u001b[0;32m    181\u001b[0m         \u001b[1;34m\"\"\"Schedule a func to be run\"\"\"\u001b[0m\u001b[1;33m\u001b[0m\u001b[1;33m\u001b[0m\u001b[0m\n\u001b[1;32m--> 182\u001b[1;33m         \u001b[0mresult\u001b[0m \u001b[1;33m=\u001b[0m \u001b[0mImmediateResult\u001b[0m\u001b[1;33m(\u001b[0m\u001b[0mfunc\u001b[0m\u001b[1;33m)\u001b[0m\u001b[1;33m\u001b[0m\u001b[1;33m\u001b[0m\u001b[0m\n\u001b[0m\u001b[0;32m    183\u001b[0m         \u001b[1;32mif\u001b[0m \u001b[0mcallback\u001b[0m\u001b[1;33m:\u001b[0m\u001b[1;33m\u001b[0m\u001b[1;33m\u001b[0m\u001b[0m\n\u001b[0;32m    184\u001b[0m             \u001b[0mcallback\u001b[0m\u001b[1;33m(\u001b[0m\u001b[0mresult\u001b[0m\u001b[1;33m)\u001b[0m\u001b[1;33m\u001b[0m\u001b[1;33m\u001b[0m\u001b[0m\n",
      "\u001b[1;32m~\\Anaconda3\\lib\\site-packages\\joblib\\_parallel_backends.py\u001b[0m in \u001b[0;36m__init__\u001b[1;34m(self, batch)\u001b[0m\n\u001b[0;32m    547\u001b[0m         \u001b[1;31m# Don't delay the application, to avoid keeping the input\u001b[0m\u001b[1;33m\u001b[0m\u001b[1;33m\u001b[0m\u001b[1;33m\u001b[0m\u001b[0m\n\u001b[0;32m    548\u001b[0m         \u001b[1;31m# arguments in memory\u001b[0m\u001b[1;33m\u001b[0m\u001b[1;33m\u001b[0m\u001b[1;33m\u001b[0m\u001b[0m\n\u001b[1;32m--> 549\u001b[1;33m         \u001b[0mself\u001b[0m\u001b[1;33m.\u001b[0m\u001b[0mresults\u001b[0m \u001b[1;33m=\u001b[0m \u001b[0mbatch\u001b[0m\u001b[1;33m(\u001b[0m\u001b[1;33m)\u001b[0m\u001b[1;33m\u001b[0m\u001b[1;33m\u001b[0m\u001b[0m\n\u001b[0m\u001b[0;32m    550\u001b[0m \u001b[1;33m\u001b[0m\u001b[0m\n\u001b[0;32m    551\u001b[0m     \u001b[1;32mdef\u001b[0m \u001b[0mget\u001b[0m\u001b[1;33m(\u001b[0m\u001b[0mself\u001b[0m\u001b[1;33m)\u001b[0m\u001b[1;33m:\u001b[0m\u001b[1;33m\u001b[0m\u001b[1;33m\u001b[0m\u001b[0m\n",
      "\u001b[1;32m~\\Anaconda3\\lib\\site-packages\\joblib\\parallel.py\u001b[0m in \u001b[0;36m__call__\u001b[1;34m(self)\u001b[0m\n\u001b[0;32m    223\u001b[0m         \u001b[1;32mwith\u001b[0m \u001b[0mparallel_backend\u001b[0m\u001b[1;33m(\u001b[0m\u001b[0mself\u001b[0m\u001b[1;33m.\u001b[0m\u001b[0m_backend\u001b[0m\u001b[1;33m,\u001b[0m \u001b[0mn_jobs\u001b[0m\u001b[1;33m=\u001b[0m\u001b[0mself\u001b[0m\u001b[1;33m.\u001b[0m\u001b[0m_n_jobs\u001b[0m\u001b[1;33m)\u001b[0m\u001b[1;33m:\u001b[0m\u001b[1;33m\u001b[0m\u001b[1;33m\u001b[0m\u001b[0m\n\u001b[0;32m    224\u001b[0m             return [func(*args, **kwargs)\n\u001b[1;32m--> 225\u001b[1;33m                     for func, args, kwargs in self.items]\n\u001b[0m\u001b[0;32m    226\u001b[0m \u001b[1;33m\u001b[0m\u001b[0m\n\u001b[0;32m    227\u001b[0m     \u001b[1;32mdef\u001b[0m \u001b[0m__len__\u001b[0m\u001b[1;33m(\u001b[0m\u001b[0mself\u001b[0m\u001b[1;33m)\u001b[0m\u001b[1;33m:\u001b[0m\u001b[1;33m\u001b[0m\u001b[1;33m\u001b[0m\u001b[0m\n",
      "\u001b[1;32m~\\Anaconda3\\lib\\site-packages\\joblib\\parallel.py\u001b[0m in \u001b[0;36m<listcomp>\u001b[1;34m(.0)\u001b[0m\n\u001b[0;32m    223\u001b[0m         \u001b[1;32mwith\u001b[0m \u001b[0mparallel_backend\u001b[0m\u001b[1;33m(\u001b[0m\u001b[0mself\u001b[0m\u001b[1;33m.\u001b[0m\u001b[0m_backend\u001b[0m\u001b[1;33m,\u001b[0m \u001b[0mn_jobs\u001b[0m\u001b[1;33m=\u001b[0m\u001b[0mself\u001b[0m\u001b[1;33m.\u001b[0m\u001b[0m_n_jobs\u001b[0m\u001b[1;33m)\u001b[0m\u001b[1;33m:\u001b[0m\u001b[1;33m\u001b[0m\u001b[1;33m\u001b[0m\u001b[0m\n\u001b[0;32m    224\u001b[0m             return [func(*args, **kwargs)\n\u001b[1;32m--> 225\u001b[1;33m                     for func, args, kwargs in self.items]\n\u001b[0m\u001b[0;32m    226\u001b[0m \u001b[1;33m\u001b[0m\u001b[0m\n\u001b[0;32m    227\u001b[0m     \u001b[1;32mdef\u001b[0m \u001b[0m__len__\u001b[0m\u001b[1;33m(\u001b[0m\u001b[0mself\u001b[0m\u001b[1;33m)\u001b[0m\u001b[1;33m:\u001b[0m\u001b[1;33m\u001b[0m\u001b[1;33m\u001b[0m\u001b[0m\n",
      "\u001b[1;32m~\\Anaconda3\\lib\\site-packages\\sklearn\\model_selection\\_validation.py\u001b[0m in \u001b[0;36m_fit_and_score\u001b[1;34m(estimator, X, y, scorer, train, test, verbose, parameters, fit_params, return_train_score, return_parameters, return_n_test_samples, return_times, return_estimator, error_score)\u001b[0m\n\u001b[0;32m    545\u001b[0m         \u001b[0mscore_time\u001b[0m \u001b[1;33m=\u001b[0m \u001b[0mtime\u001b[0m\u001b[1;33m.\u001b[0m\u001b[0mtime\u001b[0m\u001b[1;33m(\u001b[0m\u001b[1;33m)\u001b[0m \u001b[1;33m-\u001b[0m \u001b[0mstart_time\u001b[0m \u001b[1;33m-\u001b[0m \u001b[0mfit_time\u001b[0m\u001b[1;33m\u001b[0m\u001b[1;33m\u001b[0m\u001b[0m\n\u001b[0;32m    546\u001b[0m         \u001b[1;32mif\u001b[0m \u001b[0mreturn_train_score\u001b[0m\u001b[1;33m:\u001b[0m\u001b[1;33m\u001b[0m\u001b[1;33m\u001b[0m\u001b[0m\n\u001b[1;32m--> 547\u001b[1;33m             \u001b[0mtrain_scores\u001b[0m \u001b[1;33m=\u001b[0m \u001b[0m_score\u001b[0m\u001b[1;33m(\u001b[0m\u001b[0mestimator\u001b[0m\u001b[1;33m,\u001b[0m \u001b[0mX_train\u001b[0m\u001b[1;33m,\u001b[0m \u001b[0my_train\u001b[0m\u001b[1;33m,\u001b[0m \u001b[0mscorer\u001b[0m\u001b[1;33m)\u001b[0m\u001b[1;33m\u001b[0m\u001b[1;33m\u001b[0m\u001b[0m\n\u001b[0m\u001b[0;32m    548\u001b[0m     \u001b[1;32mif\u001b[0m \u001b[0mverbose\u001b[0m \u001b[1;33m>\u001b[0m \u001b[1;36m2\u001b[0m\u001b[1;33m:\u001b[0m\u001b[1;33m\u001b[0m\u001b[1;33m\u001b[0m\u001b[0m\n\u001b[0;32m    549\u001b[0m         \u001b[1;32mif\u001b[0m \u001b[0misinstance\u001b[0m\u001b[1;33m(\u001b[0m\u001b[0mtest_scores\u001b[0m\u001b[1;33m,\u001b[0m \u001b[0mdict\u001b[0m\u001b[1;33m)\u001b[0m\u001b[1;33m:\u001b[0m\u001b[1;33m\u001b[0m\u001b[1;33m\u001b[0m\u001b[0m\n",
      "\u001b[1;32m~\\Anaconda3\\lib\\site-packages\\sklearn\\model_selection\\_validation.py\u001b[0m in \u001b[0;36m_score\u001b[1;34m(estimator, X_test, y_test, scorer)\u001b[0m\n\u001b[0;32m    589\u001b[0m         \u001b[0mscores\u001b[0m \u001b[1;33m=\u001b[0m \u001b[0mscorer\u001b[0m\u001b[1;33m(\u001b[0m\u001b[0mestimator\u001b[0m\u001b[1;33m,\u001b[0m \u001b[0mX_test\u001b[0m\u001b[1;33m)\u001b[0m\u001b[1;33m\u001b[0m\u001b[1;33m\u001b[0m\u001b[0m\n\u001b[0;32m    590\u001b[0m     \u001b[1;32melse\u001b[0m\u001b[1;33m:\u001b[0m\u001b[1;33m\u001b[0m\u001b[1;33m\u001b[0m\u001b[0m\n\u001b[1;32m--> 591\u001b[1;33m         \u001b[0mscores\u001b[0m \u001b[1;33m=\u001b[0m \u001b[0mscorer\u001b[0m\u001b[1;33m(\u001b[0m\u001b[0mestimator\u001b[0m\u001b[1;33m,\u001b[0m \u001b[0mX_test\u001b[0m\u001b[1;33m,\u001b[0m \u001b[0my_test\u001b[0m\u001b[1;33m)\u001b[0m\u001b[1;33m\u001b[0m\u001b[1;33m\u001b[0m\u001b[0m\n\u001b[0m\u001b[0;32m    592\u001b[0m \u001b[1;33m\u001b[0m\u001b[0m\n\u001b[0;32m    593\u001b[0m     error_msg = (\"scoring must return a number, got %s (%s) \"\n",
      "\u001b[1;32m~\\Anaconda3\\lib\\site-packages\\sklearn\\metrics\\_scorer.py\u001b[0m in \u001b[0;36m__call__\u001b[1;34m(self, estimator, *args, **kwargs)\u001b[0m\n\u001b[0;32m     87\u001b[0m                                       *args, **kwargs)\n\u001b[0;32m     88\u001b[0m             \u001b[1;32melse\u001b[0m\u001b[1;33m:\u001b[0m\u001b[1;33m\u001b[0m\u001b[1;33m\u001b[0m\u001b[0m\n\u001b[1;32m---> 89\u001b[1;33m                 \u001b[0mscore\u001b[0m \u001b[1;33m=\u001b[0m \u001b[0mscorer\u001b[0m\u001b[1;33m(\u001b[0m\u001b[0mestimator\u001b[0m\u001b[1;33m,\u001b[0m \u001b[1;33m*\u001b[0m\u001b[0margs\u001b[0m\u001b[1;33m,\u001b[0m \u001b[1;33m**\u001b[0m\u001b[0mkwargs\u001b[0m\u001b[1;33m)\u001b[0m\u001b[1;33m\u001b[0m\u001b[1;33m\u001b[0m\u001b[0m\n\u001b[0m\u001b[0;32m     90\u001b[0m             \u001b[0mscores\u001b[0m\u001b[1;33m[\u001b[0m\u001b[0mname\u001b[0m\u001b[1;33m]\u001b[0m \u001b[1;33m=\u001b[0m \u001b[0mscore\u001b[0m\u001b[1;33m\u001b[0m\u001b[1;33m\u001b[0m\u001b[0m\n\u001b[0;32m     91\u001b[0m         \u001b[1;32mreturn\u001b[0m \u001b[0mscores\u001b[0m\u001b[1;33m\u001b[0m\u001b[1;33m\u001b[0m\u001b[0m\n",
      "\u001b[1;32m~\\Anaconda3\\lib\\site-packages\\sklearn\\metrics\\_scorer.py\u001b[0m in \u001b[0;36m_passthrough_scorer\u001b[1;34m(estimator, *args, **kwargs)\u001b[0m\n\u001b[0;32m    369\u001b[0m \u001b[1;32mdef\u001b[0m \u001b[0m_passthrough_scorer\u001b[0m\u001b[1;33m(\u001b[0m\u001b[0mestimator\u001b[0m\u001b[1;33m,\u001b[0m \u001b[1;33m*\u001b[0m\u001b[0margs\u001b[0m\u001b[1;33m,\u001b[0m \u001b[1;33m**\u001b[0m\u001b[0mkwargs\u001b[0m\u001b[1;33m)\u001b[0m\u001b[1;33m:\u001b[0m\u001b[1;33m\u001b[0m\u001b[1;33m\u001b[0m\u001b[0m\n\u001b[0;32m    370\u001b[0m     \u001b[1;34m\"\"\"Function that wraps estimator.score\"\"\"\u001b[0m\u001b[1;33m\u001b[0m\u001b[1;33m\u001b[0m\u001b[0m\n\u001b[1;32m--> 371\u001b[1;33m     \u001b[1;32mreturn\u001b[0m \u001b[0mestimator\u001b[0m\u001b[1;33m.\u001b[0m\u001b[0mscore\u001b[0m\u001b[1;33m(\u001b[0m\u001b[1;33m*\u001b[0m\u001b[0margs\u001b[0m\u001b[1;33m,\u001b[0m \u001b[1;33m**\u001b[0m\u001b[0mkwargs\u001b[0m\u001b[1;33m)\u001b[0m\u001b[1;33m\u001b[0m\u001b[1;33m\u001b[0m\u001b[0m\n\u001b[0m\u001b[0;32m    372\u001b[0m \u001b[1;33m\u001b[0m\u001b[0m\n\u001b[0;32m    373\u001b[0m \u001b[1;33m\u001b[0m\u001b[0m\n",
      "\u001b[1;32m~\\Anaconda3\\lib\\site-packages\\sklearn\\base.py\u001b[0m in \u001b[0;36mscore\u001b[1;34m(self, X, y, sample_weight)\u001b[0m\n\u001b[0;32m    367\u001b[0m         \"\"\"\n\u001b[0;32m    368\u001b[0m         \u001b[1;32mfrom\u001b[0m \u001b[1;33m.\u001b[0m\u001b[0mmetrics\u001b[0m \u001b[1;32mimport\u001b[0m \u001b[0maccuracy_score\u001b[0m\u001b[1;33m\u001b[0m\u001b[1;33m\u001b[0m\u001b[0m\n\u001b[1;32m--> 369\u001b[1;33m         \u001b[1;32mreturn\u001b[0m \u001b[0maccuracy_score\u001b[0m\u001b[1;33m(\u001b[0m\u001b[0my\u001b[0m\u001b[1;33m,\u001b[0m \u001b[0mself\u001b[0m\u001b[1;33m.\u001b[0m\u001b[0mpredict\u001b[0m\u001b[1;33m(\u001b[0m\u001b[0mX\u001b[0m\u001b[1;33m)\u001b[0m\u001b[1;33m,\u001b[0m \u001b[0msample_weight\u001b[0m\u001b[1;33m=\u001b[0m\u001b[0msample_weight\u001b[0m\u001b[1;33m)\u001b[0m\u001b[1;33m\u001b[0m\u001b[1;33m\u001b[0m\u001b[0m\n\u001b[0m\u001b[0;32m    370\u001b[0m \u001b[1;33m\u001b[0m\u001b[0m\n\u001b[0;32m    371\u001b[0m \u001b[1;33m\u001b[0m\u001b[0m\n",
      "\u001b[1;32m~\\Anaconda3\\lib\\site-packages\\sklearn\\neighbors\\_classification.py\u001b[0m in \u001b[0;36mpredict\u001b[1;34m(self, X)\u001b[0m\n\u001b[0;32m    171\u001b[0m         \u001b[0mX\u001b[0m \u001b[1;33m=\u001b[0m \u001b[0mcheck_array\u001b[0m\u001b[1;33m(\u001b[0m\u001b[0mX\u001b[0m\u001b[1;33m,\u001b[0m \u001b[0maccept_sparse\u001b[0m\u001b[1;33m=\u001b[0m\u001b[1;34m'csr'\u001b[0m\u001b[1;33m)\u001b[0m\u001b[1;33m\u001b[0m\u001b[1;33m\u001b[0m\u001b[0m\n\u001b[0;32m    172\u001b[0m \u001b[1;33m\u001b[0m\u001b[0m\n\u001b[1;32m--> 173\u001b[1;33m         \u001b[0mneigh_dist\u001b[0m\u001b[1;33m,\u001b[0m \u001b[0mneigh_ind\u001b[0m \u001b[1;33m=\u001b[0m \u001b[0mself\u001b[0m\u001b[1;33m.\u001b[0m\u001b[0mkneighbors\u001b[0m\u001b[1;33m(\u001b[0m\u001b[0mX\u001b[0m\u001b[1;33m)\u001b[0m\u001b[1;33m\u001b[0m\u001b[1;33m\u001b[0m\u001b[0m\n\u001b[0m\u001b[0;32m    174\u001b[0m         \u001b[0mclasses_\u001b[0m \u001b[1;33m=\u001b[0m \u001b[0mself\u001b[0m\u001b[1;33m.\u001b[0m\u001b[0mclasses_\u001b[0m\u001b[1;33m\u001b[0m\u001b[1;33m\u001b[0m\u001b[0m\n\u001b[0;32m    175\u001b[0m         \u001b[0m_y\u001b[0m \u001b[1;33m=\u001b[0m \u001b[0mself\u001b[0m\u001b[1;33m.\u001b[0m\u001b[0m_y\u001b[0m\u001b[1;33m\u001b[0m\u001b[1;33m\u001b[0m\u001b[0m\n",
      "\u001b[1;32m~\\Anaconda3\\lib\\site-packages\\sklearn\\neighbors\\_base.py\u001b[0m in \u001b[0;36mkneighbors\u001b[1;34m(self, X, n_neighbors, return_distance)\u001b[0m\n\u001b[0;32m    662\u001b[0m                 delayed_query(\n\u001b[0;32m    663\u001b[0m                     self._tree, X[s], n_neighbors, return_distance)\n\u001b[1;32m--> 664\u001b[1;33m                 \u001b[1;32mfor\u001b[0m \u001b[0ms\u001b[0m \u001b[1;32min\u001b[0m \u001b[0mgen_even_slices\u001b[0m\u001b[1;33m(\u001b[0m\u001b[0mX\u001b[0m\u001b[1;33m.\u001b[0m\u001b[0mshape\u001b[0m\u001b[1;33m[\u001b[0m\u001b[1;36m0\u001b[0m\u001b[1;33m]\u001b[0m\u001b[1;33m,\u001b[0m \u001b[0mn_jobs\u001b[0m\u001b[1;33m)\u001b[0m\u001b[1;33m\u001b[0m\u001b[1;33m\u001b[0m\u001b[0m\n\u001b[0m\u001b[0;32m    665\u001b[0m             )\n\u001b[0;32m    666\u001b[0m         \u001b[1;32melse\u001b[0m\u001b[1;33m:\u001b[0m\u001b[1;33m\u001b[0m\u001b[1;33m\u001b[0m\u001b[0m\n",
      "\u001b[1;32m~\\Anaconda3\\lib\\site-packages\\joblib\\parallel.py\u001b[0m in \u001b[0;36m__call__\u001b[1;34m(self, iterable)\u001b[0m\n\u001b[0;32m    919\u001b[0m             \u001b[1;31m# remaining jobs.\u001b[0m\u001b[1;33m\u001b[0m\u001b[1;33m\u001b[0m\u001b[1;33m\u001b[0m\u001b[0m\n\u001b[0;32m    920\u001b[0m             \u001b[0mself\u001b[0m\u001b[1;33m.\u001b[0m\u001b[0m_iterating\u001b[0m \u001b[1;33m=\u001b[0m \u001b[1;32mFalse\u001b[0m\u001b[1;33m\u001b[0m\u001b[1;33m\u001b[0m\u001b[0m\n\u001b[1;32m--> 921\u001b[1;33m             \u001b[1;32mif\u001b[0m \u001b[0mself\u001b[0m\u001b[1;33m.\u001b[0m\u001b[0mdispatch_one_batch\u001b[0m\u001b[1;33m(\u001b[0m\u001b[0miterator\u001b[0m\u001b[1;33m)\u001b[0m\u001b[1;33m:\u001b[0m\u001b[1;33m\u001b[0m\u001b[1;33m\u001b[0m\u001b[0m\n\u001b[0m\u001b[0;32m    922\u001b[0m                 \u001b[0mself\u001b[0m\u001b[1;33m.\u001b[0m\u001b[0m_iterating\u001b[0m \u001b[1;33m=\u001b[0m \u001b[0mself\u001b[0m\u001b[1;33m.\u001b[0m\u001b[0m_original_iterator\u001b[0m \u001b[1;32mis\u001b[0m \u001b[1;32mnot\u001b[0m \u001b[1;32mNone\u001b[0m\u001b[1;33m\u001b[0m\u001b[1;33m\u001b[0m\u001b[0m\n\u001b[0;32m    923\u001b[0m \u001b[1;33m\u001b[0m\u001b[0m\n",
      "\u001b[1;32m~\\Anaconda3\\lib\\site-packages\\joblib\\parallel.py\u001b[0m in \u001b[0;36mdispatch_one_batch\u001b[1;34m(self, iterator)\u001b[0m\n\u001b[0;32m    757\u001b[0m                 \u001b[1;32mreturn\u001b[0m \u001b[1;32mFalse\u001b[0m\u001b[1;33m\u001b[0m\u001b[1;33m\u001b[0m\u001b[0m\n\u001b[0;32m    758\u001b[0m             \u001b[1;32melse\u001b[0m\u001b[1;33m:\u001b[0m\u001b[1;33m\u001b[0m\u001b[1;33m\u001b[0m\u001b[0m\n\u001b[1;32m--> 759\u001b[1;33m                 \u001b[0mself\u001b[0m\u001b[1;33m.\u001b[0m\u001b[0m_dispatch\u001b[0m\u001b[1;33m(\u001b[0m\u001b[0mtasks\u001b[0m\u001b[1;33m)\u001b[0m\u001b[1;33m\u001b[0m\u001b[1;33m\u001b[0m\u001b[0m\n\u001b[0m\u001b[0;32m    760\u001b[0m                 \u001b[1;32mreturn\u001b[0m \u001b[1;32mTrue\u001b[0m\u001b[1;33m\u001b[0m\u001b[1;33m\u001b[0m\u001b[0m\n\u001b[0;32m    761\u001b[0m \u001b[1;33m\u001b[0m\u001b[0m\n",
      "\u001b[1;32m~\\Anaconda3\\lib\\site-packages\\joblib\\parallel.py\u001b[0m in \u001b[0;36m_dispatch\u001b[1;34m(self, batch)\u001b[0m\n\u001b[0;32m    714\u001b[0m         \u001b[1;32mwith\u001b[0m \u001b[0mself\u001b[0m\u001b[1;33m.\u001b[0m\u001b[0m_lock\u001b[0m\u001b[1;33m:\u001b[0m\u001b[1;33m\u001b[0m\u001b[1;33m\u001b[0m\u001b[0m\n\u001b[0;32m    715\u001b[0m             \u001b[0mjob_idx\u001b[0m \u001b[1;33m=\u001b[0m \u001b[0mlen\u001b[0m\u001b[1;33m(\u001b[0m\u001b[0mself\u001b[0m\u001b[1;33m.\u001b[0m\u001b[0m_jobs\u001b[0m\u001b[1;33m)\u001b[0m\u001b[1;33m\u001b[0m\u001b[1;33m\u001b[0m\u001b[0m\n\u001b[1;32m--> 716\u001b[1;33m             \u001b[0mjob\u001b[0m \u001b[1;33m=\u001b[0m \u001b[0mself\u001b[0m\u001b[1;33m.\u001b[0m\u001b[0m_backend\u001b[0m\u001b[1;33m.\u001b[0m\u001b[0mapply_async\u001b[0m\u001b[1;33m(\u001b[0m\u001b[0mbatch\u001b[0m\u001b[1;33m,\u001b[0m \u001b[0mcallback\u001b[0m\u001b[1;33m=\u001b[0m\u001b[0mcb\u001b[0m\u001b[1;33m)\u001b[0m\u001b[1;33m\u001b[0m\u001b[1;33m\u001b[0m\u001b[0m\n\u001b[0m\u001b[0;32m    717\u001b[0m             \u001b[1;31m# A job can complete so quickly than its callback is\u001b[0m\u001b[1;33m\u001b[0m\u001b[1;33m\u001b[0m\u001b[1;33m\u001b[0m\u001b[0m\n\u001b[0;32m    718\u001b[0m             \u001b[1;31m# called before we get here, causing self._jobs to\u001b[0m\u001b[1;33m\u001b[0m\u001b[1;33m\u001b[0m\u001b[1;33m\u001b[0m\u001b[0m\n",
      "\u001b[1;32m~\\Anaconda3\\lib\\site-packages\\joblib\\_parallel_backends.py\u001b[0m in \u001b[0;36mapply_async\u001b[1;34m(self, func, callback)\u001b[0m\n\u001b[0;32m    180\u001b[0m     \u001b[1;32mdef\u001b[0m \u001b[0mapply_async\u001b[0m\u001b[1;33m(\u001b[0m\u001b[0mself\u001b[0m\u001b[1;33m,\u001b[0m \u001b[0mfunc\u001b[0m\u001b[1;33m,\u001b[0m \u001b[0mcallback\u001b[0m\u001b[1;33m=\u001b[0m\u001b[1;32mNone\u001b[0m\u001b[1;33m)\u001b[0m\u001b[1;33m:\u001b[0m\u001b[1;33m\u001b[0m\u001b[1;33m\u001b[0m\u001b[0m\n\u001b[0;32m    181\u001b[0m         \u001b[1;34m\"\"\"Schedule a func to be run\"\"\"\u001b[0m\u001b[1;33m\u001b[0m\u001b[1;33m\u001b[0m\u001b[0m\n\u001b[1;32m--> 182\u001b[1;33m         \u001b[0mresult\u001b[0m \u001b[1;33m=\u001b[0m \u001b[0mImmediateResult\u001b[0m\u001b[1;33m(\u001b[0m\u001b[0mfunc\u001b[0m\u001b[1;33m)\u001b[0m\u001b[1;33m\u001b[0m\u001b[1;33m\u001b[0m\u001b[0m\n\u001b[0m\u001b[0;32m    183\u001b[0m         \u001b[1;32mif\u001b[0m \u001b[0mcallback\u001b[0m\u001b[1;33m:\u001b[0m\u001b[1;33m\u001b[0m\u001b[1;33m\u001b[0m\u001b[0m\n\u001b[0;32m    184\u001b[0m             \u001b[0mcallback\u001b[0m\u001b[1;33m(\u001b[0m\u001b[0mresult\u001b[0m\u001b[1;33m)\u001b[0m\u001b[1;33m\u001b[0m\u001b[1;33m\u001b[0m\u001b[0m\n",
      "\u001b[1;32m~\\Anaconda3\\lib\\site-packages\\joblib\\_parallel_backends.py\u001b[0m in \u001b[0;36m__init__\u001b[1;34m(self, batch)\u001b[0m\n\u001b[0;32m    547\u001b[0m         \u001b[1;31m# Don't delay the application, to avoid keeping the input\u001b[0m\u001b[1;33m\u001b[0m\u001b[1;33m\u001b[0m\u001b[1;33m\u001b[0m\u001b[0m\n\u001b[0;32m    548\u001b[0m         \u001b[1;31m# arguments in memory\u001b[0m\u001b[1;33m\u001b[0m\u001b[1;33m\u001b[0m\u001b[1;33m\u001b[0m\u001b[0m\n\u001b[1;32m--> 549\u001b[1;33m         \u001b[0mself\u001b[0m\u001b[1;33m.\u001b[0m\u001b[0mresults\u001b[0m \u001b[1;33m=\u001b[0m \u001b[0mbatch\u001b[0m\u001b[1;33m(\u001b[0m\u001b[1;33m)\u001b[0m\u001b[1;33m\u001b[0m\u001b[1;33m\u001b[0m\u001b[0m\n\u001b[0m\u001b[0;32m    550\u001b[0m \u001b[1;33m\u001b[0m\u001b[0m\n\u001b[0;32m    551\u001b[0m     \u001b[1;32mdef\u001b[0m \u001b[0mget\u001b[0m\u001b[1;33m(\u001b[0m\u001b[0mself\u001b[0m\u001b[1;33m)\u001b[0m\u001b[1;33m:\u001b[0m\u001b[1;33m\u001b[0m\u001b[1;33m\u001b[0m\u001b[0m\n",
      "\u001b[1;32m~\\Anaconda3\\lib\\site-packages\\joblib\\parallel.py\u001b[0m in \u001b[0;36m__call__\u001b[1;34m(self)\u001b[0m\n\u001b[0;32m    223\u001b[0m         \u001b[1;32mwith\u001b[0m \u001b[0mparallel_backend\u001b[0m\u001b[1;33m(\u001b[0m\u001b[0mself\u001b[0m\u001b[1;33m.\u001b[0m\u001b[0m_backend\u001b[0m\u001b[1;33m,\u001b[0m \u001b[0mn_jobs\u001b[0m\u001b[1;33m=\u001b[0m\u001b[0mself\u001b[0m\u001b[1;33m.\u001b[0m\u001b[0m_n_jobs\u001b[0m\u001b[1;33m)\u001b[0m\u001b[1;33m:\u001b[0m\u001b[1;33m\u001b[0m\u001b[1;33m\u001b[0m\u001b[0m\n\u001b[0;32m    224\u001b[0m             return [func(*args, **kwargs)\n\u001b[1;32m--> 225\u001b[1;33m                     for func, args, kwargs in self.items]\n\u001b[0m\u001b[0;32m    226\u001b[0m \u001b[1;33m\u001b[0m\u001b[0m\n\u001b[0;32m    227\u001b[0m     \u001b[1;32mdef\u001b[0m \u001b[0m__len__\u001b[0m\u001b[1;33m(\u001b[0m\u001b[0mself\u001b[0m\u001b[1;33m)\u001b[0m\u001b[1;33m:\u001b[0m\u001b[1;33m\u001b[0m\u001b[1;33m\u001b[0m\u001b[0m\n",
      "\u001b[1;32m~\\Anaconda3\\lib\\site-packages\\joblib\\parallel.py\u001b[0m in \u001b[0;36m<listcomp>\u001b[1;34m(.0)\u001b[0m\n\u001b[0;32m    223\u001b[0m         \u001b[1;32mwith\u001b[0m \u001b[0mparallel_backend\u001b[0m\u001b[1;33m(\u001b[0m\u001b[0mself\u001b[0m\u001b[1;33m.\u001b[0m\u001b[0m_backend\u001b[0m\u001b[1;33m,\u001b[0m \u001b[0mn_jobs\u001b[0m\u001b[1;33m=\u001b[0m\u001b[0mself\u001b[0m\u001b[1;33m.\u001b[0m\u001b[0m_n_jobs\u001b[0m\u001b[1;33m)\u001b[0m\u001b[1;33m:\u001b[0m\u001b[1;33m\u001b[0m\u001b[1;33m\u001b[0m\u001b[0m\n\u001b[0;32m    224\u001b[0m             return [func(*args, **kwargs)\n\u001b[1;32m--> 225\u001b[1;33m                     for func, args, kwargs in self.items]\n\u001b[0m\u001b[0;32m    226\u001b[0m \u001b[1;33m\u001b[0m\u001b[0m\n\u001b[0;32m    227\u001b[0m     \u001b[1;32mdef\u001b[0m \u001b[0m__len__\u001b[0m\u001b[1;33m(\u001b[0m\u001b[0mself\u001b[0m\u001b[1;33m)\u001b[0m\u001b[1;33m:\u001b[0m\u001b[1;33m\u001b[0m\u001b[1;33m\u001b[0m\u001b[0m\n",
      "\u001b[1;32m~\\Anaconda3\\lib\\site-packages\\sklearn\\neighbors\\_base.py\u001b[0m in \u001b[0;36m_tree_query_parallel_helper\u001b[1;34m(tree, *args, **kwargs)\u001b[0m\n\u001b[0;32m    489\u001b[0m     \u001b[0munder\u001b[0m \u001b[0mPyPy\u001b[0m\u001b[1;33m.\u001b[0m\u001b[1;33m\u001b[0m\u001b[1;33m\u001b[0m\u001b[0m\n\u001b[0;32m    490\u001b[0m     \"\"\"\n\u001b[1;32m--> 491\u001b[1;33m     \u001b[1;32mreturn\u001b[0m \u001b[0mtree\u001b[0m\u001b[1;33m.\u001b[0m\u001b[0mquery\u001b[0m\u001b[1;33m(\u001b[0m\u001b[1;33m*\u001b[0m\u001b[0margs\u001b[0m\u001b[1;33m,\u001b[0m \u001b[1;33m**\u001b[0m\u001b[0mkwargs\u001b[0m\u001b[1;33m)\u001b[0m\u001b[1;33m\u001b[0m\u001b[1;33m\u001b[0m\u001b[0m\n\u001b[0m\u001b[0;32m    492\u001b[0m \u001b[1;33m\u001b[0m\u001b[0m\n\u001b[0;32m    493\u001b[0m \u001b[1;33m\u001b[0m\u001b[0m\n",
      "\u001b[1;31mKeyboardInterrupt\u001b[0m: "
     ]
    }
   ],
   "source": [
    "# KNN\n",
    "\n",
    "from sklearn.model_selection import GridSearchCV\n",
    "from sklearn.neighbors import KNeighborsClassifier\n",
    "\n",
    "knn = KNeighborsClassifier()\n",
    "\n",
    "# define a list of parameters\n",
    "\n",
    "param_knn = {'n_neighbors': range(1,10)}\n",
    "\n",
    "#apply grid search\n",
    "grid_knn = GridSearchCV(knn, param_knn, cv=5,verbose=True, return_train_score=True,n_jobs=-1)\n",
    "grid_knn.fit(X_train, y_train)\n",
    "\n",
    "# Mean Cross Validation Score\n",
    "print(\"Best Mean Cross-validation score: {:.2f}\".format(grid_knn.best_score_))\n",
    "print()\n",
    "\n",
    "#find best parameters\n",
    "print('KNN parameters: ', grid_knn.best_params_)\n",
    "\n",
    "# Check train data set performance\n",
    "print(\"KNN Train Performance: \", grid_knn.score(X_train,y_train))\n",
    "\n",
    "\n",
    "# Check test data set performance\n",
    "print(\"KNN Test Performance: \", grid_knn.score(X_test,y_test))"
   ]
  },
  {
   "cell_type": "code",
   "execution_count": null,
   "metadata": {},
   "outputs": [],
   "source": [
    "pred_test = grid_knn.predict(X_test)\n",
    "pred_train=grid_knn.predict(X_train)\n",
    "print(classification_report(y_test,pred_test))"
   ]
  },
  {
   "cell_type": "code",
   "execution_count": 171,
   "metadata": {},
   "outputs": [
    {
     "name": "stdout",
     "output_type": "stream",
     "text": [
      "Fitting 5 folds for each of 6 candidates, totalling 30 fits\n"
     ]
    },
    {
     "name": "stderr",
     "output_type": "stream",
     "text": [
      "[Parallel(n_jobs=-1)]: Using backend LokyBackend with 8 concurrent workers.\n",
      "[Parallel(n_jobs=-1)]: Done  30 out of  30 | elapsed:  1.3min finished\n"
     ]
    },
    {
     "data": {
      "text/plain": [
       "GridSearchCV(cv=5, error_score=nan,\n",
       "             estimator=BaggingClassifier(base_estimator=DecisionTreeClassifier(ccp_alpha=0.0,\n",
       "                                                                               class_weight=None,\n",
       "                                                                               criterion='gini',\n",
       "                                                                               max_depth=8,\n",
       "                                                                               max_features=None,\n",
       "                                                                               max_leaf_nodes=5,\n",
       "                                                                               min_impurity_decrease=0.0,\n",
       "                                                                               min_impurity_split=None,\n",
       "                                                                               min_samples_leaf=1,\n",
       "                                                                               min_samples_split=3,\n",
       "                                                                               min_weight_fraction_leaf=0.0,\n",
       "                                                                               presort='deprecated',\n",
       "                                                                               random_state=None,\n",
       "                                                                               splitter='random'),\n",
       "                                         bootstrap=True,\n",
       "                                         bootstrap_features=False,\n",
       "                                         max_features=1.0, max_samples=1.0,\n",
       "                                         n_estimators=10, n_jobs=None,\n",
       "                                         oob_score=True, random_state=0,\n",
       "                                         verbose=0, warm_start=False),\n",
       "             iid='deprecated', n_jobs=-1,\n",
       "             param_grid={'max_samples': [0.8, 1],\n",
       "                         'n_estimators': [10, 25, 100]},\n",
       "             pre_dispatch='2*n_jobs', refit=True, return_train_score=True,\n",
       "             scoring=None, verbose=True)"
      ]
     },
     "execution_count": 171,
     "metadata": {},
     "output_type": "execute_result"
    }
   ],
   "source": [
    "from sklearn.ensemble import BaggingClassifier\n",
    "from sklearn.tree import DecisionTreeClassifier\n",
    "\n",
    "bag_dtree2 = BaggingClassifier(DecisionTreeClassifier(max_depth= 8, max_leaf_nodes=5, min_samples_split= 3, splitter= 'random'), bootstrap=True, random_state=0, oob_score=True)\n",
    "\n",
    "bag_dtree2_param = {\n",
    "                 'max_samples':  [0.8,1],\n",
    "                 'n_estimators': [10,25,100]}\n",
    "bag_dtree2_grid = GridSearchCV(bag_dtree2, bag_dtree2_param,cv=5, n_jobs=-1,verbose=True,return_train_score=True, )\n",
    "bag_dtree2_grid.fit(X_train,y_train)"
   ]
  },
  {
   "cell_type": "code",
   "execution_count": 172,
   "metadata": {},
   "outputs": [
    {
     "name": "stdout",
     "output_type": "stream",
     "text": [
      "Best Mean Cross Validation Score is 0.9343138695258821\n",
      "Best Mean Cross Validation Score is {'max_samples': 0.8, 'n_estimators': 10}\n",
      "Train score is 0.9331086510133024\n",
      "Test score is 0.931048849078221\n"
     ]
    },
    {
     "ename": "NameError",
     "evalue": "name 'accuracy_score' is not defined",
     "output_type": "error",
     "traceback": [
      "\u001b[1;31m---------------------------------------------------------------------------\u001b[0m",
      "\u001b[1;31mNameError\u001b[0m                                 Traceback (most recent call last)",
      "\u001b[1;32m<ipython-input-172-e5ea436c66c0>\u001b[0m in \u001b[0;36m<module>\u001b[1;34m\u001b[0m\n\u001b[0;32m      4\u001b[0m \u001b[0mprint\u001b[0m\u001b[1;33m(\u001b[0m\u001b[1;34mf'Test score is {bag_dtree2_grid.score(X_test,y_test)}'\u001b[0m\u001b[1;33m)\u001b[0m\u001b[1;33m\u001b[0m\u001b[1;33m\u001b[0m\u001b[0m\n\u001b[0;32m      5\u001b[0m \u001b[0my_pred\u001b[0m \u001b[1;33m=\u001b[0m \u001b[0mbag_dtree2_grid\u001b[0m\u001b[1;33m.\u001b[0m\u001b[0mpredict\u001b[0m\u001b[1;33m(\u001b[0m\u001b[0mX_test\u001b[0m\u001b[1;33m)\u001b[0m\u001b[1;33m\u001b[0m\u001b[1;33m\u001b[0m\u001b[0m\n\u001b[1;32m----> 6\u001b[1;33m \u001b[0mprint\u001b[0m\u001b[1;33m(\u001b[0m\u001b[1;34m'Accuracy Score:'\u001b[0m\u001b[1;33m,\u001b[0m\u001b[0maccuracy_score\u001b[0m\u001b[1;33m(\u001b[0m\u001b[0my_test\u001b[0m\u001b[1;33m,\u001b[0m \u001b[0my_pred\u001b[0m\u001b[1;33m)\u001b[0m\u001b[1;33m)\u001b[0m\u001b[1;33m\u001b[0m\u001b[1;33m\u001b[0m\u001b[0m\n\u001b[0m",
      "\u001b[1;31mNameError\u001b[0m: name 'accuracy_score' is not defined"
     ]
    }
   ],
   "source": [
    "print(f'Best Mean Cross Validation Score is {bag_dtree2_grid.best_score_}')\n",
    "print(f'Best Mean Cross Validation Score is {bag_dtree2_grid.best_params_}')\n",
    "print(f'Train score is {bag_dtree2_grid.score(X_train,y_train)}')\n",
    "print(f'Test score is {bag_dtree2_grid.score(X_test,y_test)}')\n",
    "y_pred = bag_dtree2_grid.predict(X_test)\n",
    "print('Accuracy Score:',accuracy_score(y_test, y_pred))"
   ]
  },
  {
   "cell_type": "code",
   "execution_count": 174,
   "metadata": {},
   "outputs": [
    {
     "name": "stdout",
     "output_type": "stream",
     "text": [
      "                    precision    recall  f1-score   support\n",
      "\n",
      "          Employed       1.00      0.97      0.99     12277\n",
      "Not in labor force       0.82      1.00      0.90      5927\n",
      "        Unemployed       0.00      0.00      0.00       998\n",
      "\n",
      "          accuracy                           0.93     19202\n",
      "         macro avg       0.61      0.66      0.63     19202\n",
      "      weighted avg       0.89      0.93      0.91     19202\n",
      "\n"
     ]
    }
   ],
   "source": [
    "pred_test = bag_dtree2_grid.predict(X_test)\n",
    "pred_train=bag_dtree2_grid.predict(X_train)\n",
    "print(classification_report(y_test,pred_test))"
   ]
  },
  {
   "cell_type": "markdown",
   "metadata": {},
   "source": [
    "Random Forest"
   ]
  },
  {
   "cell_type": "code",
   "execution_count": 179,
   "metadata": {},
   "outputs": [
    {
     "name": "stdout",
     "output_type": "stream",
     "text": [
      "Fitting 5 folds for each of 48 candidates, totalling 240 fits\n"
     ]
    },
    {
     "name": "stderr",
     "output_type": "stream",
     "text": [
      "[Parallel(n_jobs=-1)]: Using backend LokyBackend with 8 concurrent workers.\n",
      "[Parallel(n_jobs=-1)]: Done  34 tasks      | elapsed:  1.3min\n",
      "[Parallel(n_jobs=-1)]: Done 184 tasks      | elapsed:  8.3min\n",
      "[Parallel(n_jobs=-1)]: Done 240 out of 240 | elapsed: 11.2min finished\n"
     ]
    },
    {
     "data": {
      "text/plain": [
       "GridSearchCV(cv=5, error_score=nan,\n",
       "             estimator=RandomForestClassifier(bootstrap=True, ccp_alpha=0.0,\n",
       "                                              class_weight=None,\n",
       "                                              criterion='gini', max_depth=None,\n",
       "                                              max_features='auto',\n",
       "                                              max_leaf_nodes=None,\n",
       "                                              max_samples=None,\n",
       "                                              min_impurity_decrease=0.0,\n",
       "                                              min_impurity_split=None,\n",
       "                                              min_samples_leaf=1,\n",
       "                                              min_samples_split=2,\n",
       "                                              min_weight_fraction_leaf=0.0,\n",
       "                                              n_estimators=100, n_jobs=None,\n",
       "                                              oob_score=False, random_state=42,\n",
       "                                              verbose=0, warm_start=False),\n",
       "             iid='deprecated', n_jobs=-1,\n",
       "             param_grid={'criterion': ['gini', 'entropy'],\n",
       "                         'max_depth': [2, 4, 5, 6, 7, 8],\n",
       "                         'max_features': ['auto', 'log2'],\n",
       "                         'n_estimators': [200, 500]},\n",
       "             pre_dispatch='2*n_jobs', refit=True, return_train_score=True,\n",
       "             scoring=None, verbose=True)"
      ]
     },
     "execution_count": 179,
     "metadata": {},
     "output_type": "execute_result"
    }
   ],
   "source": [
    "from sklearn.ensemble import RandomForestClassifier\n",
    "rfc =RandomForestClassifier(random_state=42)\n",
    "rfc_param = { \n",
    "    'n_estimators': [200, 500],\n",
    "    'max_features': ['auto', 'log2'],\n",
    "    'max_depth' : [2,4,5,6,7,8],\n",
    "    'criterion' :['gini', 'entropy']\n",
    "}\n",
    "\n",
    "rfc_grid = GridSearchCV(rfc, rfc_param,cv=5, verbose=True, return_train_score=True,n_jobs=-1 )\n",
    "rfc_grid.fit(X_train,y_train)"
   ]
  },
  {
   "cell_type": "code",
   "execution_count": 180,
   "metadata": {},
   "outputs": [
    {
     "name": "stdout",
     "output_type": "stream",
     "text": [
      "Best Mean Cross Validation Score is 0.9458084337685527\n",
      "Best Mean Cross Validation Score is {'criterion': 'entropy', 'max_depth': 8, 'max_features': 'auto', 'n_estimators': 200}\n",
      "Train score is 0.947616284260334\n",
      "Test score is 0.9441724820331215\n"
     ]
    }
   ],
   "source": [
    "print(f'Best Mean Cross Validation Score is {rfc_grid.best_score_}')\n",
    "print(f'Best Mean Cross Validation Score is {rfc_grid.best_params_}')\n",
    "print(f'Train score is {rfc_grid.score(X_train,y_train)}')\n",
    "print(f'Test score is {rfc_grid.score(X_test,y_test)}')"
   ]
  },
  {
   "cell_type": "code",
   "execution_count": 181,
   "metadata": {},
   "outputs": [
    {
     "name": "stdout",
     "output_type": "stream",
     "text": [
      "                    precision    recall  f1-score   support\n",
      "\n",
      "          Employed       1.00      0.98      0.99     12277\n",
      "Not in labor force       0.85      1.00      0.92      5927\n",
      "        Unemployed       0.88      0.14      0.25       998\n",
      "\n",
      "          accuracy                           0.94     19202\n",
      "         macro avg       0.91      0.71      0.72     19202\n",
      "      weighted avg       0.95      0.94      0.93     19202\n",
      "\n"
     ]
    }
   ],
   "source": [
    "pred_test = rfc_grid.predict(X_test)\n",
    "pred_train=rfc_grid.predict(X_train)\n",
    "print(classification_report(y_test,pred_test))"
   ]
  },
  {
   "cell_type": "markdown",
   "metadata": {},
   "source": [
    "Ada-Boost"
   ]
  },
  {
   "cell_type": "code",
   "execution_count": 173,
   "metadata": {},
   "outputs": [
    {
     "name": "stdout",
     "output_type": "stream",
     "text": [
      "Fitting 5 folds for each of 72 candidates, totalling 360 fits\n"
     ]
    },
    {
     "name": "stderr",
     "output_type": "stream",
     "text": [
      "[Parallel(n_jobs=-1)]: Using backend LokyBackend with 8 concurrent workers.\n",
      "[Parallel(n_jobs=-1)]: Done  34 tasks      | elapsed:  4.1min\n",
      "[Parallel(n_jobs=-1)]: Done 184 tasks      | elapsed: 29.2min\n",
      "[Parallel(n_jobs=-1)]: Done 360 out of 360 | elapsed: 56.7min finished\n"
     ]
    },
    {
     "data": {
      "text/plain": [
       "GridSearchCV(cv=5, error_score=nan,\n",
       "             estimator=AdaBoostClassifier(algorithm='SAMME.R',\n",
       "                                          base_estimator=DecisionTreeClassifier(ccp_alpha=0.0,\n",
       "                                                                                class_weight=None,\n",
       "                                                                                criterion='gini',\n",
       "                                                                                max_depth=None,\n",
       "                                                                                max_features=None,\n",
       "                                                                                max_leaf_nodes=None,\n",
       "                                                                                min_impurity_decrease=0.0,\n",
       "                                                                                min_impurity_split=None,\n",
       "                                                                                min_samples_leaf=1,\n",
       "                                                                                min_samples_split=2,\n",
       "                                                                                min_weight_fraction_leaf=0.0,\n",
       "                                                                                presort='...\n",
       "                                          learning_rate=1.0, n_estimators=50,\n",
       "                                          random_state=42),\n",
       "             iid='deprecated', n_jobs=-1,\n",
       "             param_grid={'base_estimator__criterion': ['gini', 'entropy'],\n",
       "                         'base_estimator__max_depth': [2, 4, 6],\n",
       "                         'base_estimator__splitter': ['best', 'random'],\n",
       "                         'learning_rate': [0.5, 0.2, 1],\n",
       "                         'n_estimators': [100, 150]},\n",
       "             pre_dispatch='2*n_jobs', refit=True, return_train_score=True,\n",
       "             scoring=None, verbose=True)"
      ]
     },
     "execution_count": 173,
     "metadata": {},
     "output_type": "execute_result"
    }
   ],
   "source": [
    "from sklearn.ensemble import AdaBoostClassifier\n",
    "from sklearn.tree import DecisionTreeClassifier\n",
    "adc_dtree =AdaBoostClassifier(base_estimator=DecisionTreeClassifier(),random_state=42)\n",
    "adc_dtree_param = {\n",
    "              'base_estimator__criterion' : [\"gini\", \"entropy\"],\n",
    "              'base_estimator__splitter' :   [\"best\", \"random\"],\n",
    "              'base_estimator__max_depth' : [2,4,6],\n",
    "              'n_estimators' : [100,150],\n",
    "              'learning_rate' : [0.5,0.2,1],\n",
    "             }\n",
    "adc_dtree_grid = GridSearchCV(adc_dtree, adc_dtree_param,cv=5, verbose=True, return_train_score=True,n_jobs=-1 )\n",
    "adc_dtree_grid.fit(X_train,y_train)"
   ]
  },
  {
   "cell_type": "code",
   "execution_count": 177,
   "metadata": {},
   "outputs": [
    {
     "name": "stdout",
     "output_type": "stream",
     "text": [
      "Best Mean Cross Validation Score is 0.9467235176837725\n",
      "Best Mean Cross Validation Score is {'base_estimator__criterion': 'gini', 'base_estimator__max_depth': 2, 'base_estimator__splitter': 'best', 'learning_rate': 0.2, 'n_estimators': 100}\n",
      "Train score is 0.946812784572806\n",
      "Test score is 0.9450057285699406\n"
     ]
    }
   ],
   "source": [
    "print(f'Best Mean Cross Validation Score is {adc_dtree_grid.best_score_}')\n",
    "print(f'Best Mean Cross Validation Score is {adc_dtree_grid.best_params_}')\n",
    "print(f'Train score is {adc_dtree_grid.score(X_train,y_train)}')\n",
    "print(f'Test score is {adc_dtree_grid.score(X_test,y_test)}')"
   ]
  },
  {
   "cell_type": "code",
   "execution_count": 178,
   "metadata": {},
   "outputs": [
    {
     "name": "stdout",
     "output_type": "stream",
     "text": [
      "                    precision    recall  f1-score   support\n",
      "\n",
      "          Employed       1.00      0.98      0.99     12277\n",
      "Not in labor force       0.85      1.00      0.92      5927\n",
      "        Unemployed       0.88      0.16      0.27       998\n",
      "\n",
      "          accuracy                           0.95     19202\n",
      "         macro avg       0.91      0.71      0.73     19202\n",
      "      weighted avg       0.95      0.95      0.93     19202\n",
      "\n"
     ]
    }
   ],
   "source": [
    "pred_test = adc_dtree_grid.predict(X_test)\n",
    "pred_train=adc_dtree_grid.predict(X_train)\n",
    "print(classification_report(y_test,pred_test))"
   ]
  },
  {
   "cell_type": "markdown",
   "metadata": {},
   "source": [
    "XG Boost"
   ]
  },
  {
   "cell_type": "code",
   "execution_count": 182,
   "metadata": {},
   "outputs": [
    {
     "name": "stdout",
     "output_type": "stream",
     "text": [
      "Fitting 5 folds for each of 144 candidates, totalling 720 fits\n"
     ]
    },
    {
     "name": "stderr",
     "output_type": "stream",
     "text": [
      "[Parallel(n_jobs=-1)]: Using backend LokyBackend with 8 concurrent workers.\n",
      "[Parallel(n_jobs=-1)]: Done  34 tasks      | elapsed:  2.9min\n",
      "[Parallel(n_jobs=-1)]: Done 184 tasks      | elapsed: 24.0min\n",
      "[Parallel(n_jobs=-1)]: Done 434 tasks      | elapsed: 52.7min\n",
      "[Parallel(n_jobs=-1)]: Done 720 out of 720 | elapsed: 91.8min finished\n"
     ]
    },
    {
     "data": {
      "text/plain": [
       "GridSearchCV(cv=5, error_score=nan,\n",
       "             estimator=XGBClassifier(base_score=None, booster=None,\n",
       "                                     colsample_bylevel=None,\n",
       "                                     colsample_bynode=None,\n",
       "                                     colsample_bytree=None,\n",
       "                                     early_stopping_rounds=2, gamma=None,\n",
       "                                     gpu_id=None, importance_type='gain',\n",
       "                                     interaction_constraints=None,\n",
       "                                     learning_rate=None, max_delta_step=None,\n",
       "                                     max_depth=None, min_child_weight=None,\n",
       "                                     missing=nan, monotone_...\n",
       "                                     random_state=42, reg_alpha=None,\n",
       "                                     reg_lambda=None, scale_pos_weight=None,\n",
       "                                     subsample=None, tree_method=None,\n",
       "                                     validate_parameters=False,\n",
       "                                     verbosity=None),\n",
       "             iid='deprecated', n_jobs=-1,\n",
       "             param_grid={'learning_rate': [0.1, 0.5, 0.6, 0.8],\n",
       "                         'max_depth': [2, 4, 6],\n",
       "                         'min_child_weight': [1, 3, 5, 7],\n",
       "                         'n_estimators': [50, 100, 150]},\n",
       "             pre_dispatch='2*n_jobs', refit=True, return_train_score=True,\n",
       "             scoring=None, verbose=True)"
      ]
     },
     "execution_count": 182,
     "metadata": {},
     "output_type": "execute_result"
    }
   ],
   "source": [
    "from xgboost import XGBClassifier\n",
    "from  xgboost import XGBClassifier\n",
    "xgbc= XGBClassifier(random_state=42,early_stopping_rounds=2,objective= 'binary:logistic')\n",
    "xgbc_param = {\n",
    "              'max_depth' : [2,4,6],\n",
    "              'n_estimators' : [50,100,150],\n",
    "              'learning_rate' : [0.1,0.5,0.6,0.8],\n",
    "               'min_child_weight' : [1,3,5,7],\n",
    "                #'subsample':[0.6,0.7,0.8,0.9,1]\n",
    "             }\n",
    "xgbc_grid = GridSearchCV(xgbc, xgbc_param,cv=5, verbose=True, return_train_score=True,n_jobs=-1 )\n",
    "xgbc_grid.fit(X_train,y_train)"
   ]
  },
  {
   "cell_type": "code",
   "execution_count": 183,
   "metadata": {},
   "outputs": [
    {
     "name": "stdout",
     "output_type": "stream",
     "text": [
      "Best Mean Cross Validation Score is 0.9470583117118625\n",
      "Best Parameters are {'learning_rate': 0.1, 'max_depth': 4, 'min_child_weight': 1, 'n_estimators': 100}\n",
      "Train score is 0.9477278814391572\n",
      "Test score is 0.9452661181126966\n"
     ]
    }
   ],
   "source": [
    "print(f'Best Mean Cross Validation Score is {xgbc_grid.best_score_}')\n",
    "print(f'Best Parameters are {xgbc_grid.best_params_}')\n",
    "print(f'Train score is {xgbc_grid.score(X_train,y_train)}')\n",
    "print(f'Test score is {xgbc_grid.score(X_test,y_test)}')"
   ]
  },
  {
   "cell_type": "code",
   "execution_count": 184,
   "metadata": {},
   "outputs": [
    {
     "name": "stdout",
     "output_type": "stream",
     "text": [
      "                    precision    recall  f1-score   support\n",
      "\n",
      "          Employed       1.00      0.98      0.99     12277\n",
      "Not in labor force       0.85      1.00      0.92      5927\n",
      "        Unemployed       0.85      0.17      0.29       998\n",
      "\n",
      "          accuracy                           0.95     19202\n",
      "         macro avg       0.90      0.72      0.73     19202\n",
      "      weighted avg       0.95      0.95      0.93     19202\n",
      "\n"
     ]
    }
   ],
   "source": [
    "pred_test = xgbc_grid.predict(X_test)\n",
    "pred_train=xgbc_grid.predict(X_train)\n",
    "print(classification_report(y_test,pred_test))"
   ]
  },
  {
   "cell_type": "markdown",
   "metadata": {},
   "source": [
    "# Without outliers"
   ]
  },
  {
   "cell_type": "code",
   "execution_count": 100,
   "metadata": {},
   "outputs": [
    {
     "name": "stdout",
     "output_type": "stream",
     "text": [
      "(35061, 20)\n",
      "(35061,)\n",
      "(15027, 20)\n"
     ]
    }
   ],
   "source": [
    "from sklearn.model_selection import train_test_split\n",
    "\n",
    "X_train,X_test,y_train,y_test=train_test_split(df.drop(['Employment Status'],axis=1),df['Employment Status'],\n",
    "                                                test_size=0.30,random_state=42)\n",
    " \n",
    "print(X_train.shape)\n",
    "print(y_train.shape)\n",
    "print(X_test.shape)"
   ]
  },
  {
   "cell_type": "code",
   "execution_count": 111,
   "metadata": {},
   "outputs": [],
   "source": [
    "from sklearn.model_selection import train_test_split\n",
    "# from feature-engine\n",
    "from feature_engine import missing_data_imputers as mdi\n",
    "# for one hot encoding with feature-engine\n",
    "from feature_engine.categorical_encoders import OneHotCategoricalEncoder\n",
    "from feature_engine.categorical_encoders import RareLabelCategoricalEncoder\n",
    "from sklearn.pipeline import Pipeline as skpipe\n",
    "from sklearn.preprocessing import MinMaxScaler\n",
    "from sklearn.model_selection import GridSearchCV"
   ]
  },
  {
   "cell_type": "code",
   "execution_count": 103,
   "metadata": {},
   "outputs": [],
   "source": [
    "from sklearn.preprocessing import MinMaxScaler\n",
    "time=skpipe([\n",
    "\n",
    "('one hot encoding',OneHotCategoricalEncoder()),\n",
    "('min max scaler',MinMaxScaler())\n",
    "    \n",
    "    \n",
    "])"
   ]
  },
  {
   "cell_type": "code",
   "execution_count": 104,
   "metadata": {},
   "outputs": [
    {
     "data": {
      "text/plain": [
       "Pipeline(memory=None,\n",
       "         steps=[('one hot encoding',\n",
       "                 OneHotCategoricalEncoder(drop_last=False, top_categories=None,\n",
       "                                          variables=['Education Level',\n",
       "                                                     'Age Range', 'Gender',\n",
       "                                                     'Year'])),\n",
       "                ('min max scaler',\n",
       "                 MinMaxScaler(copy=True, feature_range=(0, 1)))],\n",
       "         verbose=False)"
      ]
     },
     "execution_count": 104,
     "metadata": {},
     "output_type": "execute_result"
    }
   ],
   "source": [
    "time.fit(X_train,y_train)"
   ]
  },
  {
   "cell_type": "code",
   "execution_count": 105,
   "metadata": {},
   "outputs": [],
   "source": [
    "X_test=time.transform (X_test)\n",
    "X_train=time.transform(X_train)"
   ]
  },
  {
   "cell_type": "code",
   "execution_count": 107,
   "metadata": {},
   "outputs": [
    {
     "name": "stdout",
     "output_type": "stream",
     "text": [
      "Mean Cross-validation scores: 0.9382505222759232\n",
      "\n",
      "Logistic  Train Performance:  0.9391631727560538\n",
      "Logistic  Test Performance:  0.9420376655353697\n"
     ]
    }
   ],
   "source": [
    "# logistic Regression\n",
    "from sklearn.linear_model import LogisticRegression\n",
    "from sklearn.model_selection import cross_val_score\n",
    "clf = LogisticRegression(random_state=42)\n",
    "clf.fit(X_train, y_train)\n",
    "\n",
    "cv_scores = cross_val_score(clf, X_train, y_train)\n",
    "\n",
    "# Mean Cross validation Score\n",
    "print(\"Mean Cross-validation scores: {}\".format(cv_scores.mean()))\n",
    "print()\n",
    "\n",
    "\n",
    "\n",
    "# Check test data set performance\n",
    "print(\"Logistic  Train Performance: \", clf.score(X_train,y_train))\n",
    "print(\"Logistic  Test Performance: \", clf.score(X_test,y_test))"
   ]
  },
  {
   "cell_type": "code",
   "execution_count": 109,
   "metadata": {},
   "outputs": [
    {
     "name": "stdout",
     "output_type": "stream",
     "text": [
      "                    precision    recall  f1-score   support\n",
      "\n",
      "          Employed       1.00      0.98      0.99      9761\n",
      "Not in labor force       0.84      0.99      0.91      4539\n",
      "        Unemployed       0.74      0.14      0.24       727\n",
      "\n",
      "          accuracy                           0.94     15027\n",
      "         macro avg       0.86      0.71      0.71     15027\n",
      "      weighted avg       0.94      0.94      0.93     15027\n",
      "\n"
     ]
    }
   ],
   "source": [
    "from sklearn.metrics import classification_report\n",
    "\n",
    "pred_test = clf.predict(X_test)\n",
    "pred_train=clf.predict(X_train)\n",
    "print(classification_report(y_test,pred_test))"
   ]
  },
  {
   "cell_type": "code",
   "execution_count": 115,
   "metadata": {},
   "outputs": [
    {
     "name": "stdout",
     "output_type": "stream",
     "text": [
      "Fitting 5 folds for each of 6 candidates, totalling 30 fits\n"
     ]
    },
    {
     "name": "stderr",
     "output_type": "stream",
     "text": [
      "[Parallel(n_jobs=-1)]: Using backend LokyBackend with 8 concurrent workers.\n",
      "[Parallel(n_jobs=-1)]: Done  30 out of  30 | elapsed:   45.4s finished\n"
     ]
    },
    {
     "data": {
      "text/plain": [
       "GridSearchCV(cv=5, error_score=nan,\n",
       "             estimator=BaggingClassifier(base_estimator=DecisionTreeClassifier(ccp_alpha=0.0,\n",
       "                                                                               class_weight=None,\n",
       "                                                                               criterion='gini',\n",
       "                                                                               max_depth=8,\n",
       "                                                                               max_features=None,\n",
       "                                                                               max_leaf_nodes=5,\n",
       "                                                                               min_impurity_decrease=0.0,\n",
       "                                                                               min_impurity_split=None,\n",
       "                                                                               min_samples_leaf=1,\n",
       "                                                                               min_samples_split=3,\n",
       "                                                                               min_weight_fraction_leaf=0.0,\n",
       "                                                                               presort='deprecated',\n",
       "                                                                               random_state=42,\n",
       "                                                                               splitter='random'),\n",
       "                                         bootstrap=True,\n",
       "                                         bootstrap_features=False,\n",
       "                                         max_features=1.0, max_samples=1.0,\n",
       "                                         n_estimators=10, n_jobs=None,\n",
       "                                         oob_score=True, random_state=0,\n",
       "                                         verbose=0, warm_start=False),\n",
       "             iid='deprecated', n_jobs=-1,\n",
       "             param_grid={'max_samples': [0.8, 1],\n",
       "                         'n_estimators': [10, 25, 100]},\n",
       "             pre_dispatch='2*n_jobs', refit=True, return_train_score=True,\n",
       "             scoring=None, verbose=True)"
      ]
     },
     "execution_count": 115,
     "metadata": {},
     "output_type": "execute_result"
    }
   ],
   "source": [
    "# Bagging\n",
    "from sklearn.ensemble import BaggingClassifier\n",
    "from sklearn.tree import DecisionTreeClassifier\n",
    "\n",
    "bag_dtree2 = BaggingClassifier(DecisionTreeClassifier(random_state=42,max_depth= 8, max_leaf_nodes=5, min_samples_split= 3, splitter= 'random'), bootstrap=True, random_state=0, oob_score=True)\n",
    "\n",
    "bag_dtree2_param = {\n",
    "                 'max_samples':  [0.8,1],\n",
    "                 'n_estimators': [10,25,100]}\n",
    "bag_dtree2_grid = GridSearchCV(bag_dtree2, bag_dtree2_param,cv=5, n_jobs=-1,verbose=True,return_train_score=True, )\n",
    "bag_dtree2_grid.fit(X_train,y_train)"
   ]
  },
  {
   "cell_type": "code",
   "execution_count": 116,
   "metadata": {},
   "outputs": [
    {
     "name": "stdout",
     "output_type": "stream",
     "text": [
      "Best Mean Cross Validation Score is 0.9380508604792226\n",
      "Best Mean Cross Validation Score is {'max_samples': 0.8, 'n_estimators': 25}\n",
      "Train score is 0.9381649125809304\n",
      "Test score is 0.9406401810075198\n"
     ]
    }
   ],
   "source": [
    "print(f'Best Mean Cross Validation Score is {bag_dtree2_grid.best_score_}')\n",
    "print(f'Best Mean Cross Validation Score is {bag_dtree2_grid.best_params_}')\n",
    "print(f'Train score is {bag_dtree2_grid.score(X_train,y_train)}')\n",
    "print(f'Test score is {bag_dtree2_grid.score(X_test,y_test)}')"
   ]
  },
  {
   "cell_type": "code",
   "execution_count": 117,
   "metadata": {},
   "outputs": [
    {
     "name": "stdout",
     "output_type": "stream",
     "text": [
      "                    precision    recall  f1-score   support\n",
      "\n",
      "          Employed       1.00      0.98      0.99      9761\n",
      "Not in labor force       0.84      1.00      0.91      4539\n",
      "        Unemployed       0.00      0.00      0.00       727\n",
      "\n",
      "          accuracy                           0.94     15027\n",
      "         macro avg       0.61      0.66      0.63     15027\n",
      "      weighted avg       0.90      0.94      0.92     15027\n",
      "\n"
     ]
    }
   ],
   "source": [
    "pred_test = bag_dtree2_grid.predict(X_test)\n",
    "pred_train=bag_dtree2_grid.predict(X_train)\n",
    "print(classification_report(y_test,pred_test))"
   ]
  },
  {
   "cell_type": "code",
   "execution_count": 118,
   "metadata": {},
   "outputs": [
    {
     "name": "stdout",
     "output_type": "stream",
     "text": [
      "Fitting 5 folds for each of 48 candidates, totalling 240 fits\n"
     ]
    },
    {
     "name": "stderr",
     "output_type": "stream",
     "text": [
      "[Parallel(n_jobs=-1)]: Using backend LokyBackend with 8 concurrent workers.\n",
      "[Parallel(n_jobs=-1)]: Done  34 tasks      | elapsed:   48.4s\n",
      "[Parallel(n_jobs=-1)]: Done 184 tasks      | elapsed:  5.2min\n",
      "[Parallel(n_jobs=-1)]: Done 240 out of 240 | elapsed:  7.1min finished\n"
     ]
    },
    {
     "data": {
      "text/plain": [
       "GridSearchCV(cv=5, error_score=nan,\n",
       "             estimator=RandomForestClassifier(bootstrap=True, ccp_alpha=0.0,\n",
       "                                              class_weight=None,\n",
       "                                              criterion='gini', max_depth=None,\n",
       "                                              max_features='auto',\n",
       "                                              max_leaf_nodes=None,\n",
       "                                              max_samples=None,\n",
       "                                              min_impurity_decrease=0.0,\n",
       "                                              min_impurity_split=None,\n",
       "                                              min_samples_leaf=1,\n",
       "                                              min_samples_split=2,\n",
       "                                              min_weight_fraction_leaf=0.0,\n",
       "                                              n_estimators=100, n_jobs=None,\n",
       "                                              oob_score=False, random_state=42,\n",
       "                                              verbose=0, warm_start=False),\n",
       "             iid='deprecated', n_jobs=-1,\n",
       "             param_grid={'criterion': ['gini', 'entropy'],\n",
       "                         'max_depth': [2, 4, 5, 6, 7, 8],\n",
       "                         'max_features': ['auto', 'log2'],\n",
       "                         'n_estimators': [200, 500]},\n",
       "             pre_dispatch='2*n_jobs', refit=True, return_train_score=True,\n",
       "             scoring=None, verbose=True)"
      ]
     },
     "execution_count": 118,
     "metadata": {},
     "output_type": "execute_result"
    }
   ],
   "source": [
    "# Random Forest\n",
    "\n",
    "from sklearn.ensemble import RandomForestClassifier\n",
    "rfc =RandomForestClassifier(random_state=42)\n",
    "rfc_param = { \n",
    "    'n_estimators': [200, 500],\n",
    "    'max_features': ['auto', 'log2'],\n",
    "    'max_depth' : [2,4,5,6,7,8],\n",
    "    'criterion' :['gini', 'entropy']\n",
    "}\n",
    "\n",
    "rfc_grid = GridSearchCV(rfc, rfc_param,cv=5, verbose=True, return_train_score=True,n_jobs=-1 )\n",
    "rfc_grid.fit(X_train,y_train)"
   ]
  },
  {
   "cell_type": "code",
   "execution_count": 119,
   "metadata": {},
   "outputs": [
    {
     "name": "stdout",
     "output_type": "stream",
     "text": [
      "Best Mean Cross Validation Score is 0.9450671961264343\n",
      "Best Mean Cross Validation Score is {'criterion': 'entropy', 'max_depth': 8, 'max_features': 'auto', 'n_estimators': 500}\n",
      "Train score is 0.9465788197712558\n",
      "Test score is 0.9481599787049977\n"
     ]
    }
   ],
   "source": [
    "print(f'Best Mean Cross Validation Score is {rfc_grid.best_score_}')\n",
    "print(f'Best Mean Cross Validation Score is {rfc_grid.best_params_}')\n",
    "print(f'Train score is {rfc_grid.score(X_train,y_train)}')\n",
    "print(f'Test score is {rfc_grid.score(X_test,y_test)}')"
   ]
  },
  {
   "cell_type": "code",
   "execution_count": 120,
   "metadata": {},
   "outputs": [
    {
     "name": "stdout",
     "output_type": "stream",
     "text": [
      "                    precision    recall  f1-score   support\n",
      "\n",
      "          Employed       1.00      0.99      0.99      9761\n",
      "Not in labor force       0.85      1.00      0.92      4539\n",
      "        Unemployed       0.90      0.14      0.24       727\n",
      "\n",
      "          accuracy                           0.95     15027\n",
      "         macro avg       0.92      0.71      0.72     15027\n",
      "      weighted avg       0.95      0.95      0.93     15027\n",
      "\n"
     ]
    }
   ],
   "source": [
    "pred_test = rfc_grid.predict(X_test)\n",
    "pred_train=rfc_grid.predict(X_train)\n",
    "print(classification_report(y_test,pred_test))"
   ]
  },
  {
   "cell_type": "code",
   "execution_count": 121,
   "metadata": {},
   "outputs": [
    {
     "name": "stdout",
     "output_type": "stream",
     "text": [
      "Fitting 5 folds for each of 72 candidates, totalling 360 fits\n"
     ]
    },
    {
     "name": "stderr",
     "output_type": "stream",
     "text": [
      "[Parallel(n_jobs=-1)]: Using backend LokyBackend with 8 concurrent workers.\n",
      "[Parallel(n_jobs=-1)]: Done  34 tasks      | elapsed:  2.8min\n",
      "[Parallel(n_jobs=-1)]: Done 184 tasks      | elapsed: 19.4min\n",
      "[Parallel(n_jobs=-1)]: Done 360 out of 360 | elapsed: 38.7min finished\n"
     ]
    },
    {
     "data": {
      "text/plain": [
       "GridSearchCV(cv=5, error_score=nan,\n",
       "             estimator=AdaBoostClassifier(algorithm='SAMME.R',\n",
       "                                          base_estimator=DecisionTreeClassifier(ccp_alpha=0.0,\n",
       "                                                                                class_weight=None,\n",
       "                                                                                criterion='gini',\n",
       "                                                                                max_depth=None,\n",
       "                                                                                max_features=None,\n",
       "                                                                                max_leaf_nodes=None,\n",
       "                                                                                min_impurity_decrease=0.0,\n",
       "                                                                                min_impurity_split=None,\n",
       "                                                                                min_samples_leaf=1,\n",
       "                                                                                min_samples_split=2,\n",
       "                                                                                min_weight_fraction_leaf=0.0,\n",
       "                                                                                presort='...\n",
       "                                          learning_rate=1.0, n_estimators=50,\n",
       "                                          random_state=42),\n",
       "             iid='deprecated', n_jobs=-1,\n",
       "             param_grid={'base_estimator__criterion': ['gini', 'entropy'],\n",
       "                         'base_estimator__max_depth': [2, 4, 6],\n",
       "                         'base_estimator__splitter': ['best', 'random'],\n",
       "                         'learning_rate': [0.5, 0.2, 1],\n",
       "                         'n_estimators': [100, 150]},\n",
       "             pre_dispatch='2*n_jobs', refit=True, return_train_score=True,\n",
       "             scoring=None, verbose=True)"
      ]
     },
     "execution_count": 121,
     "metadata": {},
     "output_type": "execute_result"
    }
   ],
   "source": [
    "# Ada boost\n",
    "from sklearn.ensemble import AdaBoostClassifier\n",
    "from sklearn.tree import DecisionTreeClassifier\n",
    "adc_dtree =AdaBoostClassifier(base_estimator=DecisionTreeClassifier(),random_state=42)\n",
    "adc_dtree_param = {\n",
    "              'base_estimator__criterion' : [\"gini\", \"entropy\"],\n",
    "              'base_estimator__splitter' :   [\"best\", \"random\"],\n",
    "              'base_estimator__max_depth' : [2,4,6],\n",
    "              'n_estimators' : [100,150],\n",
    "              'learning_rate' : [0.5,0.2,1],\n",
    "             }\n",
    "adc_dtree_grid = GridSearchCV(adc_dtree, adc_dtree_param,cv=5, verbose=True, return_train_score=True,n_jobs=-1 )\n",
    "adc_dtree_grid.fit(X_train,y_train)"
   ]
  },
  {
   "cell_type": "code",
   "execution_count": 122,
   "metadata": {},
   "outputs": [
    {
     "name": "stdout",
     "output_type": "stream",
     "text": [
      "Best Mean Cross Validation Score is 0.9456376223798862\n",
      "Best Mean Cross Validation Score is {'base_estimator__criterion': 'entropy', 'base_estimator__max_depth': 2, 'base_estimator__splitter': 'best', 'learning_rate': 0.2, 'n_estimators': 100}\n",
      "Train score is 0.9458087333504464\n",
      "Test score is 0.9482265255872763\n"
     ]
    }
   ],
   "source": [
    "print(f'Best Mean Cross Validation Score is {adc_dtree_grid.best_score_}')\n",
    "print(f'Best Mean Cross Validation Score is {adc_dtree_grid.best_params_}')\n",
    "print(f'Train score is {adc_dtree_grid.score(X_train,y_train)}')\n",
    "print(f'Test score is {adc_dtree_grid.score(X_test,y_test)}')"
   ]
  },
  {
   "cell_type": "code",
   "execution_count": 123,
   "metadata": {},
   "outputs": [
    {
     "name": "stdout",
     "output_type": "stream",
     "text": [
      "                    precision    recall  f1-score   support\n",
      "\n",
      "          Employed       1.00      0.99      0.99      9761\n",
      "Not in labor force       0.86      1.00      0.92      4539\n",
      "        Unemployed       0.89      0.15      0.25       727\n",
      "\n",
      "          accuracy                           0.95     15027\n",
      "         macro avg       0.92      0.71      0.72     15027\n",
      "      weighted avg       0.95      0.95      0.94     15027\n",
      "\n"
     ]
    }
   ],
   "source": [
    "pred_test = adc_dtree_grid.predict(X_test)\n",
    "pred_train=adc_dtree_grid.predict(X_train)\n",
    "print(classification_report(y_test,pred_test))"
   ]
  },
  {
   "cell_type": "code",
   "execution_count": null,
   "metadata": {},
   "outputs": [],
   "source": [
    "# XG Boost\n",
    "\n",
    "from xgboost import XGBClassifier\n",
    "from  xgboost import XGBClassifier\n",
    "xgbc= XGBClassifier(random_state=42,early_stopping_rounds=2,objective= 'binary:logistic')\n",
    "xgbc_param = {\n",
    "              'max_depth' : [2,4,6],\n",
    "              'n_estimators' : [50,100,150],\n",
    "              'learning_rate' : [0.1,0.5,0.6,0.8],\n",
    "               'min_child_weight' : [1,3,5,7],\n",
    "                #'subsample':[0.6,0.7,0.8,0.9,1]\n",
    "             }\n",
    "xgbc_grid = GridSearchCV(xgbc, xgbc_param,cv=5, verbose=True, return_train_score=True,n_jobs=-1 )\n",
    "xgbc_grid.fit(X_train,y_train)\n"
   ]
  },
  {
   "cell_type": "code",
   "execution_count": null,
   "metadata": {},
   "outputs": [],
   "source": [
    "print(f'Best Mean Cross Validation Score is {xgbc_grid.best_score_}')\n",
    "print(f'Best Parameters are {xgbc_grid.best_params_}')\n",
    "print(f'Train score is {xgbc_grid.score(X_train,y_train)}')\n",
    "print(f'Test score is {xgbc_grid.score(X_test,y_test)}')"
   ]
  },
  {
   "cell_type": "code",
   "execution_count": null,
   "metadata": {},
   "outputs": [],
   "source": [
    "pred_test = xgbc_grid.predict(X_test)\n",
    "pred_train=xgbc_grid.predict(X_train)\n",
    "print(classification_report(y_test,pred_test))"
   ]
  }
 ],
 "metadata": {
  "kernelspec": {
   "display_name": "Python 3",
   "language": "python",
   "name": "python3"
  },
  "language_info": {
   "codemirror_mode": {
    "name": "ipython",
    "version": 3
   },
   "file_extension": ".py",
   "mimetype": "text/x-python",
   "name": "python",
   "nbconvert_exporter": "python",
   "pygments_lexer": "ipython3",
   "version": "3.7.3"
  }
 },
 "nbformat": 4,
 "nbformat_minor": 2
}
